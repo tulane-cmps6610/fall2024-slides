{
 "cells": [
  {
   "cell_type": "code",
   "execution_count": 1,
   "metadata": {
    "code_folding": [],
    "slideshow": {
     "slide_type": "skip"
    }
   },
   "outputs": [
    {
     "data": {
      "text/html": [
       "<style>.prompt{width: 0px; min-width: 0px; visibility: collapse}</style>"
      ],
      "text/plain": [
       "<IPython.core.display.HTML object>"
      ]
     },
     "metadata": {},
     "output_type": "display_data"
    },
    {
     "data": {
      "text/html": [
       "<style>\n",
       "div#notebook {\n",
       " font-family: \"Exo_2\", sans-serif;\n",
       "}\n",
       "\n",
       ".rendered_html h1,\n",
       ".text_cell_render h1 {\n",
       " color: #126dce;\n",
       " font-size: 220%;\n",
       " text-align: center;\n",
       " font-weight: lighter;\n",
       "}\n",
       ".rendered_html h2,\n",
       ".text_cell_render h2 {\n",
       " text-align: center;\n",
       " font-size: 170%;\n",
       " color: #126dce;\n",
       " font-style: normal;\n",
       " font-weight: lighter;\n",
       "}\n",
       ".rendered_html h3,\n",
       ".text_cell_render h3 {\n",
       " font-size: 150%;\n",
       " color: #126dce;\n",
       " font-weight: lighter;\n",
       " text-decoration: italic;\n",
       " font-style: normal;\n",
       "}\n",
       ".rendered_html h4,\n",
       ".text_cell_render h4 {\n",
       " font-size: 120%;\n",
       " color: #126dce;\n",
       " font-weight: underline;\n",
       " font-style: normal;\n",
       "}\n",
       ".rendered_html h5,\n",
       ".text_cell_render h5 {\n",
       " font-size: 100%;\n",
       " color: #2f2f2f;\n",
       " font-weight: lighter;\n",
       " text-decoration: underline;\n",
       "}\n",
       "</style>\n"
      ],
      "text/plain": [
       "<IPython.core.display.HTML object>"
      ]
     },
     "metadata": {},
     "output_type": "display_data"
    }
   ],
   "source": [
    "# setup\n",
    "from IPython.core.display import display,HTML\n",
    "display(HTML('<style>.prompt{width: 0px; min-width: 0px; visibility: collapse}</style>'))\n",
    "display(HTML(open('../rise.css').read()))\n",
    "\n",
    "# imports\n",
    "import numpy as np\n",
    "import matplotlib.pyplot as plt\n",
    "import seaborn as sns\n",
    "%matplotlib inline\n",
    "sns.set(style=\"whitegrid\", font_scale=1.5, rc={'figure.figsize':(12, 6)})\n"
   ]
  },
  {
   "cell_type": "markdown",
   "metadata": {
    "slideshow": {
     "slide_type": "slide"
    }
   },
   "source": [
    "# CMPS 6610\n",
    "# Algorithms\n",
    "\n",
    "## Bellman-Ford\n"
   ]
  },
  {
   "cell_type": "markdown",
   "metadata": {
    "slideshow": {
     "slide_type": "slide"
    }
   },
   "source": [
    "Recall that Dijkstra's algorithm assumed positive edge weights. Why?\n",
    "\n",
    "<center>\n",
    "    <img src=\"figures/dijkstra-7.jpg\" width=50%/>\n",
    "</center>\n",
    "\n",
    "### Dijkstra's property\n",
    "\n",
    "For any partitioning of vertices $V$ into $X$ and $Y = V \\setminus X$ with $s \\in X$:\n",
    "\n",
    "If $p(v) = \\min_{x \\in X} (\\delta_G(s,x) + w(x,v))$, then\n",
    "\n",
    "$$\\min_{y \\in Y} p(y) = \\min_{y \\in Y} \\delta_G(s, y)$$\n"
   ]
  },
  {
   "cell_type": "markdown",
   "metadata": {
    "slideshow": {
     "slide_type": "fragment"
    }
   },
   "source": [
    "What goes wrong in this example?\n",
    "\n",
    "<center>\n",
    "    <img src=\"figures/dijkstra-fail.jpg\" width=60%/>\n",
    "</center>"
   ]
  },
  {
   "cell_type": "markdown",
   "metadata": {
    "slideshow": {
     "slide_type": "fragment"
    }
   },
   "source": [
    "- At the second step, Dijkstra assigns $\\delta(s,b)\\leftarrow 2$\n",
    "- When $a$ is visited in the third step, $b$ would be added to the heap with distance $-1$.\n",
    "- But, when $b$ is popped off the heap the second time, it is ignored, because of:\n",
    "```python\n",
    "            if node in visited:\n",
    "                # Already visited, so ignore this longer path\n",
    "                return dijkstra_helper(visited, frontier)\n",
    "```\n",
    "\n",
    "### With negative edge weights,  paths can get shorter as we add edges!"
   ]
  },
  {
   "cell_type": "markdown",
   "metadata": {
    "slideshow": {
     "slide_type": "slide"
    }
   },
   "source": [
    "**Why would we ever have a graph with negative edge weights?**"
   ]
  },
  {
   "cell_type": "markdown",
   "metadata": {
    "slideshow": {
     "slide_type": "fragment"
    }
   },
   "source": [
    "- finance: cost versus profit\n",
    "- chemistry: attractive vs repulsion\n",
    "- social networks: friends vs enemies"
   ]
  },
  {
   "cell_type": "markdown",
   "metadata": {
    "slideshow": {
     "slide_type": "fragment"
    }
   },
   "source": [
    "## currency conversion\n",
    "\n",
    "<center>\n",
    "    <img src=\"figures/currency.jpg\" width=40%/>\n",
    "</center>\n",
    "\n",
    "<br><br>\n",
    "**What happens if there is a negative weight cycle in the currency example (after taking $log$ of the rates)?**"
   ]
  },
  {
   "cell_type": "markdown",
   "metadata": {
    "slideshow": {
     "slide_type": "slide"
    }
   },
   "source": [
    "### dealing with negative edge weights\n",
    "\n",
    "Since paths can get shorter as we add edges, we'll modify Dijkstra to instead keep track of both the weight and the number of edges in a path.\n",
    "\n",
    "$\\delta^k(u,v)$: weight of shortest path from $u$ to $v$ considering paths with **at most** $k$ edges.\n",
    "- If no such path exists, $\\delta^k(u,v)=\\infty$\n"
   ]
  },
  {
   "cell_type": "markdown",
   "metadata": {
    "slideshow": {
     "slide_type": "fragment"
    }
   },
   "source": [
    "Consider **negative cycles**: sum of weights in a cycle is less than 0\n",
    "\n",
    "<img src=\"figures/inf.png\" width=60%/>\n",
    "\n",
    "If there are **no** negative cycles:\n",
    "- then the shortest path between any two nodes contains no cycles\n",
    "- thus, the shortest path has at most $|V|-1$ edges\n",
    "- compute $\\delta^k(u,v)$ from $k=1$ to $k=|V|-1$\n",
    "\n",
    "If there **are** negative cycles:\n",
    "- then the shortest path has weight $-\\infty$\n",
    "- must detect such cycles while computing $\\delta^k(u,v)$\n",
    "\n",
    "\n"
   ]
  },
  {
   "cell_type": "markdown",
   "metadata": {
    "slideshow": {
     "slide_type": "slide"
    }
   },
   "source": [
    "## Computing $\\delta^{k+1}(u,v)$\n",
    "\n",
    "As usual, we will assume we have recursively computed $\\delta^k(s,v)$. To extend this to compute $\\delta^{k+1}(s,v)$:\n",
    "\n",
    "\n",
    "$$\n",
    "\\begin{align}\n",
    "\\delta^{k+1}(s, v) = \\min&(\\delta^{k}(s, v),\\\\\n",
    "&\\min_{x \\in N^-(v)} (\\delta^{k}(s, x) + w(x,v))\n",
    "\\end{align}\n",
    "$$\n",
    "where $N^-(v)$ are the *in-neighbors* of $v$\n",
    "\n",
    "<br><br>\n",
    "- Consider this graph, where we have already computed the shortest paths from the source $s$ to vertices using $k$ or fewer edges. \n",
    "- Each vertex $u$ is labeled with $\\delta^k(s,u)$, its $k$-distance from $s$\n",
    "- Then, the shortest path to $v$ using at most $k+1$ edges is\n",
    "\n",
    "$$\n",
    "\\begin{align}\n",
    "\\delta^{k+1}(s,v)=\\min &(  \n",
    "\\delta^k(s,v),\\\\\n",
    "&\\min({\\delta^k(s,a)+3, ~~~\\delta^k(s,b)-6, ~~~\\delta^k(s,c)+5})\\\\\n",
    "&)\n",
    "\\end{align}\n",
    "$$\n",
    "\n",
    "<br>\n",
    "\n",
    "<center>\n",
    "<img src=\"figures/khop.jpg\" width=60%/>\n",
    "</center>\n",
    "\n",
    "\n",
    "This intuition leads to the following algorithm:\n",
    "\n",
    "### Bellman-Ford Algorithm\n",
    "\n",
    "- **Initialize:** $\\delta^0(s,s)=0$ and $\\delta^0(s,v)=\\infty$ $\\forall v \\ne s$\n",
    "- **Iterate:** Compute $\\delta^{k+1}(s,v)$ $\\forall v$ as above, using $\\delta^{k}(s,\\cdot)$\n",
    "  - We can compute this **in parallel** for all $v$\n",
    "\n",
    "<br>\n",
    "\n",
    "When to stop?\n",
    "\n"
   ]
  },
  {
   "cell_type": "markdown",
   "metadata": {
    "slideshow": {
     "slide_type": "fragment"
    }
   },
   "source": [
    "When $\\delta^{k+1}(s,v)=\\delta^{k}(s,v)$ $\\forall v$\n",
    "\n",
    "<br>\n",
    "\n",
    "**but**: if there are negative cycles, this may never be true.\n",
    "\n",
    "So, we can instead stop after $|V|$ iterations.\n",
    "- if we haven't converged at that point, then there must be a negative cycle"
   ]
  },
  {
   "cell_type": "markdown",
   "metadata": {
    "slideshow": {
     "slide_type": "fragment"
    }
   },
   "source": [
    "Let's look at code and output on this example:\n",
    "\n",
    "<center>\n",
    "    <img src=\"figures/bf0.jpg\" width=40%/>\n",
    "</center>\n",
    "\n",
    "$$\n",
    "\\begin{align}\n",
    "\\delta^{k+1}(s, v) = \\min&(\\delta^{k}(s, v),\\\\\n",
    "&\\min_{x \\in N^-(v)} (\\delta^{k}(s, x) + w(x,v))\n",
    "\\end{align}\n",
    "$$\n"
   ]
  },
  {
   "cell_type": "code",
   "execution_count": 2,
   "metadata": {
    "slideshow": {
     "slide_type": "fragment"
    }
   },
   "outputs": [
    {
     "data": {
      "text/plain": [
       "{'s': 0, 'a': 1, 'b': -1, 'c': 0, 'd': 3, 'e': inf}"
      ]
     },
     "execution_count": 2,
     "metadata": {},
     "output_type": "execute_result"
    }
   ],
   "source": [
    "import math\n",
    "\n",
    "def bellmanford(graph, source):\n",
    "    def bellmanford_helper(distances, k):        \n",
    "        if k == len(graph): # negative cycle\n",
    "            return -math.inf\n",
    "        else:\n",
    "            # compute new distances\n",
    "            new_distances = compute_distances(graph, distances)\n",
    "            \n",
    "            # check if distances have converged\n",
    "            if converged(distances, new_distances):\n",
    "                return distances\n",
    "            else:                \n",
    "                return bellmanford_helper(new_distances, k+1)\n",
    "        \n",
    "    # initialize\n",
    "    distances = dict()\n",
    "    for v in graph:\n",
    "        if v == source:\n",
    "            distances[v] = 0\n",
    "        else:\n",
    "            distances[v] = math.inf\n",
    "    return bellmanford_helper(distances, 0)\n",
    "\n",
    "def compute_distances(graph, distances):\n",
    "    new_distances = {}\n",
    "    for v, in_neighbors in graph.items(): # this loop can be done in parallel\n",
    "        # compute all possible distances from s->v\n",
    "        v_distances = [distances[v]] \n",
    "        for in_neighbor, weight in in_neighbors:\n",
    "            v_distances.append(distances[in_neighbor] + weight)\n",
    "        new_distances[v] = min(v_distances)\n",
    "    return new_distances\n",
    "\n",
    "def converged(old_distances, new_distances):\n",
    "    for k in old_distances:\n",
    "        if old_distances[k] != new_distances[k]:\n",
    "            return False\n",
    "    return True\n",
    "\n",
    "# original representation: map from node to out-neighbors\n",
    "# graph = {\n",
    "#             's': {('a', 1), ('c', 5)},\n",
    "#             'a': {('b', -2)},\n",
    "#             'b': {('c', 1), ('d', 5)}, \n",
    "#             'c': {('d', 3)},\n",
    "#             'd': {},\n",
    "#             'e': {('d', 0)}\n",
    "#         }\n",
    "\n",
    "# instead, represent in-neighbors for each node, for constant lookup\n",
    "graph = {\n",
    "            's': {},\n",
    "            'a': {('s', 1)},\n",
    "            'b': {('a', -2)},\n",
    "            'c': {('s', 5), ('b', 1)}, \n",
    "            'd': {('b', 5), ('c', 3)},\n",
    "            'e': {},\n",
    "        }\n",
    "bellmanford(graph, 's')"
   ]
  },
  {
   "cell_type": "markdown",
   "metadata": {
    "slideshow": {
     "slide_type": "fragment"
    }
   },
   "source": [
    "<center>\n",
    "    <img src=\"figures/bf0.jpg\" width=40%/>\n",
    "</center>"
   ]
  },
  {
   "cell_type": "markdown",
   "metadata": {
    "slideshow": {
     "slide_type": "fragment"
    }
   },
   "source": [
    "<center>\n",
    "    <img src=\"figures/bf1.jpg\" width=40%/>\n",
    "</center>\n"
   ]
  },
  {
   "cell_type": "markdown",
   "metadata": {
    "slideshow": {
     "slide_type": "fragment"
    }
   },
   "source": [
    "<center>\n",
    "    <img src=\"figures/bf2.jpg\" width=40%/>\n",
    "</center>\n"
   ]
  },
  {
   "cell_type": "markdown",
   "metadata": {
    "slideshow": {
     "slide_type": "fragment"
    }
   },
   "source": [
    "<center>\n",
    "    <img src=\"figures/bf3.jpg\" width=40%/>\n",
    "</center>\n"
   ]
  },
  {
   "cell_type": "markdown",
   "metadata": {
    "slideshow": {
     "slide_type": "fragment"
    }
   },
   "source": [
    "<center>\n",
    "    <img src=\"figures/bf4.jpg\" width=40%/>\n",
    "</center>"
   ]
  },
  {
   "cell_type": "code",
   "execution_count": 20,
   "metadata": {
    "slideshow": {
     "slide_type": "fragment"
    }
   },
   "outputs": [
    {
     "data": {
      "text/plain": [
       "-inf"
      ]
     },
     "execution_count": 20,
     "metadata": {},
     "output_type": "execute_result"
    }
   ],
   "source": [
    "graph2 = {\n",
    "            's': {},\n",
    "            'a': {('s', 1), ('c', -1)}, # make a negative cycle a->b->c->a, -2\n",
    "            'b': {('a', -2)},\n",
    "            'c': {('s', 5), ('b', 1)}, \n",
    "            'd': {('b', 5), ('c', 3)},\n",
    "            'e': {},\n",
    "        }\n",
    "bellmanford(graph2, 's')"
   ]
  },
  {
   "cell_type": "markdown",
   "metadata": {
    "slideshow": {
     "slide_type": "slide"
    }
   },
   "source": [
    "### Cost of Bellman-Ford\n",
    "\n",
    "```python\n",
    "def compute_distances(graph, distances):\n",
    "    new_distances = {}\n",
    "    for v, in_neighbors in graph.items(): # this loop can be done in parallel\n",
    "        v_distances = [distances[v]]\n",
    "        for in_neighbor, weight in in_neighbors:\n",
    "            v_distances.append(distances[in_neighbor] + weight)\n",
    "        new_distances[v] = min(v_distances)\n",
    "    return new_distances\n",
    "```\n",
    "\n",
    "- For each vertex, we loop through all of its in-neighbors.\n",
    "- We then take the minimum over its in-neighbors\n",
    "- Thus, we will visit each edge in the graph once in each iteration of the algorithm ($|E|$)\n",
    "- There are at most $|V|$ iterations of the algorithm, to the **total work** for `compute_distances` is $O(|V| \\cdot |E|)$.\n",
    "\n",
    "Because we can do the outer loop in parallel, we must consider the maximum work of any vertex $v$.\n",
    "\n",
    "In the worst case, $v$ can have $|V|-1$ in-neighbors. The `min` operation will then take $O(\\lg |V|)$ span, assuming we use `reduce` to implement it.\n",
    "\n",
    "Thus, each iteration has $O(\\lg |V|)$ span, and we have at worst $|V|$ iterations, run sequentially, resulting in **total span** of $O(|V| \\lg |V|)$.\n",
    "\n",
    "\n",
    "\n",
    "<br><br>\n",
    "What about the work to check if we have converged?\n",
    "\n",
    "```python\n",
    "def converged(old_distances, new_distances):\n",
    "    for k in old_distances:\n",
    "        if old_distances[k] != new_distances[k]:\n",
    "            return False\n",
    "    return True\n",
    "```\n",
    "\n",
    "Actually, if we were more clever, we could include this check inside the `compute_distances` function, just before assigning the `new_distances` value.\n",
    "\n",
    "```python\n",
    "...\n",
    "min_v = min(v_distances)\n",
    "if min_v != new_distances[v]:\n",
    "    converged=False\n",
    "new_distances[v] = min(v_distances)\n",
    "...\n",
    "```\n",
    "so, we don't incur any additional cost for this check.\n",
    "\n",
    "\n",
    "<br>\n",
    "\n",
    "Thus, the final work/span of Bellman-Ford is:\n",
    "\n",
    "**Work:** $O(|V| \\cdot |E|)$\n",
    "\n",
    "**Span:** $O(|V| \\lg |V|)$\n",
    "\n",
    "\n",
    "<br>\n",
    "\n",
    "compare with:\n",
    "\n",
    "- Dijkstra: Work$=O(|E|\\log |E|)$, Span$=O(|E|\\log |E|)$\n",
    "- BFS: Work$=O(|E|+ |V|)$, Span$=O(|E| + |V|)$\n",
    "\n",
    "\n",
    "So, we can see we pay significant costs going from unweighted $\\rightarrow$ weighted-positive $\\rightarrow$ weighted-negative graphs.\n",
    "\n",
    "- Although, consider the difference in span between Dijkstra and Bellman-Ford"
   ]
  },
  {
   "cell_type": "markdown",
   "metadata": {
    "slideshow": {
     "slide_type": "slide"
    }
   },
   "source": [
    "Bellman-Ford is used in network routing:\n",
    "\n",
    "<center>\n",
    "<img src=\"figures/network.png\" width=50%/>\n",
    "</center>\n",
    "\n",
    "[source](https://www.computer-networking.info/2nd/html/principles/dv.html)\n",
    "\n",
    "- Each router has a **routing table** containing the shortest path from source to destination\n",
    "- Edge weights account for latency between routers.\n",
    "- But, no router has perfect knowledge of the network.\n",
    "  - Routers exchange information in a peer-to-peer fashion to update routing tables.\n",
    "  \n",
    "<br><br>\n",
    "- But wait, there can't be a negative weight in this graph! (no \"negative latency\").\n",
    "- So, why use Bellman-Ford instead of Dijkstra?\n",
    "\n",
    "<br>\n",
    "\n",
    "- Bellman-Ford is naturally a distributed/concurrent algorithm -- each node updates its shortest paths and exchanges with neighbors.\n",
    "- Dijkstra requires each node to have perfect knowledge of the network, in order to make the optimal, greedy step at each iteration.\n"
   ]
  },
  {
   "cell_type": "code",
   "execution_count": null,
   "metadata": {},
   "outputs": [],
   "source": []
  }
 ],
 "metadata": {
  "celltoolbar": "Slideshow",
  "kernelspec": {
   "display_name": "Python 3 (ipykernel)",
   "language": "python",
   "name": "python3"
  },
  "language_info": {
   "codemirror_mode": {
    "name": "ipython",
    "version": 3
   },
   "file_extension": ".py",
   "mimetype": "text/x-python",
   "name": "python",
   "nbconvert_exporter": "python",
   "pygments_lexer": "ipython3",
   "version": "3.9.13"
  },
  "rise": {
   "autolaunch": true,
   "controls": false,
   "enable_chalkboard": true,
   "scroll": true,
   "theme": "simple",
   "transition": "fade"
  },
  "toc": {
   "base_numbering": 1,
   "nav_menu": {},
   "number_sections": true,
   "sideBar": true,
   "skip_h1_title": true,
   "title_cell": "Table of Contents",
   "title_sidebar": "Contents",
   "toc_cell": true,
   "toc_position": {},
   "toc_section_display": true,
   "toc_window_display": false
  }
 },
 "nbformat": 4,
 "nbformat_minor": 4
}
