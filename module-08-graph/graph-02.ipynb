{
 "cells": [
  {
   "cell_type": "code",
   "execution_count": 1,
   "metadata": {
    "code_folding": [],
    "slideshow": {
     "slide_type": "skip"
    }
   },
   "outputs": [
    {
     "data": {
      "text/html": [
       "<style>.prompt{width: 0px; min-width: 0px; visibility: collapse}</style>"
      ],
      "text/plain": [
       "<IPython.core.display.HTML object>"
      ]
     },
     "metadata": {},
     "output_type": "display_data"
    },
    {
     "data": {
      "text/html": [
       "<style>\n",
       "div#notebook {\n",
       " font-family: \"Exo_2\", sans-serif;\n",
       "}\n",
       "\n",
       ".rendered_html h1,\n",
       ".text_cell_render h1 {\n",
       " color: #126dce;\n",
       " font-size: 220%;\n",
       " text-align: center;\n",
       " font-weight: lighter;\n",
       "}\n",
       ".rendered_html h2,\n",
       ".text_cell_render h2 {\n",
       " text-align: center;\n",
       " font-size: 170%;\n",
       " color: #126dce;\n",
       " font-style: normal;\n",
       " font-weight: lighter;\n",
       "}\n",
       ".rendered_html h3,\n",
       ".text_cell_render h3 {\n",
       " font-size: 150%;\n",
       " color: #126dce;\n",
       " font-weight: lighter;\n",
       " text-decoration: italic;\n",
       " font-style: normal;\n",
       "}\n",
       ".rendered_html h4,\n",
       ".text_cell_render h4 {\n",
       " font-size: 120%;\n",
       " color: #126dce;\n",
       " font-weight: underline;\n",
       " font-style: normal;\n",
       "}\n",
       ".rendered_html h5,\n",
       ".text_cell_render h5 {\n",
       " font-size: 100%;\n",
       " color: #2f2f2f;\n",
       " font-weight: lighter;\n",
       " text-decoration: underline;\n",
       "}\n",
       "</style>\n"
      ],
      "text/plain": [
       "<IPython.core.display.HTML object>"
      ]
     },
     "metadata": {},
     "output_type": "display_data"
    }
   ],
   "source": [
    "# setup\n",
    "from IPython.core.display import display,HTML\n",
    "display(HTML('<style>.prompt{width: 0px; min-width: 0px; visibility: collapse}</style>'))\n",
    "display(HTML(open('../rise.css').read()))\n",
    "\n",
    "# imports\n",
    "import numpy as np\n",
    "import matplotlib.pyplot as plt\n",
    "import seaborn as sns\n",
    "%matplotlib inline\n",
    "sns.set(style=\"whitegrid\", font_scale=1.5, rc={'figure.figsize':(12, 6)})\n"
   ]
  },
  {
   "cell_type": "markdown",
   "metadata": {
    "slideshow": {
     "slide_type": "slide"
    }
   },
   "source": [
    "# CMPS 6610\n",
    "# Algorithms\n",
    "\n",
    "## Breadth-first Search\n"
   ]
  },
  {
   "cell_type": "markdown",
   "metadata": {
    "slideshow": {
     "slide_type": "slide"
    }
   },
   "source": [
    "## Breadth-first search (BFS)\n",
    "\n",
    "<center>\n",
    "<img src=\"https://upload.wikimedia.org/wikipedia/commons/4/46/Animated_BFS.gif\" width=25%/>\n",
    "</center>\n",
    "\n",
    "**Input:**\n",
    "- graph $G$\n",
    "- source vertex $s$\n",
    "\n",
    "<br><br>\n",
    "1. Visit neighbors of $s$\n",
    "2. Visit neighbors of neighbors of $s$\n",
    "3. Visit neighbors of neighbors of neighbors of $s$ ...\n",
    "\n",
    "while ensuring that each node is visited only once.\n",
    "\n",
    "\n",
    "<br><br>\n",
    "- Nodes at level $i$ have a path distance of $i$  from $s$\n",
    "- BFS proceeds one level at a time, until there are no new neighbors to visit.\n",
    "\n",
    "<br><br>\n",
    "What variables will we need to keep track of?"
   ]
  },
  {
   "cell_type": "markdown",
   "metadata": {
    "slideshow": {
     "slide_type": "fragment"
    }
   },
   "source": [
    "<center>\n",
    "<img src=\"figures/bfs_1.png\" width=30%/>\n",
    "</center>\n",
    "\n",
    "- `visited` ($X$): the nodes already visited, so we don't visit them more than once\n",
    "- `frontier` ($F$): the nodes to visit next.\n",
    "\n",
    "At iteration $i$:\n",
    "\n",
    "- `visited` contains all nodes with distance less than $i$ from $s$\n",
    "- `frontier` contains all nodes with distance exactly $i$ from $s$\n",
    "  - these are all the unvisited neighbors of `visited`.\n",
    "  \n",
    "e.g., for $i=1$:\n",
    "\n",
    "- $X_1 = \\{a\\}$\n",
    "- $F_1 = \\{b,c\\}$\n",
    "\n",
    "How do we update `visited` and `frontier` at each iteration?"
   ]
  },
  {
   "cell_type": "markdown",
   "metadata": {
    "slideshow": {
     "slide_type": "fragment"
    }
   },
   "source": [
    "1. To update `visited`, we add any new values encountered in the frontier:\n",
    "  - $X_{i+1} = X_i \\cup F_i$\n",
    "\n",
    "\n",
    "2. To update `frontier`, we take the neighborhood of $F_i$ and remove any vertices that have already been visited:\n",
    "  - $F_{i+1} = N(F_i) \\setminus X_{i+1}$\n",
    "  - $N(F_i)$ are the neighbors of the nodes in $F_i$\n",
    "\n",
    "<br>\n",
    "\n",
    "e.g. for $i=1$:\n",
    "- $X_1 = \\{a\\}$\n",
    "- $F_1 = \\{b,c\\}$\n",
    "- update:\n",
    "    - $X_2 = \\{a\\} \\cup \\{b,c\\} = \\{a,b,c\\}$\n",
    "    - $F_2 = \\{a, d, e, f, g\\} \\setminus \\{a,b,c\\} = \\{d,e,f,g\\}$\n",
    "    \n"
   ]
  },
  {
   "cell_type": "code",
   "execution_count": 2,
   "metadata": {
    "slideshow": {
     "slide_type": "fragment"
    }
   },
   "outputs": [
    {
     "name": "stdout",
     "output_type": "stream",
     "text": [
      "visiting {'A'}\n",
      "visiting {'C', 'B'}\n",
      "visiting {'D', 'E', 'F', 'G'}\n",
      "visiting {'H'}\n"
     ]
    },
    {
     "data": {
      "text/plain": [
       "{'A', 'B', 'C', 'D', 'E', 'F', 'G', 'H'}"
      ]
     },
     "execution_count": 2,
     "metadata": {},
     "output_type": "execute_result"
    }
   ],
   "source": [
    "from functools import reduce\n",
    "\n",
    "def bfs_recursive(graph, source):\n",
    "    \n",
    "    def bfs_helper(visited, frontier):\n",
    "        if len(frontier) == 0:\n",
    "            return visited\n",
    "        else:\n",
    "            # update visited\n",
    "            # X_{i+1} = X_i OR F_i\n",
    "            visited_new = visited | frontier\n",
    "            print('visiting', (visited_new - visited))\n",
    "            visited = visited_new\n",
    "\n",
    "            # update frontier\n",
    "            # F_{i+1} = N(F_i) \\ X_{i+1}\n",
    "            frontier_neighbors = reduce(set.union, [graph[f] for f in frontier])\n",
    "            frontier = frontier_neighbors - visited\n",
    "            return bfs_helper(visited, frontier)\n",
    "\n",
    "    visited = set()\n",
    "    frontier = set([source])        \n",
    "    return bfs_helper(visited, frontier)\n",
    "    \n",
    "\n",
    "# same as example graph above\n",
    "graph = {\n",
    "            'A': {'B', 'C'},\n",
    "            'B': {'A', 'D', 'E'},\n",
    "            'C': {'A', 'F', 'G'},\n",
    "            'D': {'B'},\n",
    "            'E': {'B', 'H'},\n",
    "            'F': {'C'},\n",
    "            'G': {'C'},\n",
    "            'H': {'E'}\n",
    "        }\n",
    "\n",
    "bfs_recursive(graph, 'A')"
   ]
  },
  {
   "cell_type": "markdown",
   "metadata": {
    "slideshow": {
     "slide_type": "slide"
    }
   },
   "source": [
    "## Work of BFS\n",
    "\n",
    "- Since we have no recurrence, we will instead simply add up costs of each level.\n",
    "- But, work done at each level varies depending on how many nodes it contains.\n",
    "\n",
    "What we do know:\n",
    "\n",
    "- Every reachable node appears in the frontier exactly **once**\n",
    "- Likewise, each edge is processed exactly **once**\n",
    "\n",
    "How much work is done for each node/edge?\n",
    "\n",
    "- `visited_new = visited | frontier`\n",
    "  - each node is added to the visited set at most once\n",
    "- `frontier_neighbors = reduce(set.union, [graph[f] for f in frontier])`\n",
    "  - each edge is added to `frontier_neighbors` at most twice (a->b, b->a)\n",
    "- `frontier = frontier_neighbors - visited`\n",
    "  - each node is removed from the frontier at most once.\n",
    "\n",
    "\n",
    "- Therefore work is $O(|V| + |E|)$\n",
    "\n"
   ]
  },
  {
   "cell_type": "markdown",
   "metadata": {
    "slideshow": {
     "slide_type": "slide"
    }
   },
   "source": [
    "## Parallelism in BFS\n",
    "\n",
    "There is some limited parallelism possible in BFS. While we must visit each level sequentially, at each level we can parallelize the set operations:\n",
    "\n",
    "`visited_new = visited | frontier`\n",
    "\n",
    "`frontier_neighbors = reduce(set.union, [graph[f] for f in frontier])`\n",
    "\n",
    "`frontier = frontier_neighbors - visited`\n",
    "\n",
    "We can represent a set as a binary search tree, which supports $O(\\lg n)$ span operations for union, intersection, and difference operations. (See [Vol II Ch 17](https://www.diderot.one/courses/43/books/185/part/334/chapter/2689) for more details).\n",
    "\n",
    "So, the first and third lines have $O(\\lg n)$ span, but the second has $O(\\lg^2 n)$.\n",
    "  - reduce has $O(\\lg n)$ span, but the union call at each step has $O(\\lg n)$ span\n",
    "  \n",
    "If the distance from the source to the most distant node is $d$, then the span is $O(d \\lg^2 n)$\n",
    "\n",
    "What shape graph results in the worst span?"
   ]
  },
  {
   "cell_type": "markdown",
   "metadata": {
    "slideshow": {
     "slide_type": "fragment"
    }
   },
   "source": [
    "A chain:\n",
    "\n",
    "![figures/chain.png](figures/chain.png)\n",
    "\n",
    "\n",
    "Span $O(|V| \\lg^2 n)$"
   ]
  },
  {
   "cell_type": "markdown",
   "metadata": {
    "slideshow": {
     "slide_type": "slide"
    }
   },
   "source": [
    "### Serial BFS\n",
    "\n",
    "**Alternatively**: represent frontier with a queue, and remove one node at a time.\n",
    "\n",
    "\"first in first out\"\n",
    "\n",
    "- add newly discovered nodes to the end of the list\n",
    "- at each iteration, remove the first node in the list\n"
   ]
  },
  {
   "cell_type": "code",
   "execution_count": 3,
   "metadata": {
    "slideshow": {
     "slide_type": "fragment"
    }
   },
   "outputs": [
    {
     "name": "stdout",
     "output_type": "stream",
     "text": [
      "deque([1, 2, 3])\n",
      "popleft returns: 1\n",
      "deque([2, 3])\n",
      "pop returns: 3\n",
      "deque([2])\n"
     ]
    }
   ],
   "source": [
    "# deque is a double ended queue\n",
    "# a doubly linked list \n",
    "from collections import deque\n",
    "q = deque()\n",
    "q.append(1)\n",
    "q.append(2)\n",
    "q.append(3)\n",
    "print(q)\n",
    "print('popleft returns: %d' %  q.popleft())\n",
    "print(q)\n",
    "print('pop returns: %d' %  q.pop())\n",
    "print(q)"
   ]
  },
  {
   "cell_type": "code",
   "execution_count": 4,
   "metadata": {
    "slideshow": {
     "slide_type": "fragment"
    }
   },
   "outputs": [
    {
     "name": "stdout",
     "output_type": "stream",
     "text": [
      "[1, 2, 3]\n",
      "pop returns 1\n"
     ]
    }
   ],
   "source": [
    "# compare with:\n",
    "a = [1,2,3]\n",
    "print(a)\n",
    "print('pop returns', a.pop(0))"
   ]
  },
  {
   "cell_type": "markdown",
   "metadata": {
    "slideshow": {
     "slide_type": "fragment"
    }
   },
   "source": [
    "**What is running time to remove first element of a dynamic array with $n$ elements (a list in Python)?**\n",
    "\n"
   ]
  },
  {
   "cell_type": "markdown",
   "metadata": {
    "slideshow": {
     "slide_type": "fragment"
    }
   },
   "source": [
    "$O(n)$: Need to shift all elements to the left.\n",
    "\n",
    "<br><br><br>\n",
    "\n",
    "**What is the running time to remove first element of a doubly linked list $n$ elements (a deque in Python)?**\n",
    "\n"
   ]
  },
  {
   "cell_type": "markdown",
   "metadata": {
    "slideshow": {
     "slide_type": "fragment"
    }
   },
   "source": [
    "$O(1)$\n",
    "\n",
    "See more:\n",
    "https://wiki.python.org/moin/TimeComplexity\n"
   ]
  },
  {
   "cell_type": "code",
   "execution_count": 5,
   "metadata": {
    "slideshow": {
     "slide_type": "fragment"
    }
   },
   "outputs": [
    {
     "name": "stdout",
     "output_type": "stream",
     "text": [
      "visiting A\n",
      "visiting C\n",
      "visiting B\n",
      "visiting F\n",
      "visiting G\n",
      "visiting D\n",
      "visiting E\n",
      "visiting H\n"
     ]
    },
    {
     "data": {
      "text/plain": [
       "{'A', 'B', 'C', 'D', 'E', 'F', 'G', 'H'}"
      ]
     },
     "execution_count": 5,
     "metadata": {},
     "output_type": "execute_result"
    }
   ],
   "source": [
    "def bfs_serial(graph, source):\n",
    "    def bfs_serial_helper(visited, frontier):\n",
    "        if len(frontier) == 0:\n",
    "            return visited\n",
    "        else:\n",
    "            node = frontier.popleft()\n",
    "            print('visiting', node)\n",
    "            visited.add(node)\n",
    "    #         for n in graph[node]:\n",
    "    #             if n not in visited:\n",
    "    #                 frontier.append(n)\n",
    "            # in parallel\n",
    "            frontier.extend(filter(lambda n: n not in visited, graph[node]))\n",
    "            return bfs_serial_helper(visited, frontier)\n",
    "\n",
    "    frontier = deque()\n",
    "    frontier.append(source)\n",
    "    visited = set()\n",
    "    return bfs_serial_helper(visited, frontier)\n",
    "\n",
    "bfs_serial(graph, 'A')"
   ]
  },
  {
   "cell_type": "markdown",
   "metadata": {
    "slideshow": {
     "slide_type": "fragment"
    }
   },
   "source": [
    "### Serial BFS Work/Span\n",
    "\n",
    "Work and span are $O(|V| + |E|)$, since each vertex and edge are visited once.\n"
   ]
  },
  {
   "cell_type": "markdown",
   "metadata": {
    "slideshow": {
     "slide_type": "slide"
    }
   },
   "source": [
    "### How can we keep track of the distance each node is from the source?"
   ]
  },
  {
   "cell_type": "code",
   "execution_count": 6,
   "metadata": {
    "slideshow": {
     "slide_type": "fragment"
    }
   },
   "outputs": [
    {
     "name": "stdout",
     "output_type": "stream",
     "text": [
      "visiting {'A'}\n",
      "visiting {'C', 'B'}\n",
      "visiting {'D', 'E', 'F', 'G'}\n",
      "visiting {'H'}\n"
     ]
    },
    {
     "data": {
      "text/plain": [
       "{'A': 0, 'C': 1, 'B': 1, 'D': 2, 'E': 2, 'F': 2, 'G': 2, 'H': 3}"
      ]
     },
     "execution_count": 6,
     "metadata": {},
     "output_type": "execute_result"
    }
   ],
   "source": [
    "def bfs_recursive_depths(graph, source):\n",
    "\n",
    "    def bfs_helper_depths(visited, frontier, cur_depth, depths):\n",
    "        if len(frontier) == 0:\n",
    "            return depths\n",
    "        else:\n",
    "            # update visited\n",
    "            # X_{i+1} = X_i OR F_i\n",
    "            visited_new = visited | frontier\n",
    "            print('visiting', (visited_new - visited))\n",
    "            # record the depths of visited nodes\n",
    "            for v in visited_new - visited:\n",
    "                depths[v] = cur_depth\n",
    "            visited = visited_new        \n",
    "            # update frontier\n",
    "            # F_{i+1} = N(F_i) \\ X_{i+1}\n",
    "            frontier_neighbors = reduce(set.union, [graph[f] for f in frontier])\n",
    "            frontier = frontier_neighbors - visited\n",
    "\n",
    "            return bfs_helper_depths(visited, frontier, cur_depth+1, depths)    \n",
    "\n",
    "    depths = dict()\n",
    "    visited = set()\n",
    "    frontier = set([source])\n",
    "    return bfs_helper_depths(visited, frontier, 0, depths)\n",
    "    \n",
    "\n",
    "        \n",
    "bfs_recursive_depths(graph, 'A')"
   ]
  }
 ],
 "metadata": {
  "celltoolbar": "Slideshow",
  "kernelspec": {
   "display_name": "Python 3 (ipykernel)",
   "language": "python",
   "name": "python3"
  },
  "language_info": {
   "codemirror_mode": {
    "name": "ipython",
    "version": 3
   },
   "file_extension": ".py",
   "mimetype": "text/x-python",
   "name": "python",
   "nbconvert_exporter": "python",
   "pygments_lexer": "ipython3",
   "version": "3.9.13"
  },
  "rise": {
   "autolaunch": true,
   "controls": false,
   "enable_chalkboard": true,
   "scroll": true,
   "theme": "simple",
   "transition": "fade"
  },
  "toc": {
   "base_numbering": 1,
   "nav_menu": {},
   "number_sections": true,
   "sideBar": true,
   "skip_h1_title": true,
   "title_cell": "Table of Contents",
   "title_sidebar": "Contents",
   "toc_cell": true,
   "toc_position": {},
   "toc_section_display": true,
   "toc_window_display": false
  }
 },
 "nbformat": 4,
 "nbformat_minor": 4
}
