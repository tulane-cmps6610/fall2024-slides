{
 "cells": [
  {
   "cell_type": "code",
   "execution_count": 1,
   "metadata": {
    "code_folding": [],
    "slideshow": {
     "slide_type": "skip"
    }
   },
   "outputs": [
    {
     "data": {
      "text/html": [
       "<style>.prompt{width: 0px; min-width: 0px; visibility: collapse}</style>"
      ],
      "text/plain": [
       "<IPython.core.display.HTML object>"
      ]
     },
     "metadata": {},
     "output_type": "display_data"
    },
    {
     "data": {
      "text/html": [
       "<style>\n",
       "div#notebook {\n",
       " font-family: \"Exo_2\", sans-serif;\n",
       "}\n",
       "\n",
       ".rendered_html h1,\n",
       ".text_cell_render h1 {\n",
       " color: #126dce;\n",
       " font-size: 220%;\n",
       " text-align: center;\n",
       " font-weight: lighter;\n",
       "}\n",
       ".rendered_html h2,\n",
       ".text_cell_render h2 {\n",
       " text-align: center;\n",
       " font-size: 170%;\n",
       " color: #126dce;\n",
       " font-style: normal;\n",
       " font-weight: lighter;\n",
       "}\n",
       ".rendered_html h3,\n",
       ".text_cell_render h3 {\n",
       " font-size: 150%;\n",
       " color: #126dce;\n",
       " font-weight: lighter;\n",
       " text-decoration: italic;\n",
       " font-style: normal;\n",
       "}\n",
       ".rendered_html h4,\n",
       ".text_cell_render h4 {\n",
       " font-size: 120%;\n",
       " color: #126dce;\n",
       " font-weight: underline;\n",
       " font-style: normal;\n",
       "}\n",
       ".rendered_html h5,\n",
       ".text_cell_render h5 {\n",
       " font-size: 100%;\n",
       " color: #2f2f2f;\n",
       " font-weight: lighter;\n",
       " text-decoration: underline;\n",
       "}\n",
       "</style>\n"
      ],
      "text/plain": [
       "<IPython.core.display.HTML object>"
      ]
     },
     "metadata": {},
     "output_type": "display_data"
    }
   ],
   "source": [
    "# setup\n",
    "from IPython.core.display import display,HTML\n",
    "display(HTML('<style>.prompt{width: 0px; min-width: 0px; visibility: collapse}</style>'))\n",
    "display(HTML(open('../rise.css').read()))\n",
    "\n",
    "# imports\n",
    "import numpy as np\n",
    "import matplotlib.pyplot as plt\n",
    "import seaborn as sns\n",
    "%matplotlib inline\n",
    "sns.set(style=\"whitegrid\", font_scale=1.5, rc={'figure.figsize':(12, 6)})\n"
   ]
  },
  {
   "cell_type": "markdown",
   "metadata": {
    "slideshow": {
     "slide_type": "slide"
    }
   },
   "source": [
    "# CMPS 6610\n",
    "# Algorithms\n",
    "\n",
    "## All pairs shortest path\n",
    "\n"
   ]
  },
  {
   "cell_type": "markdown",
   "metadata": {
    "slideshow": {
     "slide_type": "slide"
    }
   },
   "source": [
    "## All pairs shortest path  (APSP)\n",
    "\n",
    "Up to now, we've consider the shortest paths from a fixed source node $s$.\n",
    "\n",
    "Of course, we will often want to know the shortest path from **all** nodes in the graph.\n",
    "\n",
    "How can we use algorithms we have seen to do this?"
   ]
  },
  {
   "cell_type": "markdown",
   "metadata": {
    "slideshow": {
     "slide_type": "fragment"
    }
   },
   "source": [
    "Just run Bellman-Ford $|V|$ times, once per vertex.\n",
    "\n",
    "Since one run of Bellman-Ford has $O(|V| \\cdot |E|)$ work, the total work is $O(|V|^2 \\cdot |E|)$\n",
    "\n",
    "Can we do better?"
   ]
  },
  {
   "cell_type": "markdown",
   "metadata": {
    "slideshow": {
     "slide_type": "slide"
    }
   },
   "source": [
    "## Graph transformations\n",
    "\n",
    "It would be great if we could instead just run Dijkstra's algorithm $|V|$ times, resulting in $O(|V|\\cdot|E| \\log |E|)~~~~$ $<<O(|V|^2 \\cdot |E|)$\n",
    "\n",
    "But, we can't run Dijkstra if the graph has negative edge weights.\n",
    "\n",
    "<br>\n",
    "\n",
    "**Key idea:** Let's find a transformation from $G=(V,E)$ to $G'=(V,E')$, where all the edges in $E'$ are non-negative.\n",
    "\n",
    "We'll keep the nodes and edges the same, but just change the weights somehow...\n",
    "\n",
    "This transformation must preserve two properties:\n",
    "\n",
    "1. **shortest paths:** The shortest path connecting $u$ to $v$ in $G$ should be the same in $G'$.\n",
    "2. **non-negative edge weights:** all edges in $G'$ should have weight > 0."
   ]
  },
  {
   "cell_type": "markdown",
   "metadata": {
    "slideshow": {
     "slide_type": "slide"
    }
   },
   "source": [
    "### preserving shortest paths\n",
    "\n",
    "Consider some path from $v_0$ to $v_k$ in $G$: $p=\\langle v_0, v_1, \\ldots v_k \\rangle$\n",
    "- let $w(p)$ be the sum of the edge weights in $p$ in the original graph $G$\n",
    "- let $\\delta(v_0, v_k)$ be the weight of the shortest path from $v_0$ to v_k in the original graph $G$\n",
    "- let $\\hat{w}(p)$ be the sum of the edge weights in $p$ in the transformed graph $G'$\n",
    "- let $\\hat{\\delta}(v_0, v_k)$ be the weight of the shortest path from $v_0$ to v_k in the transformed graph $G'$\n",
    "\n",
    "Then, we want a transformation such that:\n",
    "$w(p) = \\delta(v_0, v_k) \\leftrightarrow \\hat{w}(p) = \\hat{\\delta}(v_0, v_k)$\n",
    "- that is, $p$ is a shortest path from $v_0$ to $v_k$ with weights $w$ if and only if $p$ is also a shortest path with weights $w'$\n",
    "\n",
    "\n",
    "<br><br>\n",
    "let $f: V \\mapsto \\mathbb{R}$ be any function mapping vertices to real numbers.\n",
    "\n",
    "\n",
    "\n",
    "\n",
    "**claim:** Weight transformations of the following form preserve shortest paths:\n",
    "\n",
    "$$\\hat{w}(u,v) = w(u,v) + f(u) - f(v)$$\n",
    "\n",
    "\n",
    "<img src=\"figures/johnson_map.png\" width=70%/>\n",
    "\n",
    "<br>\n",
    "\n",
    "**proof:** First, show that $\\hat{w}(p) = w(p) + f(v_0) - f(v_k)$\n",
    "\n",
    "$\n",
    "\\begin{align}\n",
    "\\hat{w}(p) & = \\sum_{i=1}^k \\hat{w}(v_{i-1}, v_i) & \\hbox{by definition}\\\\\n",
    "& = \\sum_{i=1}^k \\Big( w(v_{i-1}, v_i) + f(v_{i-1}) - f(v_i) \\Big)& \\hbox{by definition}\\\\\n",
    "& = (w(v_0, v_1) + f(v_0) - f(v_1)) + (w(v_1, v_2) + f(v_1) - f(v_2)) + \\ldots + (w(v_{k-1}, v_k) + f(v_{k-1}) - f(v_k))& \\hbox{expanding}\\\\\n",
    "& = w(p) + f(v_0) - f(v_k) & \\hbox{cancelling terms}\n",
    "\\end{align}\n",
    "$\n",
    "\n",
    "<br><br><br>\n",
    "Now, consider comparing the weights of two paths $p_i$ and $p_j$ from $v_0$ to $v_k$. \n",
    "\n",
    "$\\hat{w}(p_i) = w(p_i) + f(v_0) - f(v_k)$  \n",
    "$\\hat{w}(p_j) = w(p_j) + f(v_0) - f(v_k)$\n",
    "\n",
    "Because the start and end nodes are the same, we have that  \n",
    "$w(p_i) < w(p_j) \\leftrightarrow \\hat{w}(p_i) < \\hat{w}(p_j)$\n",
    "\n",
    "$\n",
    "\\begin{align}\n",
    "\\hat{w}(p_i) &< \\hat{w}(p_j)\\\\\n",
    "w(p_i) + f(v_0) - f(v_k) &< w(p_j) + f(v_0) - f(v_k)\\\\\n",
    "w(p_i) &< w(p_j)\n",
    "\\end{align}\n",
    "$\n"
   ]
  },
  {
   "cell_type": "markdown",
   "metadata": {
    "slideshow": {
     "slide_type": "slide"
    }
   },
   "source": [
    "### ensuring positive edge weights\n",
    "\n",
    "Not all transformations $\\hat{w}(u,v) = w(u,v) + f(u) - f(v)$ will result in positive edge weights.\n",
    "\n",
    "<br>\n",
    "\n",
    "We do know this about shortest paths:\n",
    "\n",
    "**triangle inequality**: \n",
    "\n",
    "$\n",
    "\\begin{align}\n",
    "\\delta(u,v) & \\le \\delta(u,x) + w(x,v)\\\\\n",
    "0 & \\le w(x,v) + \\delta(u,x) - \\delta(u,v)\n",
    "\\end{align}\n",
    "$\n",
    "\n",
    "which looks a lot like $w(u,v) + f(u) - f(v)$\n",
    "\n",
    "So, if we can use shortest path as our function $f(v)$, we can ensure that weights are non-negative.\n",
    "\n",
    "But, what is the source of this shortest path?\n",
    "\n",
    "<br>\n",
    "We can't just pick a random node, as not all other nodes may be reachable from it.\n",
    "\n",
    "  - e.g., $a$ is not reachable from $b$ in our previous example\n",
    "  \n",
    "  \n",
    "<br><br>\n",
    "\n",
    "Instead, we'll create a \"dummy\" source node, and connect it with 0 weight to all nodes. This ensures all nodes get a shortest path less than $\\infty$.\n",
    "\n",
    "<br>\n",
    "\n",
    "  \n",
    "<center>\n",
    "<img src=\"figures/johnson_path.png\" width=80%/>\n",
    "</center>\n",
    "\n",
    "The new weights are\n",
    "\n",
    "$\\hat{w}(x,v) =  w(x,v) + \\delta(s,x) - \\delta(s,v)$"
   ]
  },
  {
   "cell_type": "markdown",
   "metadata": {
    "slideshow": {
     "slide_type": "slide"
    }
   },
   "source": [
    "### Putting it all together: Johnson's Algorithm\n",
    "\n",
    "<br>\n",
    "\n",
    "First, add source $s$ and edges from it to all other vertices with 0 cost:\n",
    "\n",
    "<center>\n",
    "<img src=\"figures/johnson1.jpg\"/>\n",
    "</center>    \n",
    "\n",
    "Next, run Bellman-Ford on this graph, resulting in distances $D[v]$, indicating the distance from $s$ to each $v$:\n",
    "\n",
    "<center>\n",
    "<img src=\"figures/johnson2.jpg\"/>\n",
    "</center>    \n",
    "\n",
    "\n",
    "Next, we update the graph using weights $w'(u,v) = w(u,v) + D[u] - D[v].~~~~$ E.g.\n",
    "\n",
    "$$\n",
    "\\begin{align}\n",
    "w'(b,c) & = w(b,c) + D[b] - D[v]\\\\\n",
    "& = 3 + (-3) - (-1) \\\\\n",
    "& = 1\n",
    "\\end{align}\n",
    "$$  \n",
    "\n",
    "Let's call this final, modified graph $G'$.\n",
    "<br>\n",
    "\n",
    "Next, we run Dijkstra's algorithm for each vertex in $G'$.\n",
    "- we can use Dijkstra since we've removed negative edges from the graph\n",
    "- we can do this in parallel\n",
    "- Let $\\delta_{G'}(u,v)$ be the weight of the shortest path from $u$ to $v$ in $G'$, as computed by Dijkstra.\n",
    "\n",
    "<br>\n",
    "\n",
    "Finally, we can compute the $\\delta_{G}(u,v)$, the shortest path in the original graph $G$, as follows:\n",
    "\n",
    "$$ \\delta_{G}(u,v) = \\delta_{G'}(u,v) - D[u] + D[v]$$\n",
    "\n",
    "E.g.\n",
    "\n",
    "$$\n",
    "\\begin{align}\n",
    "\\delta_{G}(a,c) & = \\delta_{G'}(a,c) - D[a] + D[c]\\\\\n",
    "& = 1 - 0 + (-1)\\\\\n",
    "& = 0\n",
    "\\end{align}\n",
    "$$\n"
   ]
  },
  {
   "cell_type": "code",
   "execution_count": 2,
   "metadata": {
    "code_folding": [],
    "slideshow": {
     "slide_type": "skip"
    }
   },
   "outputs": [],
   "source": [
    "# our previous implementations of dijkstra and bellman-ford\n",
    "from heapq import heappush, heappop \n",
    "import math\n",
    "\n",
    "def dijkstra(graph, source):\n",
    "    def dijkstra_helper(visited, frontier):\n",
    "        if len(frontier) == 0:\n",
    "            return visited\n",
    "        else:\n",
    "            # Pick next closest node from heap\n",
    "            distance, node = heappop(frontier)\n",
    "            if node in visited:\n",
    "                # Already visited, so ignore this longer path\n",
    "                return dijkstra_helper(visited, frontier)\n",
    "            else:\n",
    "                # We now know the shortest path from source to node.\n",
    "                # insert into visited dict.\n",
    "                visited[node] = distance\n",
    "                # Visit each neighbor of node and insert into heap.\n",
    "                # We may add same node more than once, heap\n",
    "                # will keep shortest distance prioritized.\n",
    "                for neighbor, weight in graph[node]:\n",
    "                    heappush(frontier, (distance + weight, neighbor))                \n",
    "                return dijkstra_helper(visited, frontier)\n",
    "        \n",
    "    frontier = []\n",
    "    heappush(frontier, (0, source))\n",
    "    visited = dict()  # store the final shortest paths for each node.\n",
    "    return dijkstra_helper(visited, frontier)\n",
    "\n",
    "\n",
    "\n",
    "def bellmanford(graph, source):\n",
    "    def bellmanford_helper(distances, k):        \n",
    "        if k == len(graph): # negative cycle\n",
    "            return -math.inf\n",
    "        else:\n",
    "            # compute new distances\n",
    "            new_distances = compute_distances(graph, distances)\n",
    "            \n",
    "            # check if distances have converged\n",
    "            if converged(distances, new_distances):\n",
    "                return distances\n",
    "            else:                \n",
    "                return bellmanford_helper(new_distances, k+1)\n",
    "        \n",
    "    # initialize\n",
    "    distances = dict()\n",
    "    for v in graph:\n",
    "        if v == source:\n",
    "            distances[v] = 0\n",
    "        else:\n",
    "            distances[v] = math.inf\n",
    "    return bellmanford_helper(distances, 0)\n",
    "\n",
    "def compute_distances(graph, distances):\n",
    "    new_distances = {}\n",
    "    for v, in_neighbors in graph.items(): # this loop can be done in parallel\n",
    "        # compute all possible distances from s->v\n",
    "        v_distances = [distances[v]] \n",
    "        for in_neighbor, weight in in_neighbors:\n",
    "            v_distances.append(distances[in_neighbor] + weight)\n",
    "        new_distances[v] = min(v_distances)\n",
    "    return new_distances\n",
    "\n",
    "def converged(old_distances, new_distances):\n",
    "    for k in old_distances:\n",
    "        if old_distances[k] != new_distances[k]:\n",
    "            return False\n",
    "    return True\n"
   ]
  },
  {
   "cell_type": "code",
   "execution_count": 5,
   "metadata": {
    "slideshow": {
     "slide_type": "slide"
    }
   },
   "outputs": [
    {
     "name": "stdout",
     "output_type": "stream",
     "text": [
      "bellman ford distances\n",
      "{'a': 0, 'b': -3, 'c': -1, 'd': -4, 's': 0}\n",
      "\n",
      "new graph\n",
      "{'a': {('b', 0), ('c', 2)},\n",
      " 'b': {('d', 0), ('c', 1)},\n",
      " 'c': {('a', 1)},\n",
      " 'd': {('c', 0)},\n",
      " 's': {('d', 4), ('c', 1), ('b', 3), ('a', 0)}}\n",
      "\n",
      "unadjusted shortest paths\n",
      "c {'c': 0, 'a': 1, 'b': 1, 'd': 1}\n",
      "a {'a': 0, 'b': 0, 'd': 0, 'c': 0}\n",
      "b {'b': 0, 'd': 0, 'c': 0, 'a': 1}\n",
      "d {'d': 0, 'c': 0, 'a': 1, 'b': 1}\n",
      "\n",
      "adjusted shortest paths\n",
      "{'a': {'a': 0, 'b': -3, 'c': -1, 'd': -4},\n",
      " 'b': {'a': 4, 'b': 0, 'c': 2, 'd': -1},\n",
      " 'c': {'a': 2, 'b': -1, 'c': 0, 'd': -2},\n",
      " 'd': {'a': 5, 'b': 2, 'c': 3, 'd': 0}}\n"
     ]
    }
   ],
   "source": [
    "from collections import defaultdict\n",
    "from pprint import pprint\n",
    "\n",
    "def johnson(graph):\n",
    "    # add \"dummy\" node that links to all nodes with 0 cost.\n",
    "    for v, in_neighbors in graph.items():\n",
    "        in_neighbors.add(('s', 0))\n",
    "    graph['s'] = {}\n",
    "    \n",
    "    # call bellmanford with new graph\n",
    "    distances = bellmanford(graph, 's')\n",
    "    print('bellman ford distances')\n",
    "    print(distances)\n",
    "    \n",
    "    # create new graph with adjusted weights.\n",
    "    # b/c we'll be using Dijkstra, we'll use our original representation\n",
    "    # of a dict from node to set of out-neighbors.\n",
    "    new_graph = defaultdict(set)\n",
    "    for v, in_neighbors in graph.items():\n",
    "        for in_neighbor, weight in in_neighbors:\n",
    "            new_graph[in_neighbor].add((v, weight + distances[in_neighbor] - distances[v]))\n",
    "    print('\\nnew graph')\n",
    "    pprint(dict(new_graph))\n",
    "    \n",
    "    # now, run dijkstra on each node in the graph\n",
    "    print('\\nunadjusted shortest paths')\n",
    "    apsp = {}\n",
    "    for v in new_graph:\n",
    "        if v != 's':\n",
    "            distances_from_v = dijkstra(new_graph, v)\n",
    "            # update final path scores\n",
    "            print(v, distances_from_v)            \n",
    "            for u, dist in distances_from_v.items():\n",
    "                # adjust distances appropriately.\n",
    "                distances_from_v[u] = dist - distances[v] + distances[u]\n",
    "            apsp[v] = distances_from_v\n",
    "    print('\\nadjusted shortest paths')\n",
    "    pprint(apsp)\n",
    "    return apsp\n",
    "\n",
    "graph = {\n",
    "            'a': {('c', 2)},\n",
    "            'b': {('a', -3)},\n",
    "            'c': {('a', 1), ('b', 3), ('d', 3)}, \n",
    "            'd': {('b', -1)},\n",
    "        }\n",
    "    \n",
    "result = johnson(graph)"
   ]
  },
  {
   "cell_type": "markdown",
   "metadata": {
    "slideshow": {
     "slide_type": "slide"
    }
   },
   "source": [
    "This is an example of a **reduction**! How?"
   ]
  },
  {
   "cell_type": "markdown",
   "metadata": {
    "slideshow": {
     "slide_type": "fragment"
    }
   },
   "source": [
    "We reduced the APSP problem with negative edge weights, to the APSP problem with positive edge weights.\n",
    "\n",
    "- The cost of the reduction was $O(|V| \\cdot |E|)$, the time to run Bellman-Ford\n",
    "- The cost to solve the new version of the problem is $O(|V|\\cdot|E| \\log |E|)$\n",
    "- Since the cost of the latter is less than the former, this is an *efficient* reduction."
   ]
  },
  {
   "cell_type": "markdown",
   "metadata": {
    "slideshow": {
     "slide_type": "slide"
    }
   },
   "source": [
    "## Cost of Johnson's Algorithm\n",
    "\n",
    "1. Add edges from $s$:\n",
    "\n",
    "```python\n",
    "    for v, in_neighbors in graph.items():\n",
    "        in_neighbors.add(('s', 0))\n",
    "```\n",
    "\n",
    "$O(|V|)$\n",
    "\n",
    "<br>\n",
    "\n",
    "2. Run Bellman-Ford\n",
    "\n",
    "```python\n",
    "    distances = bellmanford(graph, 's')\n",
    "```\n",
    "$O(|V|\\cdot |E|)$\n",
    "       \n",
    "    \n",
    "<br>\n",
    "\n",
    "3. Adjust weights $\\hat{w}(x,v) =  w(x,v) + \\delta(s,x) - \\delta(s,v)$\n",
    "\n",
    "```python\n",
    "    new_graph = defaultdict(set)\n",
    "    for v, in_neighbors in graph.items():\n",
    "        for in_neighbor, weight in in_neighbors:\n",
    "            new_graph[in_neighbor].add((v, weight + distances[in_neighbor] - distances[v]))\n",
    "```\n",
    "\n",
    "$O(|E|)$\n",
    "<br>\n",
    "\n",
    "4. Run Dijkstra $|V|$ times:\n",
    "\n",
    "```python\n",
    "    for v in new_graph:\n",
    "        if v != 's':\n",
    "            distances_from_v = dijkstra(new_graph, v)\n",
    "```\n",
    "\n",
    "$O(|V|\\cdot|E| \\log |E|)$\n",
    "\n",
    "5. Adjust final path weights\n",
    "\n",
    "```python\n",
    "           for u, dist in distances_from_v.items():\n",
    "                distances_from_v[u] = dist - distances[v] + distances[u]\n",
    "```\n",
    "$O(|E|)$\n",
    "\n",
    "<br>\n",
    "\n",
    "Total work is then:\n",
    "\n",
    "$O(|V|) ~+~ O(|V|\\cdot |E|) ~+~ O(|E|) ~+~ O(|V|\\cdot|E| \\log |E|) ~+~ O(|E|) ~~~ \\in ~~~ O(|V|\\cdot|E| \\log |E|) $"
   ]
  }
 ],
 "metadata": {
  "celltoolbar": "Slideshow",
  "kernelspec": {
   "display_name": "Python 3 (ipykernel)",
   "language": "python",
   "name": "python3"
  },
  "language_info": {
   "codemirror_mode": {
    "name": "ipython",
    "version": 3
   },
   "file_extension": ".py",
   "mimetype": "text/x-python",
   "name": "python",
   "nbconvert_exporter": "python",
   "pygments_lexer": "ipython3",
   "version": "3.9.13"
  },
  "rise": {
   "autolaunch": true,
   "controls": false,
   "enable_chalkboard": true,
   "scroll": true,
   "theme": "simple",
   "transition": "fade"
  },
  "toc": {
   "base_numbering": 1,
   "nav_menu": {},
   "number_sections": true,
   "sideBar": true,
   "skip_h1_title": true,
   "title_cell": "Table of Contents",
   "title_sidebar": "Contents",
   "toc_cell": true,
   "toc_position": {},
   "toc_section_display": true,
   "toc_window_display": false
  }
 },
 "nbformat": 4,
 "nbformat_minor": 4
}
