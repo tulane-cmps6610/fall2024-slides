{
 "cells": [
  {
   "cell_type": "code",
   "execution_count": 10,
   "metadata": {
    "code_folding": [],
    "slideshow": {
     "slide_type": "skip"
    }
   },
   "outputs": [
    {
     "data": {
      "text/html": [
       "<style>.prompt{width: 0px; min-width: 0px; visibility: collapse}</style>"
      ],
      "text/plain": [
       "<IPython.core.display.HTML object>"
      ]
     },
     "metadata": {},
     "output_type": "display_data"
    },
    {
     "data": {
      "text/html": [
       "<style>\n",
       "div#notebook {\n",
       " font-family: \"Exo_2\", sans-serif;\n",
       "}\n",
       "\n",
       ".rendered_html h1,\n",
       ".text_cell_render h1 {\n",
       " color: #126dce;\n",
       " font-size: 220%;\n",
       " text-align: center;\n",
       " font-weight: lighter;\n",
       "}\n",
       ".rendered_html h2,\n",
       ".text_cell_render h2 {\n",
       " text-align: center;\n",
       " font-size: 170%;\n",
       " color: #126dce;\n",
       " font-style: normal;\n",
       " font-weight: lighter;\n",
       "}\n",
       ".rendered_html h3,\n",
       ".text_cell_render h3 {\n",
       " font-size: 150%;\n",
       " color: #126dce;\n",
       " font-weight: lighter;\n",
       " text-decoration: italic;\n",
       " font-style: normal;\n",
       "}\n",
       ".rendered_html h4,\n",
       ".text_cell_render h4 {\n",
       " font-size: 120%;\n",
       " color: #126dce;\n",
       " font-weight: underline;\n",
       " font-style: normal;\n",
       "}\n",
       ".rendered_html h5,\n",
       ".text_cell_render h5 {\n",
       " font-size: 100%;\n",
       " color: #2f2f2f;\n",
       " font-weight: lighter;\n",
       " text-decoration: underline;\n",
       "}\n",
       "</style>\n"
      ],
      "text/plain": [
       "<IPython.core.display.HTML object>"
      ]
     },
     "metadata": {},
     "output_type": "display_data"
    }
   ],
   "source": [
    "# setup\n",
    "from IPython.core.display import display,HTML\n",
    "display(HTML('<style>.prompt{width: 0px; min-width: 0px; visibility: collapse}</style>'))\n",
    "display(HTML(open('../rise.css').read()))\n",
    "\n",
    "# imports\n",
    "import numpy as np\n",
    "import matplotlib.pyplot as plt\n",
    "import seaborn as sns\n",
    "%matplotlib inline\n",
    "sns.set(style=\"whitegrid\", font_scale=1.5, rc={'figure.figsize':(12, 6)})\n"
   ]
  },
  {
   "cell_type": "markdown",
   "metadata": {
    "slideshow": {
     "slide_type": "slide"
    }
   },
   "source": [
    "# CMPS 6610\n",
    "# Algorithms\n",
    "\n",
    "## Depth First Search\n"
   ]
  },
  {
   "cell_type": "markdown",
   "metadata": {
    "slideshow": {
     "slide_type": "slide"
    }
   },
   "source": [
    "Today's agenda:\n",
    "\n",
    "- depth-first search\n",
    "- comparison with breadth-first search\n",
    "- cycle detection"
   ]
  },
  {
   "cell_type": "markdown",
   "metadata": {
    "slideshow": {
     "slide_type": "slide"
    }
   },
   "source": [
    "\n",
    "<center>\n",
    "<table border=0>\n",
    "    <tr style=\"background-color: #ffffff;\"><td><h2>DFS&nbsp;&nbsp;&nbsp;&nbsp;&nbsp;&nbsp;&nbsp;&nbsp;&nbsp;&nbsp;&nbsp;&nbsp;&nbsp;&nbsp;&nbsp;&nbsp;&nbsp;&nbsp;&nbsp;&nbsp;&nbsp;&nbsp;&nbsp;&nbsp;</h2></td><td><h2>BFS</h2></td></tr>\n",
    "<tr style=\"background-color: #ffffff;\">\n",
    "    <td><img src=\"https://upload.wikimedia.org/wikipedia/commons/7/7f/Depth-First-Search.gif\" width=50%/></td>\n",
    "    <td><img src=\"https://upload.wikimedia.org/wikipedia/commons/4/46/Animated_BFS.gif\" width=100%/></td>\n",
    "    </tr>\n",
    "</table>\n",
    "</center>\n",
    "\n",
    "[source](https://commons.wikimedia.org/w/index.php?curid=6342841)\n",
    "\n"
   ]
  },
  {
   "cell_type": "markdown",
   "metadata": {
    "slideshow": {
     "slide_type": "fragment"
    }
   },
   "source": [
    "\n",
    "While BFS uses a queue, we can implement DFS with a stack\n",
    "\n",
    "**last in first out**"
   ]
  },
  {
   "cell_type": "code",
   "execution_count": 11,
   "metadata": {
    "slideshow": {
     "slide_type": "fragment"
    }
   },
   "outputs": [
    {
     "name": "stdout",
     "output_type": "stream",
     "text": [
      "visiting A\n",
      "visiting C\n",
      "visiting F\n",
      "visiting G\n",
      "visiting B\n",
      "visiting D\n",
      "visiting E\n",
      "visiting H\n"
     ]
    },
    {
     "data": {
      "text/plain": [
       "{'A', 'B', 'C', 'D', 'E', 'F', 'G', 'H'}"
      ]
     },
     "execution_count": 11,
     "metadata": {},
     "output_type": "execute_result"
    }
   ],
   "source": [
    "from collections import deque\n",
    "\n",
    "def dfs_stack(graph, source):\n",
    "    def dfs_stack_helper(visited, frontier):\n",
    "        if len(frontier) == 0:\n",
    "            return visited\n",
    "        else:\n",
    "            node = frontier.pop()\n",
    "            print('visiting', node)\n",
    "            visited.add(node)\n",
    "            frontier.extend(filter(lambda n: n not in visited, graph[node]))\n",
    "            return dfs_stack_helper(visited, frontier)\n",
    "        \n",
    "    frontier = deque()\n",
    "    frontier.append(source)\n",
    "    visited = set()\n",
    "    return dfs_stack_helper(visited, frontier)\n",
    "    \n",
    "graph = {\n",
    "            'A': {'B', 'C'},\n",
    "            'B': {'A', 'D', 'E'},\n",
    "            'C': {'A', 'F', 'G'},\n",
    "            'D': {'B'},\n",
    "            'E': {'B', 'H'},\n",
    "            'F': {'C'},\n",
    "            'G': {'C'},\n",
    "            'H': {'E'}\n",
    "        }\n",
    "\n",
    "dfs_stack(graph, 'A')"
   ]
  },
  {
   "cell_type": "markdown",
   "metadata": {
    "slideshow": {
     "slide_type": "fragment"
    }
   },
   "source": [
    "### Compare with `bfs_serial`!\n",
    "\n",
    "`dfs_stack`:\n",
    "\n",
    "- `node = frontier.pop()`\n",
    "\n",
    "\n",
    "`bfs_serial`:\n",
    "\n",
    "- `node = frontier.popleft()`"
   ]
  },
  {
   "cell_type": "markdown",
   "metadata": {
    "slideshow": {
     "slide_type": "slide"
    }
   },
   "source": [
    "\n",
    "### DFS with recursion\n",
    "\n",
    "\n",
    "but wait, can't we just use recursion?\n",
    "\n",
    "recursion maintains a stack of calls automatically.\n",
    "\n",
    "<center>\n",
    "<img src=\"https://upload.wikimedia.org/wikipedia/commons/7/7f/Depth-First-Search.gif\" width=25%/>\n",
    "</center>\n",
    "\n"
   ]
  },
  {
   "cell_type": "code",
   "execution_count": 12,
   "metadata": {
    "slideshow": {
     "slide_type": "fragment"
    }
   },
   "outputs": [
    {
     "name": "stdout",
     "output_type": "stream",
     "text": [
      "visiting A\n",
      "visiting B\n",
      "visiting E\n",
      "visiting H\n",
      "visiting D\n",
      "visiting C\n",
      "visiting G\n",
      "visiting F\n"
     ]
    },
    {
     "data": {
      "text/plain": [
       "{'A', 'B', 'C', 'D', 'E', 'F', 'G', 'H'}"
      ]
     },
     "execution_count": 12,
     "metadata": {},
     "output_type": "execute_result"
    }
   ],
   "source": [
    "def dfs_recursive(graph, source):\n",
    "    \n",
    "    def dfs_recursive_helper(visited, node):\n",
    "        if node in visited:\n",
    "            return visited\n",
    "        else:\n",
    "            print('visiting', node)\n",
    "            visited.add(node)\n",
    "            iterate(dfs_recursive_helper, visited, list(graph[node]))\n",
    "            return visited\n",
    "\n",
    "    visited = set()\n",
    "    return dfs_recursive_helper(visited, source)\n",
    "\n",
    "def iterate(f, x, a):\n",
    "    if len(a) == 0:\n",
    "        return x\n",
    "    else:\n",
    "        return iterate(f, f(x, a[0]), a[1:])\n",
    "\n",
    "dfs_recursive(graph, 'A')"
   ]
  },
  {
   "cell_type": "markdown",
   "metadata": {
    "slideshow": {
     "slide_type": "slide"
    }
   },
   "source": [
    "## Cost of DFS\n",
    "\n",
    "As in BFS, we add a node to the visited set exactly once ($|V|$).\n",
    "\n",
    "For each edge, we do one lookup to see if it exists in the visited set ($|E|$).\n",
    "\n",
    "Thus, the total work is equivalent to BFS: $O(|V| + |E|)$.\n",
    "\n"
   ]
  },
  {
   "cell_type": "markdown",
   "metadata": {
    "slideshow": {
     "slide_type": "slide"
    }
   },
   "source": [
    "## Parallelism in DFS?\n",
    "<img src=\"figures/dfs_nop.jpg\" width=\"30%\"/>\n",
    "\n",
    "Is there any opportunity for parallelism?\n",
    "\n",
    "One idea is to just run the search for each child in parallel. \n",
    "- E.g., in this example, search the subtree starting at $a$ in parallel with the subtree starting at $b$\n",
    "\n",
    "What potential problems arise?"
   ]
  },
  {
   "cell_type": "markdown",
   "metadata": {
    "slideshow": {
     "slide_type": "fragment"
    }
   },
   "source": [
    "- We may end up visiting $b$ twice (or $c$, or $f$)\n",
    "- This isn't in DFS order! We shouldn't be visiting $b$ before $e$.\n",
    "\n",
    "DFS belongs to a class of problems called **P**-complete: computations that most likely do not admit solutions with **polylogarithmic** span. "
   ]
  },
  {
   "cell_type": "markdown",
   "metadata": {
    "slideshow": {
     "slide_type": "slide"
    }
   },
   "source": [
    "## Cycle detection\n",
    "\n",
    "How can we modify DFS to determine if the graph has a cycle?\n",
    "\n",
    "**cycle**: a path in which all nodes are distinct except the first and last\n",
    "- in an undirected graph, a cycle must contain at least three nodes\n",
    "\n"
   ]
  },
  {
   "cell_type": "markdown",
   "metadata": {
    "slideshow": {
     "slide_type": "fragment"
    }
   },
   "source": [
    "**idea**: determine whether a vertex is visited more than once.\n",
    "\n",
    "but...the second visit must be from a different source\n",
    "\n",
    "<img src=\"figures/triangle.png\"/>\n",
    "\n",
    "e.g., if $a$ is the source, we will vist $b$ twice\n",
    "- once when it is added to `visited`\n",
    "- once in the base case of the recursive call (`if node in visited`), with `c` as the parent\n",
    "\n",
    "but we will visit $a$ three times:\n",
    "- once when it is added to `visited`\n",
    "- twice in the base case of the recursive call (`if node in visited`)\n",
    "  - with `b` as the parent\n",
    "  - with `c` as the parent\n",
    "  \n",
    "So, we need to keep track of the parent of each recursive call, and make sure not to make a recursive call back to the parent."
   ]
  },
  {
   "cell_type": "markdown",
   "metadata": {
    "slideshow": {
     "slide_type": "fragment"
    }
   },
   "source": [
    "<img src=\"https://upload.wikimedia.org/wikipedia/commons/4/46/Animated_BFS.gif\" width=30%/>\n"
   ]
  },
  {
   "cell_type": "code",
   "execution_count": 13,
   "metadata": {
    "slideshow": {
     "slide_type": "fragment"
    }
   },
   "outputs": [
    {
     "name": "stdout",
     "output_type": "stream",
     "text": [
      "visiting A\n",
      "visiting B\n",
      "visiting E\n",
      "visiting H\n",
      "visiting D\n",
      "visiting C\n",
      "visiting G\n",
      "visiting F\n"
     ]
    },
    {
     "data": {
      "text/plain": [
       "({'A', 'B', 'C', 'D', 'E', 'F', 'G', 'H'}, False)"
      ]
     },
     "execution_count": 13,
     "metadata": {},
     "output_type": "execute_result"
    }
   ],
   "source": [
    "def dfs_cycle(graph, source):\n",
    "    visited = set()\n",
    "\n",
    "    def dfs_cycle_helper(result, node, parent):\n",
    "        \"\"\"\n",
    "        We pack (visited, has_cycle) variables into a single result variable,\n",
    "        so we can use iterate.\n",
    "        \"\"\"\n",
    "        visited, has_cycle = result\n",
    "\n",
    "        if node in visited:\n",
    "            print('found cycle from %s to %s' % (parent, node))\n",
    "            return (visited, True)\n",
    "\n",
    "        else:\n",
    "            print('visiting', node)\n",
    "            visited.add(node)\n",
    "            # ignore the parent!\n",
    "            neighbors = list(filter(lambda n: n != parent, graph[node]))\n",
    "            # curry the dfs_cycle_helper function to set the parent variable \n",
    "            # to be the node we are visiting now.                         \n",
    "            fn = lambda r, n: dfs_cycle_helper(r, n, node)\n",
    "            res = iterate(fn, (visited, has_cycle), neighbors)\n",
    "            return res\n",
    "    \n",
    "    return dfs_cycle_helper((visited, False), source, source)\n",
    "    \n",
    "dfs_cycle(graph, 'A')"
   ]
  },
  {
   "cell_type": "code",
   "execution_count": 14,
   "metadata": {
    "slideshow": {
     "slide_type": "fragment"
    }
   },
   "outputs": [
    {
     "name": "stdout",
     "output_type": "stream",
     "text": [
      "visiting A\n",
      "visiting B\n",
      "visiting E\n",
      "visiting H\n",
      "visiting D\n",
      "visiting C\n",
      "visiting G\n",
      "found cycle from G to A\n",
      "visiting F\n"
     ]
    },
    {
     "data": {
      "text/plain": [
       "({'A', 'B', 'C', 'D', 'E', 'F', 'G', 'H'}, True)"
      ]
     },
     "execution_count": 14,
     "metadata": {},
     "output_type": "execute_result"
    }
   ],
   "source": [
    "graph2 = {\n",
    "            'A': {'B', 'C'},\n",
    "            'B': {'A', 'D', 'E'},\n",
    "            'C': {'A', 'F', 'G'},\n",
    "            'D': {'B'},\n",
    "            'E': {'B', 'H'},\n",
    "            'F': {'C'},\n",
    "            'G': {'C', 'A'},  # add cycle back to A from G\n",
    "            'H': {'E'}\n",
    "        }\n",
    "dfs_cycle(graph2, 'A')"
   ]
  }
 ],
 "metadata": {
  "celltoolbar": "Slideshow",
  "kernelspec": {
   "display_name": "Python 3 (ipykernel)",
   "language": "python",
   "name": "python3"
  },
  "language_info": {
   "codemirror_mode": {
    "name": "ipython",
    "version": 3
   },
   "file_extension": ".py",
   "mimetype": "text/x-python",
   "name": "python",
   "nbconvert_exporter": "python",
   "pygments_lexer": "ipython3",
   "version": "3.9.13"
  },
  "rise": {
   "autolaunch": true,
   "controls": false,
   "enable_chalkboard": true,
   "scroll": true,
   "theme": "simple",
   "transition": "fade"
  },
  "toc": {
   "base_numbering": 1,
   "nav_menu": {},
   "number_sections": true,
   "sideBar": true,
   "skip_h1_title": true,
   "title_cell": "Table of Contents",
   "title_sidebar": "Contents",
   "toc_cell": true,
   "toc_position": {},
   "toc_section_display": true,
   "toc_window_display": false
  }
 },
 "nbformat": 4,
 "nbformat_minor": 4
}
