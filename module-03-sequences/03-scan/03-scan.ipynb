{
 "cells": [
  {
   "cell_type": "code",
   "execution_count": 1,
   "metadata": {
    "code_folding": [],
    "slideshow": {
     "slide_type": "skip"
    }
   },
   "outputs": [
    {
     "data": {
      "text/html": [
       "<style>.prompt{width: 0px; min-width: 0px; visibility: collapse}</style>"
      ],
      "text/plain": [
       "<IPython.core.display.HTML object>"
      ]
     },
     "metadata": {},
     "output_type": "display_data"
    },
    {
     "data": {
      "text/html": [
       "<style>\n",
       "div#notebook {\n",
       " font-family: \"Exo_2\", sans-serif;\n",
       "}\n",
       "\n",
       ".rendered_html h1,\n",
       ".text_cell_render h1 {\n",
       " color: #126dce;\n",
       " font-size: 220%;\n",
       " text-align: center;\n",
       " font-weight: lighter;\n",
       "}\n",
       ".rendered_html h2,\n",
       ".text_cell_render h2 {\n",
       " text-align: center;\n",
       " font-size: 170%;\n",
       " color: #126dce;\n",
       " font-style: normal;\n",
       " font-weight: lighter;\n",
       "}\n",
       ".rendered_html h3,\n",
       ".text_cell_render h3 {\n",
       " font-size: 150%;\n",
       " color: #126dce;\n",
       " font-weight: lighter;\n",
       " text-decoration: italic;\n",
       " font-style: normal;\n",
       "}\n",
       ".rendered_html h4,\n",
       ".text_cell_render h4 {\n",
       " font-size: 120%;\n",
       " color: #126dce;\n",
       " font-weight: underline;\n",
       " font-style: normal;\n",
       "}\n",
       ".rendered_html h5,\n",
       ".text_cell_render h5 {\n",
       " font-size: 100%;\n",
       " color: #2f2f2f;\n",
       " font-weight: lighter;\n",
       " text-decoration: underline;\n",
       "}\n",
       "</style>\n"
      ],
      "text/plain": [
       "<IPython.core.display.HTML object>"
      ]
     },
     "metadata": {},
     "output_type": "display_data"
    }
   ],
   "source": [
    "# setup\n",
    "from IPython.core.display import display,HTML\n",
    "display(HTML('<style>.prompt{width: 0px; min-width: 0px; visibility: collapse}</style>'))\n",
    "display(HTML(open('rise.css').read()))\n",
    "\n",
    "# imports\n",
    "import numpy as np\n",
    "import matplotlib.pyplot as plt\n",
    "import seaborn as sns\n",
    "%matplotlib inline\n",
    "sns.set(style=\"whitegrid\", font_scale=1.5, rc={'figure.figsize':(12, 6)})\n"
   ]
  },
  {
   "cell_type": "markdown",
   "metadata": {
    "slideshow": {
     "slide_type": "slide"
    }
   },
   "source": [
    "# CMPS 6610\n",
    "# Algorithms\n",
    "\n",
    "## Scan\n"
   ]
  },
  {
   "cell_type": "markdown",
   "metadata": {
    "slideshow": {
     "slide_type": "slide"
    }
   },
   "source": [
    "## Scan\n",
    "\n",
    "*reduce* doesn't store the intermediate results, which limits it somewhat. \n",
    "\n",
    "*scan* is like reduce, but it keeps track of the intermediate computations (like *iterate* does).\n",
    "\n",
    "$scan \\: (f : \\alpha \\times \\alpha \\rightarrow \\alpha) (id : \\alpha) (a : \\mathbb{S}_\\alpha) : (S_\\alpha * \\alpha)$\n",
    "\n",
    "\n",
    "Input is:\n",
    "- $f$: an associative binary function\n",
    "- $a$ is the sequence\n",
    "- $id$ is the **left identity** of $f$ $\\:\\: \\equiv \\:\\:$ $f(id, x) = x$ for all $x \\in \\alpha$\n",
    "\n",
    "Returns:\n",
    "- a tuple containing:\n",
    "  - a value of type $S_\\alpha$, the sequence of intermediate values\n",
    "  - a value of type $\\alpha$ that is the result of the \"sum\" with respect to $f$ of the input sequence $a$\n",
    "\n",
    "\n",
    "\n",
    "<br>\n",
    "\n",
    "\n",
    "<br>\n",
    "\n",
    "$scan \\: f \\: id \\: a = (\\langle reduce \\:\\: f \\:\\: id \\:\\: a[0 \\ldots (i-1)] : 0 \\le i < |a| \\rangle,$  \n",
    "$\\:\\:\\:\\:\\:\\:\\:\\:\\:\\:\\:\\:\\:\\:\\:\\:\\:\\:\\:\\:\\:\\:\\:\\:\\: reduce \\:\\: f \\:\\: id \\:\\: a)$"
   ]
  },
  {
   "cell_type": "code",
   "execution_count": 19,
   "metadata": {
    "slideshow": {
     "slide_type": "fragment"
    }
   },
   "outputs": [
    {
     "data": {
      "text/plain": [
       "([2, 3, 6, 8, 10, 15, 19, 20], 20)"
      ]
     },
     "execution_count": 19,
     "metadata": {},
     "output_type": "execute_result"
    }
   ],
   "source": [
    "def reduce(f, id_, a):\n",
    "    # print('a=%s' % a) # for tracing\n",
    "    if len(a) == 0:\n",
    "        return id_\n",
    "    elif len(a) == 1:\n",
    "        return a[0]\n",
    "    else:\n",
    "        # can call these in parallel\n",
    "        return f(reduce(f, id_, a[:len(a)//2]),\n",
    "                  reduce(f, id_, a[len(a)//2:]))\n",
    "        \n",
    "def add(x, y):\n",
    "    return x + y\n",
    "\n",
    "def scan(f, id_, a):\n",
    "    \"\"\"\n",
    "    This is a horribly inefficient implementation of scan\n",
    "    only to understand what it does.\n",
    "    We'll discuss how to make it more efficient later.\n",
    "    \"\"\"\n",
    "    return (\n",
    "            [reduce(f, id_, a[:i+1]) for i in range(len(a))],\n",
    "             reduce(f, id_, a)\n",
    "           )\n",
    "\n",
    "scan(add, 0, [2,1,3,2,2,5,4,1])"
   ]
  },
  {
   "cell_type": "markdown",
   "metadata": {
    "slideshow": {
     "slide_type": "fragment"
    }
   },
   "source": [
    "`scan` is sometimes called `prefix sum`, as in the previous example it computes the sum of every prefix of a list."
   ]
  },
  {
   "cell_type": "code",
   "execution_count": 5,
   "metadata": {
    "slideshow": {
     "slide_type": "fragment"
    }
   },
   "outputs": [
    {
     "data": {
      "text/plain": [
       "([10, 10, 10, 12, 12, 16, 16], 16)"
      ]
     },
     "execution_count": 5,
     "metadata": {},
     "output_type": "execute_result"
    }
   ],
   "source": [
    "# what does this do?\n",
    "import math\n",
    "def gt(x,y):\n",
    "    return x if x > y else y\n",
    "\n",
    "scan(gt, -math.inf, [10,4,5,12,3,16,5]) "
   ]
  },
  {
   "cell_type": "markdown",
   "metadata": {
    "slideshow": {
     "slide_type": "slide"
    }
   },
   "source": [
    "e.g., recall **Rightmost Positive**\n",
    "\n",
    "> Given a sequence of integers $a$, for each element in $a$ find the rightmost positive number to its left.\n",
    "\n",
    "E.g., \n",
    "\n",
    "$rpos \\: \\langle 1, 0, -1, 2, 3, 0, -5, 7 \\rangle \\Rightarrow \\langle -\\infty, 1, 1, 1, 2, 3, 3, 3 \\rangle$\n",
    "\n",
    "We solved with `iterate`, but we can also solve with `scan`."
   ]
  },
  {
   "cell_type": "code",
   "execution_count": 6,
   "metadata": {
    "slideshow": {
     "slide_type": "fragment"
    }
   },
   "outputs": [
    {
     "data": {
      "text/plain": [
       "([1, 1, 1, 2, 3, 3, 3, 7], 7)"
      ]
     },
     "execution_count": 6,
     "metadata": {},
     "output_type": "execute_result"
    }
   ],
   "source": [
    "def select_positive(last_positive_value, next_element):\n",
    "    \"\"\"\n",
    "    Params:\n",
    "      last_positive_value...the last positive value seen\n",
    "      next_element..........next element from input list\n",
    "      \n",
    "    Returns:\n",
    "      the element to be remembered going forward\n",
    "    \"\"\"\n",
    "    if next_element > 0:        # remember this new value\n",
    "        return next_element\n",
    "    else:                       # reuse the old value\n",
    "        return last_positive_value\n",
    "    \n",
    "scan(select_positive, -math.inf, [1,0,-1,2,3,0,-5,7])"
   ]
  },
  {
   "cell_type": "markdown",
   "metadata": {
    "slideshow": {
     "slide_type": "slide"
    }
   },
   "source": [
    "\n",
    "But, because our `scan` implementation is currently slow, this doesn't gain us anything.\n",
    "\n",
    "Surprisingly, we can reduce the work and span of scan, even though it looks \"hopelessly serial.\"\n",
    "\n",
    "```python\n",
    "def scan(f, id_, a):\n",
    "    \"\"\"\n",
    "    This is a horribly inefficient implementation of scan\n",
    "    only to understand what it does.\n",
    "    We'll discuss how to make it more efficient later.\n",
    "    \"\"\"\n",
    "    return (\n",
    "            [reduce(f, id_, a[:i+1]) for i in range(len(a))],\n",
    "             reduce(f, id_, a)\n",
    "           )\n",
    "```"
   ]
  },
  {
   "cell_type": "markdown",
   "metadata": {
    "slideshow": {
     "slide_type": "slide"
    }
   },
   "source": [
    "We will look at how to improve `scan` approach using `prefix_sum` as an example.\n",
    "\n",
    "$\\texttt{prefix_sum}([2,1,3,2,2,5,4,1]) \\rightarrow ([0, 2, 3, 6, 8, 10, 15, 19], 20)$\n",
    "\n",
    "\n",
    "Divide and conquer won't quite work...why?\n",
    "\n",
    "<br><br><br><br>\n",
    "need sum at $i-1$ to compute sum at $i$"
   ]
  },
  {
   "cell_type": "markdown",
   "metadata": {
    "slideshow": {
     "slide_type": "slide"
    }
   },
   "source": [
    "Instead, we use an idea called **contraction** that is like divide and conquer, but doesn't require subproblems to be independent. Yet it still allows some parallelism.\n",
    "\n",
    "\n",
    "<br><br>\n",
    "\n",
    "**Key observation:**\n",
    "\n",
    "Given input $[2,1,3,2,2,5,4,1]$ we can compute pairwise addition on each adjacent pairs of numbers:\n",
    "\n",
    "$[2,1,3,2,2,5,4,1] \\rightarrow$\n",
    "\n",
    "$[(2+1), (3+2), (2+5), (4+1)] \\rightarrow$\n",
    "\n",
    "$[3, 5, 7, 5]$\n",
    "\n",
    "### These four additions can be done in parallel"
   ]
  },
  {
   "cell_type": "markdown",
   "metadata": {
    "slideshow": {
     "slide_type": "fragment"
    }
   },
   "source": [
    "This is a *partial* output. How do we modify this to get the final output?\n",
    "\n",
    "\n",
    "Since we are using recursion, we will assume we have access to the right output for this subproblem, which is\n",
    "\n",
    "$\\texttt{prefix_sum}([3, 5, 7, 5]) \\rightarrow ([0, 3, 8, 15], 20)$\n",
    "\n",
    "We want to have $~[\\mathbf{0}, 2, \\mathbf{3}, 6, \\mathbf{8}, 10, \\mathbf{15}, 19], 20)$\n",
    "\n",
    "<br>\n",
    "\n",
    "How can we combine this partial solution with the original input $[2,1,3,2,2,5,4,1]$ to get the right answer?\n"
   ]
  },
  {
   "cell_type": "markdown",
   "metadata": {
    "slideshow": {
     "slide_type": "fragment"
    }
   },
   "source": [
    "![figures/scan.png](figures/scan.png)\n",
    "\n",
    "> Sum together the partial output at position $i$ with the original input at $i+1$."
   ]
  },
  {
   "cell_type": "code",
   "execution_count": 7,
   "metadata": {
    "slideshow": {
     "slide_type": "fragment"
    }
   },
   "outputs": [
    {
     "name": "stdout",
     "output_type": "stream",
     "text": [
      "                 a= [2, 1, 3, 2, 2, 5, 4, 1]\n",
      "                 subproblem= [3, 5, 7, 5]\n",
      "         a= [3, 5, 7, 5]\n",
      "         subproblem= [8, 12]\n",
      "     a= [8, 12]\n",
      "     subproblem= [20]\n",
      "   a= [20]\n",
      "     partial_output= [0] total= 20\n",
      "     returning ([0, 8], 20)\n",
      "         partial_output= [0, 8] total= 20\n",
      "         returning ([0, 3, 8, 15], 20)\n",
      "                 partial_output= [0, 3, 8, 15] total= 20\n",
      "                 returning ([0, 2, 3, 6, 8, 10, 15, 19], 20)\n"
     ]
    },
    {
     "data": {
      "text/plain": [
       "([0, 2, 3, 6, 8, 10, 15, 19], 20)"
      ]
     },
     "execution_count": 7,
     "metadata": {},
     "output_type": "execute_result"
    }
   ],
   "source": [
    "def fastscan(f, id_, a):\n",
    "    space = len(a) * '  ' # for printing\n",
    "    print(space, 'a=', a)\n",
    "\n",
    "    # base cases are same as reduce\n",
    "    if len(a) == 0:\n",
    "        return [], id_\n",
    "    elif len(a) == 1:\n",
    "        return [id_], a[0]\n",
    "    else:\n",
    "        # compute the \"partial solution\" by\n",
    "        # applying f to each adjacent pair of numbers \n",
    "        # e.g., [2, 1, 3, 2, 2, 5, 4, 1] -> [3, 5, 7, 5]\n",
    "        # this can be done in parallel\n",
    "        subproblem = [f(a[i], a[i+1]) for i in range(len(a))[::2]]\n",
    "        print(space, 'subproblem=', subproblem)\n",
    "\n",
    "        # recursively apply fastscan to the subproblem\n",
    "        partial_output, total = fastscan(f, id_, subproblem)     # ->[8, 12]->[20]\n",
    "        # partial_output = [0, 3, 8, 15]   total=20\n",
    "        print(space, 'partial_output=', partial_output, 'total=', total)\n",
    "        \n",
    "        # combine partial_output with input to get desired output\n",
    "        ret = (\n",
    "            [partial_output[i//2] if i%2==0 else   # use partial output\n",
    "             f(partial_output[i//2], a[i-1])       # combine partial output with next value\n",
    "             for i in range(len(a))],\n",
    "            total\n",
    "        )\n",
    "        print(space, 'returning', ret)\n",
    "        return ret\n",
    "\n",
    "def add(x,y):\n",
    "    return x + y\n",
    "        \n",
    "fastscan(add, 0, [2,1,3,2,2,5,4,1])"
   ]
  },
  {
   "cell_type": "code",
   "execution_count": 16,
   "metadata": {
    "slideshow": {
     "slide_type": "fragment"
    }
   },
   "outputs": [
    {
     "data": {
      "text/plain": [
       "[0, 2, 4, 6, 8]"
      ]
     },
     "execution_count": 16,
     "metadata": {},
     "output_type": "execute_result"
    }
   ],
   "source": [
    "# python note: fancy indexing\n",
    "list(range(10)[::2])"
   ]
  },
  {
   "cell_type": "code",
   "execution_count": 8,
   "metadata": {
    "slideshow": {
     "slide_type": "fragment"
    }
   },
   "outputs": [
    {
     "name": "stdout",
     "output_type": "stream",
     "text": [
      "                 a= [1, 0, -1, 2, 3, 0, -5, 7]\n",
      "                 subproblem= [1, 2, 3, 7]\n",
      "         a= [1, 2, 3, 7]\n",
      "         subproblem= [2, 7]\n",
      "     a= [2, 7]\n",
      "     subproblem= [7]\n",
      "   a= [7]\n",
      "     partial_output= [-inf] total= 7\n",
      "     returning ([-inf, 2], 7)\n",
      "         partial_output= [-inf, 2] total= 7\n",
      "         returning ([-inf, 1, 2, 3], 7)\n",
      "                 partial_output= [-inf, 1, 2, 3] total= 7\n",
      "                 returning ([-inf, 1, 1, 1, 2, 3, 3, 3], 7)\n"
     ]
    },
    {
     "data": {
      "text/plain": [
       "([-inf, 1, 1, 1, 2, 3, 3, 3], 7)"
      ]
     },
     "execution_count": 8,
     "metadata": {},
     "output_type": "execute_result"
    }
   ],
   "source": [
    "# also works for other operators.\n",
    "fastscan(select_positive, -math.inf, [1,0,-1,2,3,0,-5,7])"
   ]
  },
  {
   "cell_type": "markdown",
   "metadata": {
    "slideshow": {
     "slide_type": "slide"
    }
   },
   "source": [
    "\n",
    "### `scan` in SPARC \n",
    "\n",
    "\\begin{array}{l}  \n",
    "\\\\  \n",
    "\\mathit{scan}~f~\\mathit{id}~a =  \n",
    "\\\\  \n",
    "~~~~\\texttt{if}~|a| = 0~\\texttt{then}   \n",
    "\\\\  \n",
    "~~~~\\left(\\left\\langle\\,  \\,\\right\\rangle, id\\right)  \n",
    "\\\\  \n",
    "~~~~\\texttt{else if}~|a| = 1 ~\\texttt{then}  \n",
    "\\\\  \n",
    "~~~~~~~~\\left( \\left\\langle\\, id \\,\\right\\rangle, a[0] \\right)  \n",
    "\\\\  \n",
    "~~~~\\texttt{else}  \n",
    "\\\\   \n",
    "~~~~~~~~\\texttt{let}  \n",
    "\\\\  \n",
    "~~~~~~~~~~~~a' = \\left\\langle\\,  f(a[2i],a[2i+1]) : 0 \\leq i < n/2 \\,\\right\\rangle  \n",
    "\\\\  \n",
    "~~~~~~~~~~~~(r,t) = \\mathit{scan}~f~\\mathit{id}~ a' \n",
    "\\\\  \n",
    "~~~~~~~~\\texttt{in}  \n",
    "\\\\   \n",
    "~~~~~~~~~~~~(\\left\\langle\\,  p_i : 0 \\leq i < n  \\,\\right\\rangle, t),~\\texttt{where}~p_i =   \n",
    "\\begin{cases}  \n",
    "     r[i/2]  & \\texttt{even}(i) \\\\  \n",
    "     f(r[i/2], a[i-1]) & \\texttt{otherwise}  \n",
    "\\end{cases}  \n",
    "\\\\  \n",
    "~~~~~~~~\\texttt{end}  \n",
    "\\end{array}"
   ]
  },
  {
   "cell_type": "markdown",
   "metadata": {
    "slideshow": {
     "slide_type": "slide"
    }
   },
   "source": [
    "### Analysis of the Work of `scan` \n",
    "\n",
    "Assume that function `f` is constant time.\n",
    "\n",
    "<br><br>\n",
    "\n",
    "\n",
    "```python\n",
    "subproblem = [f(a[i], a[i+1]) for i in range(len(a))[::2]]\n",
    "```\n"
   ]
  },
  {
   "cell_type": "markdown",
   "metadata": {
    "slideshow": {
     "slide_type": "fragment"
    }
   },
   "source": [
    "takes $O(n)$ time"
   ]
  },
  {
   "cell_type": "markdown",
   "metadata": {
    "slideshow": {
     "slide_type": "fragment"
    }
   },
   "source": [
    "<br><br>\n",
    "\n",
    "```python\n",
    "        ret = (\n",
    "            [partial_output[i//2] if i%2==0 else\n",
    "             f(partial_output[i//2], a[i-1])  \n",
    "             for i in range(len(a))],\n",
    "            total\n",
    "        )\n",
    "```"
   ]
  },
  {
   "cell_type": "markdown",
   "metadata": {
    "slideshow": {
     "slide_type": "fragment"
    }
   },
   "source": [
    "takes $O(n)$ time"
   ]
  },
  {
   "cell_type": "markdown",
   "metadata": {
    "slideshow": {
     "slide_type": "fragment"
    }
   },
   "source": [
    "```python\n",
    "partial_output, total = fastscan(f, id_, subproblem)\n",
    "```\n"
   ]
  },
  {
   "cell_type": "markdown",
   "metadata": {
    "slideshow": {
     "slide_type": "fragment"
    }
   },
   "source": [
    "reduces problem in half each recursive call\n",
    "\n",
    "but there is only one recursive call, instead of two for, e.g., `merge sort`\n",
    "\n"
   ]
  },
  {
   "cell_type": "markdown",
   "metadata": {
    "slideshow": {
     "slide_type": "fragment"
    }
   },
   "source": [
    "$$W(n) = W(n/2) + n$$"
   ]
  },
  {
   "cell_type": "markdown",
   "metadata": {
    "slideshow": {
     "slide_type": "fragment"
    }
   },
   "source": [
    "$$W(n) \\in O(n)$$"
   ]
  },
  {
   "cell_type": "markdown",
   "metadata": {
    "slideshow": {
     "slide_type": "slide"
    }
   },
   "source": [
    "### Analysis of the Span of `scan` \n",
    "\n",
    "Assume that function `f` is constant time.\n",
    "\n",
    "\n",
    "```python\n",
    "subproblem = [f(a[i], a[i+1]) for i in range(len(a))[::2]]\n",
    "```\n"
   ]
  },
  {
   "cell_type": "markdown",
   "metadata": {
    "slideshow": {
     "slide_type": "fragment"
    }
   },
   "source": [
    "\n",
    "With infinite processors, this can be done in constant work.\n",
    "\n"
   ]
  },
  {
   "cell_type": "markdown",
   "metadata": {
    "slideshow": {
     "slide_type": "fragment"
    }
   },
   "source": [
    "\n",
    "```python\n",
    "        ret = (\n",
    "            [partial_output[i//2] if i%2==0 else\n",
    "             f(partial_output[i//2], a[i-1])  \n",
    "             for i in range(len(a))],\n",
    "            total\n",
    "        )\n",
    "```\n"
   ]
  },
  {
   "cell_type": "markdown",
   "metadata": {
    "slideshow": {
     "slide_type": "fragment"
    }
   },
   "source": [
    "With infinite processors, this can be done in constant work."
   ]
  },
  {
   "cell_type": "markdown",
   "metadata": {
    "slideshow": {
     "slide_type": "fragment"
    }
   },
   "source": [
    "```python\n",
    "partial_output, total = fastscan(f, id_, subproblem)\n",
    "```\n"
   ]
  },
  {
   "cell_type": "markdown",
   "metadata": {
    "slideshow": {
     "slide_type": "fragment"
    }
   },
   "source": [
    "\n",
    "reduces problem in half each recursive call\n",
    "\n",
    "<br><br>\n",
    "\n"
   ]
  },
  {
   "cell_type": "markdown",
   "metadata": {
    "slideshow": {
     "slide_type": "fragment"
    }
   },
   "source": [
    "$$S(n) = S(n/2) + 1$$\n"
   ]
  },
  {
   "cell_type": "markdown",
   "metadata": {
    "slideshow": {
     "slide_type": "fragment"
    }
   },
   "source": [
    "$$S(n) \\in O(\\lg n)$$\n",
    "\n",
    "- surprisingly the *same* work and span of `reduce`\n",
    "- even though we're keeping track of output for all prefixes.\n",
    "\n",
    "<br><br>\n",
    "`scan` is a popular primitive in parallel programming, used to solve many problems, including:\n",
    "\n",
    "- evaluating polynomials\n",
    "- quicksort\n",
    "- search for regular expressions"
   ]
  },
  {
   "cell_type": "code",
   "execution_count": 43,
   "metadata": {},
   "outputs": [
    {
     "name": "stdout",
     "output_type": "stream",
     "text": [
      "b= [1, -1, -1, 2] v= 2\n",
      "w= -1\n",
      "v-w= 3\n"
     ]
    }
   ],
   "source": [
    "b, v = scan(add, 0, [1,-2,0,3])\n",
    "print('b=', b, 'v=', v)\n",
    "\n",
    "w = reduce(min, -math.inf, b)\n",
    "print('w=', w)\n",
    "\n",
    "print('v-w=', v-w)"
   ]
  }
 ],
 "metadata": {
  "celltoolbar": "Slideshow",
  "kernelspec": {
   "display_name": "Python 3 (ipykernel)",
   "language": "python",
   "name": "python3"
  },
  "language_info": {
   "codemirror_mode": {
    "name": "ipython",
    "version": 3
   },
   "file_extension": ".py",
   "mimetype": "text/x-python",
   "name": "python",
   "nbconvert_exporter": "python",
   "pygments_lexer": "ipython3",
   "version": "3.9.13"
  },
  "rise": {
   "autolaunch": true,
   "controls": false,
   "enable_chalkboard": true,
   "scroll": true,
   "theme": "simple",
   "transition": "fade"
  },
  "toc": {
   "base_numbering": 1,
   "nav_menu": {},
   "number_sections": true,
   "sideBar": true,
   "skip_h1_title": true,
   "title_cell": "Table of Contents",
   "title_sidebar": "Contents",
   "toc_cell": true,
   "toc_position": {},
   "toc_section_display": true,
   "toc_window_display": false
  }
 },
 "nbformat": 4,
 "nbformat_minor": 4
}
