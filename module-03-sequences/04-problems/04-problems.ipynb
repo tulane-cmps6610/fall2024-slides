{
 "cells": [
  {
   "cell_type": "code",
   "execution_count": 1,
   "metadata": {
    "code_folding": [],
    "slideshow": {
     "slide_type": "skip"
    }
   },
   "outputs": [
    {
     "data": {
      "text/html": [
       "<style>.prompt{width: 0px; min-width: 0px; visibility: collapse}</style>"
      ],
      "text/plain": [
       "<IPython.core.display.HTML object>"
      ]
     },
     "metadata": {},
     "output_type": "display_data"
    },
    {
     "data": {
      "text/html": [
       "<style>\n",
       "div#notebook {\n",
       " font-family: \"Exo_2\", sans-serif;\n",
       "}\n",
       "\n",
       ".rendered_html h1,\n",
       ".text_cell_render h1 {\n",
       " color: #126dce;\n",
       " font-size: 220%;\n",
       " text-align: center;\n",
       " font-weight: lighter;\n",
       "}\n",
       ".rendered_html h2,\n",
       ".text_cell_render h2 {\n",
       " text-align: center;\n",
       " font-size: 170%;\n",
       " color: #126dce;\n",
       " font-style: normal;\n",
       " font-weight: lighter;\n",
       "}\n",
       ".rendered_html h3,\n",
       ".text_cell_render h3 {\n",
       " font-size: 150%;\n",
       " color: #126dce;\n",
       " font-weight: lighter;\n",
       " text-decoration: italic;\n",
       " font-style: normal;\n",
       "}\n",
       ".rendered_html h4,\n",
       ".text_cell_render h4 {\n",
       " font-size: 120%;\n",
       " color: #126dce;\n",
       " font-weight: underline;\n",
       " font-style: normal;\n",
       "}\n",
       ".rendered_html h5,\n",
       ".text_cell_render h5 {\n",
       " font-size: 100%;\n",
       " color: #2f2f2f;\n",
       " font-weight: lighter;\n",
       " text-decoration: underline;\n",
       "}\n",
       "</style>\n"
      ],
      "text/plain": [
       "<IPython.core.display.HTML object>"
      ]
     },
     "metadata": {},
     "output_type": "display_data"
    }
   ],
   "source": [
    "# setup\n",
    "from IPython.core.display import display,HTML\n",
    "display(HTML('<style>.prompt{width: 0px; min-width: 0px; visibility: collapse}</style>'))\n",
    "display(HTML(open('rise.css').read()))\n",
    "\n",
    "# imports\n",
    "import numpy as np\n",
    "import matplotlib.pyplot as plt\n",
    "import seaborn as sns\n",
    "%matplotlib inline\n",
    "sns.set(style=\"whitegrid\", font_scale=1.5, rc={'figure.figsize':(12, 6)})\n"
   ]
  },
  {
   "cell_type": "markdown",
   "metadata": {
    "slideshow": {
     "slide_type": "slide"
    }
   },
   "source": [
    "# CMPS 6610\n",
    "# Algorithms\n",
    "\n",
    "## Cost of sequence functions\n"
   ]
  },
  {
   "cell_type": "markdown",
   "metadata": {
    "slideshow": {
     "slide_type": "slide"
    }
   },
   "source": [
    "Today's agenda:  \n",
    "\n",
    "- Review of subsequence functions\n",
    "- Work/Span of functions\n"
   ]
  },
  {
   "cell_type": "code",
   "execution_count": 47,
   "metadata": {
    "slideshow": {
     "slide_type": "slide"
    }
   },
   "outputs": [],
   "source": [
    "# Review of primitive functions.\n",
    "\n",
    "def tabulate(f, n):\n",
    "    return [f(i) for i in range(n)]\n",
    "\n",
    "def my_map(f, a):\n",
    "    return [f(x) for x in a]\n",
    "\n",
    "def my_filter(f, a):\n",
    "    return [x for x in a if f(x)]\n",
    "\n",
    "def iterate(f, x, a):\n",
    "    if len(a) == 0:\n",
    "        return x\n",
    "    else:\n",
    "        return iterate(f, f(x, a[0]), a[1:])\n",
    "\n",
    "def flatten(sequences):\n",
    "    return iterate(plus, [], sequences)\n",
    "\n",
    "def reduce(f, id_, a):\n",
    "    if len(a) == 0:\n",
    "        return id_\n",
    "    elif len(a) == 1:\n",
    "        return a[0]\n",
    "    else:\n",
    "        return f(reduce(f, id_, a[:len(a)//2]),\n",
    "                 reduce(f, id_, a[len(a)//2:]))\n",
    "\n",
    "def scan(f, id_, a):\n",
    "    return (\n",
    "            [reduce(f, id_, a[:i+1]) for i in range(len(a))],\n",
    "             reduce(f, id_, a)\n",
    "           )\n",
    "\n",
    "def plus(x, y):\n",
    "    return x + y\n"
   ]
  },
  {
   "cell_type": "markdown",
   "metadata": {
    "slideshow": {
     "slide_type": "slide"
    }
   },
   "source": [
    "The cost of these functions depends on the concrete data structure used to represent the sequence.\n",
    "\n",
    "E.g., for an **array**:"
   ]
  },
  {
   "cell_type": "markdown",
   "metadata": {
    "slideshow": {
     "slide_type": "fragment"
    }
   },
   "source": [
    "\\begin{array}{lcc}  \n",
    "\\mbox{Operation} & \\mbox{Work} & \\mbox{Span}  \n",
    "\\\\  \n",
    "\\mathit{length}~a  \n",
    "&\n",
    "1  \n",
    "&\n",
    "1  \n",
    "\\\\  \n",
    "\\mathit{nth}~a~i  \n",
    "& 1  \n",
    "& 1  \n",
    "\\\\   \n",
    "\\mathit{singleton}~x  \n",
    "&  \n",
    "1  \n",
    "&   \n",
    "1  \n",
    "\\\\  \n",
    "\\mathit{empty}  \n",
    "&  \n",
    "1  \n",
    "&   \n",
    "1  \n",
    "\\\\  \n",
    "\\mathit{isSingleton}~x  \n",
    "&  \n",
    "1  \n",
    "&   \n",
    "1  \n",
    "\\\\  \n",
    "\\mathit{isEmpty}~x  \n",
    "&  \n",
    "1  \n",
    "&   \n",
    "1  \n",
    "\\\\   \n",
    "\\mathit{tabulate}~f~n  \n",
    "& 1 + \\displaystyle\\sum_{i=0}^n W\\left({f(i)}\\right)  \n",
    "& 1 + \\displaystyle\\max_{i=0}^n S\\left({f(i)}\\right)   \n",
    "\\\\[2mm]  \n",
    "\\mathit{map}~f~a  \n",
    "& 1 + \\displaystyle\\sum_{x \\in a}  W\\left({f(x)}\\right)  \n",
    "& 1 + \\displaystyle\\max_{x \\in a}  S\\left({f(x)}\\right)   \n",
    "\\\\[2mm]  \n",
    "\\mathit{filter}~f~a  \n",
    "& 1 + \\displaystyle\\sum_{x \\in a} W\\left({f(x)}\\right)  \n",
    "& \\lg \\lvert a \\rvert + \\displaystyle\\max_{x \\in a} S\\left({f(x)}\\right)   \n",
    "\\\\[2mm]  \n",
    "\\mathit{subseq}~a~(i,j)  \n",
    "& 1  \n",
    "& 1   \n",
    "\\\\[2mm]  \n",
    "\\mathit{append}~a~b  \n",
    "& 1 + \\lvert a \\rvert+\\lvert b \\rvert  \n",
    "& 1   \n",
    "\\\\[2mm]  \n",
    "\\mathit{flatten}~a  \n",
    "& 1 + \\lvert a \\rvert + \\sum_{x \\in a} |x|  \n",
    "& 1 + \\lg \\lvert a \\rvert   \n",
    "\\\\[2mm]  \n",
    "\\mathit{update}~a~(i,x)   \n",
    "& 1 + \\lvert a \\rvert  \n",
    "& 1   \n",
    "\\\\[2mm]  \n",
    "\\mathit{inject}~a~b   \n",
    "& 1 + \\lvert a \\rvert + \\lvert b \\rvert  \n",
    "& \\lg(\\mathsf{degree}(b))  \n",
    "\\\\[2mm]  \n",
    "\\mathit{ninject}~a~b   \n",
    "& 1 + \\lvert a \\rvert + \\lvert b \\rvert  \n",
    "& 1   \n",
    "\\\\[2mm]  \n",
    "\\mathit{collect}~f~a  \n",
    "& 1 + W\\left({f}\\right) \\cdot \\lvert a \\rvert \\lg \\lvert a \\rvert  \n",
    "& 1 + S\\left({f}\\right) \\cdot \\lg^2 \\lvert a \\rvert  \n",
    "\\\\[2mm]  \n",
    "\\mathit{iterate}~f~x~a  \n",
    "&  \n",
    "1 + \\displaystyle\\sum_{f(y,z) \\in \\mathcal{T}(-)} W\\left({f(y,z)}\\right)  \n",
    "&  \n",
    "1 + \\displaystyle\\sum_{f(y,z) \\in \\mathcal{T}(-)} S\\left({f(y,z)}\\right)  \n",
    "\\\\[2mm]  \n",
    "\\mathit{reduce}~f~x~a   \n",
    "&   \n",
    "1 + \\displaystyle\\sum_{f(y,z) \\in \\mathcal{T}(-)} W\\left({f(y,z)}\\right)  \n",
    "&  \n",
    "\\lg \\lvert a \\rvert \\cdot  \\displaystyle\\max_{f(y,z) \\in \\mathcal{T}(-)} S\\left({f(y,z)}\\right)  \n",
    "\\\\[2mm]  \n",
    "\\mathit{scan}~f~x~a  \n",
    "& \\lvert a \\rvert  \n",
    "& \\lg \\lvert a \\rvert  \n",
    "\\end{array}"
   ]
  },
  {
   "cell_type": "markdown",
   "metadata": {
    "slideshow": {
     "slide_type": "slide"
    }
   },
   "source": [
    "Why does filter require logarithmic span?\n",
    "\n",
    "```python\n",
    "def my_filter(f, a):\n",
    "    return [x for x in a if f(x)]\n",
    "```\n",
    "\n",
    "<br>\n",
    "\n",
    "\n",
    "$S(filter \\: f \\: a) =  \\lg \\lvert a \\rvert + \\displaystyle\\max_{x \\in a} S\\left({f(x)}\\right)$"
   ]
  },
  {
   "cell_type": "markdown",
   "metadata": {
    "slideshow": {
     "slide_type": "fragment"
    }
   },
   "source": [
    "We need to account for the work to create the return array.\n",
    "\n",
    "<br><br>\n",
    "We can't do this in constant span, because the location of one value depends on the location of other values.\n",
    "<br><br>\n",
    "\n",
    "$filter \\:\\: positive \\:\\: [-1,3,-2,4,-5,6] \\rightarrow [3,4,6]$\n",
    "\n",
    "<br><br>\n",
    "**idea:** Make a first, parallel pass to create boolean values indicating if the value will be copied to the new array.\n",
    "\n",
    "$[false,true,false,true,false,true]$\n",
    "\n",
    "Use **scan** to determine indices in the new array. \n",
    "\n",
    "<br>\n",
    "We'll see a version of this on the lab this week.\n"
   ]
  },
  {
   "cell_type": "markdown",
   "metadata": {
    "slideshow": {
     "slide_type": "slide"
    }
   },
   "source": [
    "### All Contiguous Subsequences\n",
    "\n",
    "Given a sequence $a$, generate all contiguous subsequences.\n",
    "\n",
    "<br><br>\n",
    "\n",
    "\n",
    "$\\langle a \\langle i, \\ldots,j \\rangle : 0 \\le i < |a|, i \\le j < |a| \\rangle$\n",
    "\n",
    "$\\equiv$\n",
    "\n",
    "$\\langle a \\langle i, \\ldots,j \\rangle : 0 \\le i \\le j < |a| \\rangle$\n",
    "\n",
    "$\\equiv$\n",
    "\n",
    "$flatten \\langle \\: \\langle a[i \\ldots i+j]: i \\le j < |a| \\rangle : 0 \\le i < |a| \\rangle$\n",
    "\n",
    "$\\equiv$\n",
    "\n",
    "$flatten (tabulate (\\mathtt{lambda} \\:  i \\: . tabulate ( \\mathtt{lambda} \\: j \\: . \\: a[i \\ldots i+j])(|a| - i - 1)|a|)$"
   ]
  },
  {
   "cell_type": "code",
   "execution_count": 48,
   "metadata": {
    "slideshow": {
     "slide_type": "fragment"
    }
   },
   "outputs": [
    {
     "data": {
      "text/plain": [
       "[[1],\n",
       " [1, 2],\n",
       " [1, 2, 3],\n",
       " [1, 2, 3, 4],\n",
       " [1, 2, 3, 4, 5],\n",
       " [2],\n",
       " [2, 3],\n",
       " [2, 3, 4],\n",
       " [2, 3, 4, 5],\n",
       " [3],\n",
       " [3, 4],\n",
       " [3, 4, 5],\n",
       " [4],\n",
       " [4, 5],\n",
       " [5]]"
      ]
     },
     "execution_count": 48,
     "metadata": {},
     "output_type": "execute_result"
    }
   ],
   "source": [
    "# sequential solution\n",
    "\n",
    "def all_contiguous_subseq(a):\n",
    "    for i in range(len(a)):\n",
    "        for j in range(i+1, len(a)+1):\n",
    "            yield a[i:j]\n",
    "            \n",
    "list(all_contiguous_subseq([1,2,3,4,5]))"
   ]
  },
  {
   "cell_type": "code",
   "execution_count": 52,
   "metadata": {
    "slideshow": {
     "slide_type": "fragment"
    }
   },
   "outputs": [
    {
     "data": {
      "text/plain": [
       "[[1],\n",
       " [1, 2],\n",
       " [1, 2, 3],\n",
       " [1, 2, 3, 4],\n",
       " [1, 2, 3, 4, 5],\n",
       " [2],\n",
       " [2, 3],\n",
       " [2, 3, 4],\n",
       " [2, 3, 4, 5],\n",
       " [3],\n",
       " [3, 4],\n",
       " [3, 4, 5],\n",
       " [4],\n",
       " [4, 5],\n",
       " [5]]"
      ]
     },
     "execution_count": 52,
     "metadata": {},
     "output_type": "execute_result"
    }
   ],
   "source": [
    "# nested tabulate\n",
    "a = [1,2,3,4,5]\n",
    "flatten(\n",
    "    tabulate(lambda i: \n",
    "             tabulate(lambda j: a[i:i+j+1],\n",
    "                      len(a)-i),\n",
    "         len(a))\n",
    ")"
   ]
  },
  {
   "cell_type": "markdown",
   "metadata": {
    "slideshow": {
     "slide_type": "fragment"
    }
   },
   "source": [
    "### analysis of All Contiguous Subsequences\n",
    "\n",
    "How many calls to `a[i:i+j+1]` (i.e., `subseq`)?"
   ]
  },
  {
   "cell_type": "markdown",
   "metadata": {
    "slideshow": {
     "slide_type": "fragment"
    }
   },
   "source": [
    "If $|a|=n$,\n",
    "\n",
    "$$ \\sum_{i=1}^n = \\frac{n(n-1)}{2}  \\in O(n^2) $$\n",
    "\n",
    "Work and span of `subseq` is O(1) (**why?**)\n",
    "\n",
    "Therefore, total work is $O(n^2)$.\n",
    "\n",
    "<br>\n",
    "\n",
    "Span of inner `tabulate` is $O(1)$, and outer `tabulate` is also $O(1)$.\n",
    "\n",
    "<br>\n",
    "\n",
    "`flatten` at the end requires $O(\\lg n)$ span.\n",
    "\n",
    "Therefore, total span is $O(\\lg n)$\n"
   ]
  },
  {
   "cell_type": "markdown",
   "metadata": {
    "slideshow": {
     "slide_type": "slide"
    }
   },
   "source": [
    "### How would work/span differ using a singly linked list?\n",
    "\n",
    "E.g., accessing element $i$ costs?\n",
    "\n"
   ]
  },
  {
   "cell_type": "markdown",
   "metadata": {
    "slideshow": {
     "slide_type": "fragment"
    }
   },
   "source": [
    "$O(i)$ work to access the $i$th element of a singly linked list.\n",
    "\n",
    "<br><br>\n",
    "\n",
    "Because of this, there is little opportunity for parallelism.\n",
    "\n",
    "E.g.\n",
    "\n",
    "$\\mathit{map}~f~a$\n",
    "\n",
    "\n",
    "span is $1 + \\displaystyle\\sum_{x \\in a}  S\\left({f(x)}\\right)   $\n",
    "\n",
    "\n",
    "<br>\n",
    "\n",
    "compared to the costs for an array implementation:\n",
    "\n",
    "span is $ 1 + \\displaystyle\\max_{x \\in a}  S\\left({f(x)}\\right)$\n"
   ]
  }
 ],
 "metadata": {
  "celltoolbar": "Slideshow",
  "kernelspec": {
   "display_name": "Python 3 (ipykernel)",
   "language": "python",
   "name": "python3"
  },
  "language_info": {
   "codemirror_mode": {
    "name": "ipython",
    "version": 3
   },
   "file_extension": ".py",
   "mimetype": "text/x-python",
   "name": "python",
   "nbconvert_exporter": "python",
   "pygments_lexer": "ipython3",
   "version": "3.9.13"
  },
  "rise": {
   "autolaunch": true,
   "controls": false,
   "enable_chalkboard": true,
   "scroll": true,
   "theme": "simple",
   "transition": "fade"
  },
  "toc": {
   "base_numbering": 1,
   "nav_menu": {},
   "number_sections": true,
   "sideBar": true,
   "skip_h1_title": true,
   "title_cell": "Table of Contents",
   "title_sidebar": "Contents",
   "toc_cell": true,
   "toc_position": {},
   "toc_section_display": true,
   "toc_window_display": false
  }
 },
 "nbformat": 4,
 "nbformat_minor": 4
}
