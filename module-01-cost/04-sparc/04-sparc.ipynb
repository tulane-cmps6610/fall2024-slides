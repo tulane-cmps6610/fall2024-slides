{
 "cells": [
  {
   "cell_type": "code",
   "execution_count": 1,
   "metadata": {
    "code_folding": [],
    "slideshow": {
     "slide_type": "skip"
    }
   },
   "outputs": [
    {
     "data": {
      "text/html": [
       "<style>.prompt{width: 0px; min-width: 0px; visibility: collapse}</style>"
      ],
      "text/plain": [
       "<IPython.core.display.HTML object>"
      ]
     },
     "metadata": {},
     "output_type": "display_data"
    },
    {
     "data": {
      "text/html": [
       "<style>\n",
       "div#notebook {\n",
       " font-family: \"Exo_2\", sans-serif;\n",
       "}\n",
       "\n",
       ".rendered_html h1,\n",
       ".text_cell_render h1 {\n",
       " color: #126dce;\n",
       " font-size: 220%;\n",
       " text-align: center;\n",
       " font-weight: lighter;\n",
       "}\n",
       ".rendered_html h2,\n",
       ".text_cell_render h2 {\n",
       " text-align: center;\n",
       " font-size: 170%;\n",
       " color: #126dce;\n",
       " font-style: normal;\n",
       " font-weight: lighter;\n",
       "}\n",
       ".rendered_html h3,\n",
       ".text_cell_render h3 {\n",
       " font-size: 150%;\n",
       " color: #126dce;\n",
       " font-weight: lighter;\n",
       " text-decoration: italic;\n",
       " font-style: normal;\n",
       "}\n",
       ".rendered_html h4,\n",
       ".text_cell_render h4 {\n",
       " font-size: 120%;\n",
       " color: #126dce;\n",
       " font-weight: underline;\n",
       " font-style: normal;\n",
       "}\n",
       ".rendered_html h5,\n",
       ".text_cell_render h5 {\n",
       " font-size: 100%;\n",
       " color: #2f2f2f;\n",
       " font-weight: lighter;\n",
       " text-decoration: underline;\n",
       "}\n",
       "</style>\n"
      ],
      "text/plain": [
       "<IPython.core.display.HTML object>"
      ]
     },
     "metadata": {},
     "output_type": "display_data"
    }
   ],
   "source": [
    "# setup\n",
    "from IPython.core.display import display,HTML\n",
    "display(HTML('<style>.prompt{width: 0px; min-width: 0px; visibility: collapse}</style>'))\n",
    "display(HTML(open('rise.css').read()))\n",
    "\n",
    "# imports\n",
    "import numpy as np\n",
    "import matplotlib.pyplot as plt\n",
    "import seaborn as sns\n",
    "%matplotlib inline\n",
    "sns.set(style=\"whitegrid\", font_scale=1.5, rc={'figure.figsize':(12, 6)})\n"
   ]
  },
  {
   "cell_type": "markdown",
   "metadata": {
    "slideshow": {
     "slide_type": "slide"
    }
   },
   "source": [
    "# CMPS 6610\n",
    "# Algorithms\n",
    "\n",
    "## SPARC\n"
   ]
  },
  {
   "cell_type": "markdown",
   "metadata": {
    "slideshow": {
     "slide_type": "slide"
    }
   },
   "source": [
    "Today's agenda:\n",
    "\n",
    "- Overview of SPARC language\n",
    "- Foundation of cost model framework"
   ]
  },
  {
   "cell_type": "markdown",
   "metadata": {
    "slideshow": {
     "slide_type": "slide"
    }
   },
   "source": [
    "**Why are we learning another language?**"
   ]
  },
  {
   "cell_type": "markdown",
   "metadata": {
    "slideshow": {
     "slide_type": "fragment"
    }
   },
   "source": [
    "- allows us to specify parallel programs concisely\n",
    "- allows us to analyze runtime of parallel programs\n",
    "  - particularly for nested recursion\n",
    "  - recall the recursive approach to sum an array"
   ]
  },
  {
   "cell_type": "markdown",
   "metadata": {
    "slideshow": {
     "slide_type": "slide"
    }
   },
   "source": [
    "## SPARC\n",
    "- based on [Standard ML](https://www.cs.cmu.edu/~rwh/isml/book.pdf)\n",
    "- functional language\n"
   ]
  },
  {
   "cell_type": "markdown",
   "metadata": {
    "slideshow": {
     "slide_type": "slide"
    }
   },
   "source": [
    "## Example SPARC program\n",
    "\n",
    "\n",
    "<br><br>\n",
    "<p> <span>\\[\\begin{array}{l}  \n",
    "\\texttt{let}\\\\   \n",
    "~~~~x = 2 + 3\\\\  \n",
    "~~~~f (w) = (w * 4, w - 2)\\\\  \n",
    "~~~~(y,z) = f(x-1)\\\\  \n",
    "\\texttt{in}\\\\   \n",
    "~~~~x + y + z\\\\  \n",
    "\\texttt{end}   \n",
    "\\end{array}\\]</span></p>\n",
    "<br><br>\n",
    "\n",
    "<br><br>\n",
    "**binding**: associate entities (data or code) with identifiers.\n",
    "\n",
    "<br>\n",
    "\n",
    "**let expression:**\n",
    "\n",
    "**let**  \n",
    "$\\:\\: b^+$  \n",
    "**in**  \n",
    "$\\:\\:e$  \n",
    "**end**\n",
    "\n",
    "Expression $e$ is applied using the bindings defined inside **let**.\n",
    "\n",
    "<br><br>\n",
    "**expression** *e*: describes a computation  \n",
    "- **evaluating** an expression produces its value\n",
    "\n",
    "<br><br>\n",
    "$x = 2 + 3 = 5$  \n",
    "$f(4) \\rightarrow (16, 2)$  \n",
    "$x + y + z= 5 + 16 + 2 = 23$\n",
    "\n",
    "\n",
    "\n",
    "\n",
    "\n"
   ]
  },
  {
   "cell_type": "markdown",
   "metadata": {
    "slideshow": {
     "slide_type": "slide"
    }
   },
   "source": [
    "**value**: irreducible unit of computation\n",
    "- e.g.: $\\mathbb{N}$, *true*, -, *and*\n",
    "- *functions* are also values (it is a functional language)\n",
    "\n",
    "<br><br>\n",
    "\n",
    "SPARC supports lambda functions like:\n",
    "\n",
    "$ \\mathtt{lambda} \\: x \\: . \\: x + 1 $\n",
    "\n",
    "\n",
    "$\\mathtt{lambda} \\: (x, y) \\: . \\: x$\n",
    "\n",
    "**What do these do?**"
   ]
  },
  {
   "cell_type": "code",
   "execution_count": 11,
   "metadata": {
    "slideshow": {
     "slide_type": "fragment"
    }
   },
   "outputs": [
    {
     "data": {
      "text/plain": [
       "11"
      ]
     },
     "execution_count": 11,
     "metadata": {},
     "output_type": "execute_result"
    }
   ],
   "source": [
    "f1 = lambda x: x+1\n",
    "f1(10)"
   ]
  },
  {
   "cell_type": "code",
   "execution_count": 12,
   "metadata": {
    "slideshow": {
     "slide_type": "fragment"
    }
   },
   "outputs": [
    {
     "data": {
      "text/plain": [
       "10"
      ]
     },
     "execution_count": 12,
     "metadata": {},
     "output_type": "execute_result"
    }
   ],
   "source": [
    "f2 = lambda x,y : x\n",
    "f2(10,20)"
   ]
  },
  {
   "cell_type": "code",
   "execution_count": 51,
   "metadata": {
    "slideshow": {
     "slide_type": "fragment"
    }
   },
   "outputs": [
    {
     "data": {
      "text/plain": [
       "100"
      ]
     },
     "execution_count": 51,
     "metadata": {},
     "output_type": "execute_result"
    }
   ],
   "source": [
    "f2(100, 200)"
   ]
  },
  {
   "cell_type": "markdown",
   "metadata": {
    "slideshow": {
     "slide_type": "slide"
    }
   },
   "source": [
    "## Function application\n",
    "\n",
    "> A function application, $e_1 e_2$, applies the function generated by evaluating e1 to the value generated by evaluating e2.\n",
    "\n",
    "E.g.,\n",
    "- if $e_1$ evaluates to function $f(x)$\n",
    "- $e_2$ evaluates to value $v$\n",
    "- apply $f$ to $v$ by substituting $v$ in for $x$\n",
    "\n",
    "$\\mathtt{lambda} \\: ((x,y) \\: . \\: x / y) \\: (8,2)$\n",
    "\n",
    "evaluates to $4$\n"
   ]
  },
  {
   "cell_type": "markdown",
   "metadata": {
    "slideshow": {
     "slide_type": "slide"
    }
   },
   "source": [
    "## Composition\n",
    "\n",
    "**sequential composition**: $(e_1, e_2)$\n",
    "\n",
    "**parallel composition**: $(e_1 \\: || \\: e_2)$\n",
    "\n",
    "e.g.\n",
    "\n",
    "$\\mathtt{lambda} \\: (x,y) . (x * x, y * y)$  \n",
    "\n",
    "vs\n",
    "\n",
    "$\\mathtt{lambda} \\: (x,y) . (x * x \\: || \\: y * y)$"
   ]
  },
  {
   "cell_type": "code",
   "execution_count": 44,
   "metadata": {
    "slideshow": {
     "slide_type": "fragment"
    }
   },
   "outputs": [
    {
     "data": {
      "text/plain": [
       "39.370078740157474"
      ]
     },
     "execution_count": 44,
     "metadata": {},
     "output_type": "execute_result"
    }
   ],
   "source": [
    "def compose(g, f):\n",
    "    \"\"\"\n",
    "    Returns a **function** that composes f and g\n",
    "    \"\"\"\n",
    "    return lambda x: g(f(x))  # different from just: g(f(x))\n",
    "\n",
    "def meter2cm(d):\n",
    "    return d * 100\n",
    "\n",
    "def cm2inch(d):\n",
    "    return d / 2.54\n",
    "\n",
    "\n",
    "# how many inches in a meter?\n",
    "meter2inch = compose(meter2cm, cm2inch)\n",
    "meter2inch(1)"
   ]
  },
  {
   "cell_type": "markdown",
   "metadata": {
    "slideshow": {
     "slide_type": "slide"
    }
   },
   "source": [
    "## scoping and recursion\n",
    "\n",
    "$ x(p) = e $\n",
    "\n",
    "vs\n",
    "\n",
    "$ x = \\mathtt{lambda} \\: p . e $\n",
    "\n",
    "<br>\n",
    "When can $x$ be referenced from $e$?"
   ]
  },
  {
   "cell_type": "markdown",
   "metadata": {
    "slideshow": {
     "slide_type": "fragment"
    }
   },
   "source": [
    "$x$ is only visible from $e$ when defined via the binding $ x(p) = e $\n",
    "\n",
    "This enables recursive expressions..."
   ]
  },
  {
   "cell_type": "markdown",
   "metadata": {
    "slideshow": {
     "slide_type": "slide"
    }
   },
   "source": [
    "<br><br>\n",
    "<p>What does this do?<span class=\"math display\">\\[\\begin{array}{l}  \n",
    "\\texttt{let}\\\\  \n",
    "~~~~f(i) = \\texttt{if} ~(i < 2) ~\\texttt{then}~ i ~\\texttt{else}~ i  *   \n",
    "f(i - 1) \\\\  \n",
    "\\texttt{in} \\\\   \n",
    "~~~~f(5) \\\\  \n",
    "\\texttt{end}   \n",
    "\\end{array}\\]</span> </p>\n",
    "\n"
   ]
  },
  {
   "cell_type": "code",
   "execution_count": 6,
   "metadata": {
    "slideshow": {
     "slide_type": "fragment"
    }
   },
   "outputs": [
    {
     "data": {
      "text/plain": [
       "120"
      ]
     },
     "execution_count": 6,
     "metadata": {},
     "output_type": "execute_result"
    }
   ],
   "source": [
    "factorial = lambda i: i if i < 2 else i*factorial(i-1)\n",
    "factorial(5)"
   ]
  },
  {
   "cell_type": "markdown",
   "metadata": {
    "slideshow": {
     "slide_type": "slide"
    }
   },
   "source": [
    "\n",
    "### Binary tree\n",
    "\n",
    "We can also define datatypes recursively like:\n",
    "\n",
    "<p><span class=\"math display\">\\[\\begin{array}{l}  \n",
    "\\texttt{type}~\\mathit{tree} = \\mathit{Leaf}~\\texttt{of}~\\mathbb{Z}~|~\\mathit{Node}~\\texttt{of}~(\\mathit{tree}, \\mathbb{Z}, \\mathit{tree})  \n",
    "\\\\  \n",
    "\\\\\\\\\n",
    "\\mathit{find}~(t, x) =   \n",
    "\\\\  \n",
    "~~~~\\texttt{case}~t  \n",
    "\\\\   \n",
    "~~~~|~\\mathit{Leaf}~y \\Rightarrow x = y   \n",
    "\\\\  \n",
    "~~~~|~\\mathit{Node}~(\\mathit{left}, y, \\mathit{right}) \\Rightarrow\n",
    "\\\\  \n",
    "~~~~~~~~~\\texttt{if}~x = y~\\texttt{then}   \n",
    "\\\\  \n",
    "~~~~~~~~~~~~~\\texttt{return}~\\texttt{true}  \n",
    "\\\\  \n",
    "~~~~~~~~~\\texttt{else}~\\texttt{if}~x < y~\\texttt{then}   \n",
    "\\\\  \n",
    "~~~~~~~~~~~~~\\mathit{find}~(\\mathit{left}, x)  \n",
    "\\\\  \n",
    "~~~~~~~~~\\texttt{else}  \n",
    "\\\\  \n",
    "~~~~~~~~~~~~~\\mathit{find}~(\\mathit{right}, x)  \n",
    "\\end{array}\\]</span></p>"
   ]
  },
  {
   "cell_type": "code",
   "execution_count": 7,
   "metadata": {
    "slideshow": {
     "slide_type": "slide"
    }
   },
   "outputs": [
    {
     "name": "stdout",
     "output_type": "stream",
     "text": [
      "find t=4 x=7\n",
      "find t=5 x=7\n",
      "find t=7 x=7\n"
     ]
    },
    {
     "data": {
      "text/plain": [
       "True"
      ]
     },
     "execution_count": 7,
     "metadata": {},
     "output_type": "execute_result"
    }
   ],
   "source": [
    "# translated into python...\n",
    "class Tree:\n",
    "    def __init__(self, key, left=None, right=None):\n",
    "        self.left = left\n",
    "        self.key = key\n",
    "        self.right = right\n",
    "        self.is_leaf = left is None and right is None\n",
    "\n",
    "t = Tree(4,\n",
    "        Tree(2,\n",
    "             Tree(1),\n",
    "             Tree(3)\n",
    "            ),\n",
    "        Tree(5,\n",
    "             Tree(6),\n",
    "             Tree(7)\n",
    "            )\n",
    "        )\n",
    "\n",
    "def find(t, x):\n",
    "    print('find t=%d x=%d' % (t.key, x))\n",
    "    if t.is_leaf:\n",
    "        return t.key == x\n",
    "    else:\n",
    "        if x == t.key:\n",
    "            return True\n",
    "        elif x < t.key:\n",
    "            return find(t.left, x)\n",
    "        else:\n",
    "            return find(t.right, x)\n",
    "        \n",
    "find(t, 7)"
   ]
  },
  {
   "cell_type": "markdown",
   "metadata": {
    "slideshow": {
     "slide_type": "slide"
    }
   },
   "source": [
    "## Pattern matching\n",
    "\n",
    "Pattern matching is a way to do typical `if`..`else` statements:\n",
    "\n",
    "$\\mathit{find}~(t, x) =$     \n",
    "$~~~~\\texttt{case}~t$   \n",
    "$~~~~|~\\mathit{Leaf}~y \\Rightarrow x = y$    \n",
    "$~~~~|~\\mathit{Node}~(\\mathit{left}, y, \\mathit{right}) \\Rightarrow \\ldots$\n",
    "\n",
    "- Match $t$ against each of the cases. \n",
    "- When a match is found, evaluate the right hand side of $\\Rightarrow$"
   ]
  },
  {
   "cell_type": "markdown",
   "metadata": {
    "slideshow": {
     "slide_type": "slide"
    }
   },
   "source": [
    "\n",
    "**What does this do?**\n",
    "\n",
    "$$\n",
    "\\mathtt{lambda} \\: x \\: . (\\mathtt{lambda} \\: y \\: . f(x,y))\n",
    "$$\n",
    "\n"
   ]
  },
  {
   "cell_type": "markdown",
   "metadata": {
    "slideshow": {
     "slide_type": "slide"
    }
   },
   "source": [
    "### Currying\n",
    "\n",
    "> Convert a function of $n$ variables into a sequence of functions with 1 argument each.\n",
    "\n",
    "\n",
    "**Why?**\n",
    "\n",
    "<br><br>\n",
    "- Get specialized functions from more general functions by using composition.\n",
    "- DRY: no need to repeat function arguments\n",
    "- Lambda calculus: can define a programming language that only allows functions of one argument\n",
    "  - easier for proofs!"
   ]
  },
  {
   "cell_type": "markdown",
   "metadata": {
    "slideshow": {
     "slide_type": "fragment"
    }
   },
   "source": [
    "E.g., \n",
    "\n",
    "$f(x,y) = x + y^2$\n",
    "\n",
    "$\\mathtt{lambda} \\: x \\: . (\\mathtt{lambda} \\: y \\: . f(x,y))(10)(20) \\rightarrow$   \n",
    "$\\mathtt{lambda} \\: y \\: . f(10, y)(20) \\rightarrow$  \n",
    "$\\mathtt{lambda} \\: y \\: . (10 + y^2) (20) \\rightarrow$  \n",
    "$ 10 + 20^2 \\rightarrow$  \n",
    "$ 410 $\n"
   ]
  },
  {
   "cell_type": "code",
   "execution_count": 9,
   "metadata": {
    "slideshow": {
     "slide_type": "fragment"
    }
   },
   "outputs": [
    {
     "name": "stdout",
     "output_type": "stream",
     "text": [
      "<function f at 0x10444c488>\n",
      "<function curry.<locals>.g at 0x10444c598>\n",
      "<function curry.<locals>.g.<locals>.h at 0x10444c730>\n",
      "410\n",
      "19\n"
     ]
    }
   ],
   "source": [
    "def curry(f):\n",
    "    \"\"\"\n",
    "    Given a function f of two variables,\n",
    "    return a function g that binds the first variable\n",
    "    and returns a function of the second variable.\n",
    "    \"\"\"\n",
    "    def g(x):      # nested function 1\n",
    "        def h(y):  # nested function 2\n",
    "            return f(x, y) \n",
    "        return h # bind x and return function of y\n",
    "    return g\n",
    "\n",
    "def f(x,y):\n",
    "     return x + y**2\n",
    "\n",
    "print(f)\n",
    "print(curry(f))         # returns f'n g. input: x, output function of y         \n",
    "print(curry(f)(10))     # returns f'n h. input: y, output f(10,y)\n",
    "print(curry(f)(10)(20)) # returns f(10,20)\n",
    "print(curry(f)(10)(3))  # returns f(10,3)"
   ]
  }
 ],
 "metadata": {
  "celltoolbar": "Slideshow",
  "kernelspec": {
   "display_name": "Python 3 (ipykernel)",
   "language": "python",
   "name": "python3"
  },
  "language_info": {
   "codemirror_mode": {
    "name": "ipython",
    "version": 3
   },
   "file_extension": ".py",
   "mimetype": "text/x-python",
   "name": "python",
   "nbconvert_exporter": "python",
   "pygments_lexer": "ipython3",
   "version": "3.9.13"
  },
  "rise": {
   "autolaunch": true,
   "controls": false,
   "enable_chalkboard": true,
   "scroll": true,
   "theme": "simple",
   "transition": "fade"
  },
  "toc": {
   "base_numbering": 1,
   "nav_menu": {},
   "number_sections": true,
   "sideBar": true,
   "skip_h1_title": true,
   "title_cell": "Table of Contents",
   "title_sidebar": "Contents",
   "toc_cell": true,
   "toc_position": {},
   "toc_section_display": true,
   "toc_window_display": false
  }
 },
 "nbformat": 4,
 "nbformat_minor": 4
}
