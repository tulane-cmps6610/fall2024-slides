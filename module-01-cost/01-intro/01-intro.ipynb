{
 "cells": [
  {
   "cell_type": "code",
   "execution_count": 25,
   "metadata": {
    "code_folding": [
     0
    ],
    "slideshow": {
     "slide_type": "skip"
    }
   },
   "outputs": [
    {
     "data": {
      "text/html": [
       "<style>.prompt{width: 0px; min-width: 0px; visibility: collapse}</style>"
      ],
      "text/plain": [
       "<IPython.core.display.HTML object>"
      ]
     },
     "metadata": {},
     "output_type": "display_data"
    },
    {
     "data": {
      "text/html": [
       "<style>\n",
       "div#notebook {\n",
       " font-family: \"Exo_2\", sans-serif;\n",
       "}\n",
       "\n",
       ".rendered_html h1,\n",
       ".text_cell_render h1 {\n",
       " color: #126dce;\n",
       " font-size: 220%;\n",
       " text-align: center;\n",
       " font-weight: lighter;\n",
       "}\n",
       ".rendered_html h2,\n",
       ".text_cell_render h2 {\n",
       " text-align: center;\n",
       " font-size: 170%;\n",
       " color: #126dce;\n",
       " font-style: normal;\n",
       " font-weight: lighter;\n",
       "}\n",
       ".rendered_html h3,\n",
       ".text_cell_render h3 {\n",
       " font-size: 150%;\n",
       " color: #126dce;\n",
       " font-weight: lighter;\n",
       " text-decoration: italic;\n",
       " font-style: normal;\n",
       "}\n",
       ".rendered_html h4,\n",
       ".text_cell_render h4 {\n",
       " font-size: 120%;\n",
       " color: #126dce;\n",
       " font-weight: underline;\n",
       " font-style: normal;\n",
       "}\n",
       ".rendered_html h5,\n",
       ".text_cell_render h5 {\n",
       " font-size: 100%;\n",
       " color: #2f2f2f;\n",
       " font-weight: lighter;\n",
       " text-decoration: underline;\n",
       "}\n",
       "</style>\n"
      ],
      "text/plain": [
       "<IPython.core.display.HTML object>"
      ]
     },
     "metadata": {},
     "output_type": "display_data"
    }
   ],
   "source": [
    "# setup\n",
    "from IPython.core.display import display,HTML\n",
    "display(HTML('<style>.prompt{width: 0px; min-width: 0px; visibility: collapse}</style>'))\n",
    "display(HTML(open('rise.css').read()))\n",
    "\n",
    "# imports\n",
    "import numpy as np\n",
    "import matplotlib.pyplot as plt\n",
    "import seaborn as sns\n",
    "%matplotlib inline\n",
    "sns.set(style=\"whitegrid\", font_scale=1.5, rc={'figure.figsize':(12, 8)})\n"
   ]
  },
  {
   "cell_type": "markdown",
   "metadata": {
    "slideshow": {
     "slide_type": "slide"
    }
   },
   "source": [
    "# CMPS 6610\n",
    "# Algorithms\n",
    "\n",
    "## Overview\n"
   ]
  },
  {
   "cell_type": "markdown",
   "metadata": {
    "slideshow": {
     "slide_type": "slide"
    }
   },
   "source": [
    "Today's agenda:\n",
    "\n",
    "- Introductions\n",
    "- Motivation for course\n",
    "- Formalisms used throughout the course\n",
    "- Navigating the course"
   ]
  },
  {
   "cell_type": "markdown",
   "metadata": {
    "slideshow": {
     "slide_type": "slide"
    }
   },
   "source": [
    "## What is an algorithm?"
   ]
  },
  {
   "cell_type": "markdown",
   "metadata": {
    "slideshow": {
     "slide_type": "fragment"
    }
   },
   "source": [
    ">  an explicit, precise, unambiguous, mechanically-executable sequence of elementary instructions, usually intended to accomplish a specific purpose.\n",
    "\n",
    "-- [Jeff Erickson](https://jeffe.cs.illinois.edu/teaching/algorithms/)"
   ]
  },
  {
   "cell_type": "markdown",
   "metadata": {
    "slideshow": {
     "slide_type": "slide"
    }
   },
   "source": [
    "Examples?"
   ]
  },
  {
   "cell_type": "markdown",
   "metadata": {
    "slideshow": {
     "slide_type": "fragment"
    }
   },
   "source": [
    "### X(a,b):  \n",
    "\n",
    "- if $a = 0$, return $b$\n",
    "- if $b = 0$, return $a$\n",
    "- return X($b$, $r$) where $a = b\\cdot q + r$\n",
    "\n",
    "Is this an algorithm? Why?\n"
   ]
  },
  {
   "cell_type": "markdown",
   "metadata": {
    "slideshow": {
     "slide_type": "slide"
    }
   },
   "source": [
    "## What makes a good algorithm?"
   ]
  },
  {
   "cell_type": "markdown",
   "metadata": {
    "slideshow": {
     "slide_type": "fragment"
    }
   },
   "source": [
    "- correct\n",
    "- user-friendly\n",
    "- many features\n",
    "- robust\n",
    "- simple\n",
    "- secure\n",
    "- low programmer cost\n",
    "- **efficient**\n",
    "  - runs quickly\n",
    "  - requires little memory"
   ]
  },
  {
   "cell_type": "markdown",
   "metadata": {
    "slideshow": {
     "slide_type": "slide"
    }
   },
   "source": [
    "## Then, why study efficiency?"
   ]
  },
  {
   "cell_type": "markdown",
   "metadata": {
    "slideshow": {
     "slide_type": "fragment"
    }
   },
   "source": [
    "- separates feasible from infeasible\n",
    "- correlates with user-friendliness"
   ]
  },
  {
   "cell_type": "markdown",
   "metadata": {
    "slideshow": {
     "slide_type": "fragment"
    }
   },
   "source": [
    "> #### What if it took Google took 2 minutes to return results?"
   ]
  },
  {
   "cell_type": "markdown",
   "metadata": {
    "slideshow": {
     "slide_type": "slide"
    }
   },
   "source": [
    "Simple warmup: **What does this do?**"
   ]
  },
  {
   "cell_type": "code",
   "execution_count": 26,
   "metadata": {
    "slideshow": {
     "slide_type": "fragment"
    }
   },
   "outputs": [],
   "source": [
    "def my_function(a, b):\n",
    "    for i,v in enumerate(a):\n",
    "        if v == b:\n",
    "            return i\n",
    "    return -1"
   ]
  },
  {
   "cell_type": "code",
   "execution_count": 27,
   "metadata": {
    "code_folding": [],
    "slideshow": {
     "slide_type": "slide"
    }
   },
   "outputs": [
    {
     "data": {
      "text/plain": [
       "4"
      ]
     },
     "execution_count": 27,
     "metadata": {},
     "output_type": "execute_result"
    }
   ],
   "source": [
    "def linear_search(mylist, key):\n",
    "    \"\"\"\n",
    "    Args:\n",
    "      mylist...a list\n",
    "      key......a search key\n",
    "    Returns:\n",
    "      index of key in mylist; -1 if not present\n",
    "    \"\"\"\n",
    "    for i,v in enumerate(mylist):\n",
    "        if v == key:\n",
    "            return i\n",
    "    return -1\n",
    " \n",
    "linear_search([5,1,10,7,12,4,2], 12)"
   ]
  },
  {
   "cell_type": "markdown",
   "metadata": {
    "slideshow": {
     "slide_type": "fragment"
    }
   },
   "source": [
    "What factors affect the running time of this algorithm?"
   ]
  },
  {
   "cell_type": "markdown",
   "metadata": {
    "slideshow": {
     "slide_type": "fragment"
    }
   },
   "source": [
    "- Input **size**\n",
    "- Input **values**: is key at start or end?\n",
    "- Hardware!\n",
    "  - TI-85 vs. Supercomputer"
   ]
  },
  {
   "cell_type": "markdown",
   "metadata": {
    "slideshow": {
     "slide_type": "fragment"
    }
   },
   "source": [
    "#### We need a way to compare the efficiency of algorithms that abstracts away details of hardware and input."
   ]
  },
  {
   "cell_type": "markdown",
   "metadata": {
    "slideshow": {
     "slide_type": "slide"
    }
   },
   "source": [
    "### Analysis of Linear Search, the long way\n",
    "\n",
    "- Assign a time cost $c_i$ to each line $i$.\n",
    "- Figure out how often each line is run $n_i$\n",
    "- total cost is the cost of each line multiplied by the number of times it is run\n",
    "\n",
    "<br>\n",
    "\n",
    "$\n",
    "\\hbox{Cost(linear-search, mylist, key)} = \\sum_i c_i * n_i\n",
    "$"
   ]
  },
  {
   "cell_type": "code",
   "execution_count": 28,
   "metadata": {
    "slideshow": {
     "slide_type": "fragment"
    }
   },
   "outputs": [],
   "source": [
    "def linear_search(mylist, key):        #   cost         number of times run\n",
    "    for i,v in enumerate(mylist):      #   c1               ?\n",
    "        if v == key:                   #   c2               ?\n",
    "            return i                   #   c3               ?\n",
    "    return -1                          #   c4               ?"
   ]
  },
  {
   "cell_type": "markdown",
   "metadata": {
    "slideshow": {
     "slide_type": "slide"
    }
   },
   "source": [
    "### Best/Average/Worst case\n",
    "\n",
    "To deal with the effects of the input values on performance, we can consider three types of analysis:\n",
    "\n",
    "- **Worst-case**: maximum time for any input of size $n$\n"
   ]
  },
  {
   "cell_type": "markdown",
   "metadata": {
    "slideshow": {
     "slide_type": "fragment"
    }
   },
   "source": [
    "```python\n",
    "linear_search([5,1,10,7,12,4,2], 9999)\n",
    "```"
   ]
  },
  {
   "cell_type": "markdown",
   "metadata": {
    "slideshow": {
     "slide_type": "fragment"
    }
   },
   "source": [
    "- **Best case**: minimum time of any input of size $n$"
   ]
  },
  {
   "cell_type": "markdown",
   "metadata": {
    "slideshow": {
     "slide_type": "fragment"
    }
   },
   "source": [
    "```python\n",
    "linear_search([5,1,10,7,12,4,2], 5)\n",
    "```"
   ]
  },
  {
   "cell_type": "markdown",
   "metadata": {
    "slideshow": {
     "slide_type": "fragment"
    }
   },
   "source": [
    "- **Average case**: expected time over all inputs of size *n*\n",
    "    - Need some probability distribution over inputs"
   ]
  },
  {
   "cell_type": "markdown",
   "metadata": {
    "slideshow": {
     "slide_type": "fragment"
    }
   },
   "source": [
    "```python\n",
    "for (mylist, key) in ???:\n",
    "    linear_search(mylist, key)\n",
    "```"
   ]
  },
  {
   "cell_type": "markdown",
   "metadata": {
    "slideshow": {
     "slide_type": "slide"
    }
   },
   "source": [
    "### Worst-case analysis of linear search\n",
    "\n",
    "Assume $n \\leftarrow$ `len(mylist)`"
   ]
  },
  {
   "cell_type": "code",
   "execution_count": 29,
   "metadata": {
    "slideshow": {
     "slide_type": "fragment"
    }
   },
   "outputs": [],
   "source": [
    "def linear_search(mylist, key):        #   cost         number of times run\n",
    "    for i,v in enumerate(mylist):      #   c1               ?\n",
    "        if v == key:                   #   c2               ?\n",
    "            return i                   #   c3               ?\n",
    "    return -1                          #   c4               ?"
   ]
  },
  {
   "cell_type": "markdown",
   "metadata": {
    "slideshow": {
     "slide_type": "fragment"
    }
   },
   "source": [
    "$ \\hbox{Cost(linear-search, } n) = c_1n + c_2n + c_4$\n",
    "\n",
    "**Cost is now just a function of:**\n",
    "\n",
    "- input size $n$\n",
    "- constants $c$ (depend on machine, compiler, etc)"
   ]
  },
  {
   "cell_type": "markdown",
   "metadata": {
    "slideshow": {
     "slide_type": "slide"
    }
   },
   "source": [
    "### How granular should we get?\n",
    "\n",
    "Consider this slightly different implementation:"
   ]
  },
  {
   "cell_type": "code",
   "execution_count": 30,
   "metadata": {
    "slideshow": {
     "slide_type": "fragment"
    }
   },
   "outputs": [],
   "source": [
    "def new_linear_search(mylist, key):    #   cost         number of times run\n",
    "    for i in range(len(mylist)):       #   c5               n\n",
    "        if mylist[i] == key:           #   c6               n\n",
    "            return i                   #   c3               0\n",
    "    return -1                          #   c4               1"
   ]
  },
  {
   "cell_type": "markdown",
   "metadata": {
    "slideshow": {
     "slide_type": "fragment"
    }
   },
   "source": [
    "$\n",
    "\\begin{align}\n",
    "\\hbox{Cost(new-linear-search, } n) = c_5n + c_6n + c_4\\\\\n",
    "\\hbox{Cost(linear-search, } n) = c_1n + c_2n + c_4\n",
    "\\end{align}\n",
    "$"
   ]
  },
  {
   "cell_type": "markdown",
   "metadata": {
    "slideshow": {
     "slide_type": "slide"
    }
   },
   "source": [
    "There is a line between analyzing algorithms and optimizing a specific implementation (e.g., through profiling):\n",
    "\n",
    "<img width=50% src=\"figures/profile.png\"/>\n"
   ]
  },
  {
   "cell_type": "markdown",
   "metadata": {
    "slideshow": {
     "slide_type": "slide"
    }
   },
   "source": [
    "### Asymptotic Analysis\n",
    "\n",
    "- Ignore machine-dependent constants\n",
    "- Focus on **growth** of running time\n",
    "  - What happens in the limit as $n \\rightarrow \\infty$\n",
    "\n",
    "$ c_1n + c_2n + c_4 \\approx c_5n + c_6n + c_4 $\n"
   ]
  },
  {
   "cell_type": "markdown",
   "metadata": {
    "slideshow": {
     "slide_type": "slide"
    }
   },
   "source": [
    "e.g., consider two algorithms with running times:\n",
    "\n",
    "- algorithm 1: $c_1 n + c_2$\n",
    "- algorithm 2: $c_3 n^2 + c_4 n + c_5$"
   ]
  },
  {
   "cell_type": "markdown",
   "metadata": {
    "slideshow": {
     "slide_type": "fragment"
    }
   },
   "source": [
    "Depending on the machine-dependent constants, algorithm 2 may sometimes be faster than algorithm 1:\n",
    "\n",
    "- algorithm 1: $120n - 2000$\n",
    "- algorithm 2: $n^2$"
   ]
  },
  {
   "cell_type": "code",
   "execution_count": 31,
   "metadata": {
    "code_folding": [],
    "slideshow": {
     "slide_type": "fragment"
    }
   },
   "outputs": [
    {
     "data": {
      "image/png": "[encoded data removed]",
      "text/plain": [
       "<Figure size 864x576 with 1 Axes>"
      ]
     },
     "metadata": {},
     "output_type": "display_data"
    }
   ],
   "source": [
    "n = np.arange(200)\n",
    "time1 = 120*n + - 2000\n",
    "time2 = n*n\n",
    "\n",
    "# plot\n",
    "plt.figure()\n",
    "plt.plot(n, time1, label='$120 n - 2000$')\n",
    "plt.plot(n, time2, label='$n^2$')\n",
    "plt.xlabel(\"$n$\")\n",
    "plt.ylabel('running time')\n",
    "plt.legend()\n",
    "plt.show()"
   ]
  },
  {
   "cell_type": "markdown",
   "metadata": {
    "slideshow": {
     "slide_type": "fragment"
    }
   },
   "source": [
    "But, as $n \\rightarrow \\infty$, there will be a point at which algorithm 2 will be slower, **no matter which machine it is run on**\n"
   ]
  },
  {
   "cell_type": "markdown",
   "metadata": {
    "slideshow": {
     "slide_type": "slide"
    }
   },
   "source": [
    "### Definition: Asymptotic dominance\n",
    "\n",
    "Function $f(n)$ **asymptotically dominates** function $g(n)$ if **there exist** constants $c$ and $n_0$ such that\n",
    "\n",
    "$ g(n) \\le c \\cdot f(n)$ **for all** $n \\ge n_0$\n",
    "\n",
    "<br><br>\n",
    "\n",
    "e.g., $n^2$ asymptotically dominates $120 n - 2000$\n"
   ]
  },
  {
   "cell_type": "markdown",
   "metadata": {
    "slideshow": {
     "slide_type": "fragment"
    }
   },
   "source": [
    "**Proof:**\n",
    "\n",
    "Find $c$ and $n_0$ such that\n",
    "\n",
    "$120 n - 2000 \\leq c*n^2$  for all $n>n_0$\n",
    "\n",
    "<br>\n",
    "\n",
    "Let $c=1$. Find an $n_0$ such that \n",
    "\n",
    "$\n",
    "120 n - 2000 \\leq n^2 \\\\\n",
    "$\n",
    "for all $n \\ge n_0$\n",
    "\n",
    "$\n",
    "\\begin{align}\n",
    "120n - 2000 & \\leq n^2 \\\\\n",
    "0 & \\leq n^2 - 120n + 2000\\\\\n",
    "0 & \\leq (n-100)(n-20)\\\\\n",
    "\\end{align}\n",
    "$\n",
    "\n",
    "\n",
    "When $n=100$, $120n - 2000 = n^2 $\n",
    "\n",
    "For all $n \\ge 100$, $120n - 2000 \\le n^2 $\n",
    "\n",
    "So, $c=1, n_0=100$ satisfies the definition of asymptotic dominance."
   ]
  },
  {
   "cell_type": "code",
   "execution_count": 32,
   "metadata": {
    "code_folding": [
     0
    ],
    "slideshow": {
     "slide_type": "slide"
    }
   },
   "outputs": [
    {
     "data": {
      "image/png": "[encoded data removed]",
      "text/plain": [
       "<Figure size 864x576 with 1 Axes>"
      ]
     },
     "metadata": {},
     "output_type": "display_data"
    }
   ],
   "source": [
    "# show n_0\n",
    "n = np.arange(150)\n",
    "time1 = 120*n + - 2000\n",
    "time2 = n*n\n",
    "\n",
    "# plot\n",
    "plt.figure()\n",
    "plt.plot(n, time1, label='$120 n - 2000$')\n",
    "plt.plot(n, time2, label='$n^2$')\n",
    "plt.axvline(100, color='g')\n",
    "plt.text(94,1000,'$n_0$', fontsize=18, color='g')\n",
    "plt.xlabel(\"$n$\")\n",
    "plt.ylabel('running time')\n",
    "plt.legend()\n",
    "plt.show()"
   ]
  },
  {
   "cell_type": "markdown",
   "metadata": {
    "slideshow": {
     "slide_type": "slide"
    }
   },
   "source": [
    "## Asymptotic Notation\n",
    "\n",
    "$\n",
    "\\begin{align}\n",
    "\\mathcal{O} (f(n)) & = \\{ g(n) \\mid f(n) \\hbox{ asymptotically dominates } g(n)\\}\\\\\n",
    "\\Omega (f(n)) & =  \\{ g(n) \\mid  g(n) \\hbox{ asymptotically dominates } f(n)\\}\\\\\n",
    "\\Theta (f(n)) & =  \\mathcal{O} (f(n)) \\cap \\Omega (f(n))\n",
    "\\end{align}\n",
    "$"
   ]
  },
  {
   "cell_type": "markdown",
   "metadata": {
    "slideshow": {
     "slide_type": "fragment"
    }
   },
   "source": [
    "e.g.\n",
    "\n",
    "$120 n - 2000 \\in \\mathcal{O}(n^2)$\n",
    "\n",
    "$ 10n^3 + 2n^2 - 100 \\in \\Omega(n^2) $\n",
    "\n",
    "$ 14n^2 - 5n +50 \\in \\Theta(n^2) $\n",
    "\n",
    "\n",
    "<br><br>\n",
    "We often abuse notation such as\n",
    "\n",
    "$120 n - 2000 = \\mathcal{O}(n^2)$\n",
    "\n",
    "or\n",
    "\n",
    "$120 n - 2000 \\mathrm{~is~} \\mathcal{O}(n^2)$\n",
    "\n",
    "\n",
    "<br><br>\n",
    "Analogy:\n",
    "\n",
    "|$\\mathcal{O}~~~$ | $\\Omega~~~$ | $\\Theta~~~$ | $\\mathcal{o}~~~$ | $\\omega~~~$ |\n",
    "|--------------|----------|----------|---------------|----------|\n",
    "| $\\leq~~~$       | $\\geq~~~$   | $=~~~$      | $\\lt~~~$         | $\\gt~~~$    |    "
   ]
  },
  {
   "cell_type": "markdown",
   "metadata": {
    "slideshow": {
     "slide_type": "slide"
    }
   },
   "source": [
    "## Course Overview\n",
    "\n",
    "- Analyzing algorithms: methods to compute tight bounds on running time\n",
    "- Designing algorithms: various approaches to designing efficient algorithms\n",
    "  - lists, sequences, trees, graphs,...\n",
    "- Distinct from typical courses like this, we will emphasize **parallel** algorithms from the start (next lecture)\n"
   ]
  },
  {
   "cell_type": "markdown",
   "metadata": {
    "slideshow": {
     "slide_type": "slide"
    }
   },
   "source": [
    "## Navigating the course\n",
    "\n",
    "- Canvas: syllabus, dates, grades\n",
    "- Diderot: interactive textbook\n",
    "- Github: assignments, slides\n"
   ]
  }
 ],
 "metadata": {
  "celltoolbar": "Slideshow",
  "kernelspec": {
   "display_name": "Python 3 (ipykernel)",
   "language": "python",
   "name": "python3"
  },
  "language_info": {
   "codemirror_mode": {
    "name": "ipython",
    "version": 3
   },
   "file_extension": ".py",
   "mimetype": "text/x-python",
   "name": "python",
   "nbconvert_exporter": "python",
   "pygments_lexer": "ipython3",
   "version": "3.9.13"
  },
  "rise": {
   "autolaunch": true,
   "controls": false,
   "enable_chalkboard": true,
   "scroll": true,
   "theme": "simple",
   "transition": "fade"
  },
  "toc": {
   "base_numbering": 1,
   "nav_menu": {},
   "number_sections": true,
   "sideBar": true,
   "skip_h1_title": true,
   "title_cell": "Table of Contents",
   "title_sidebar": "Contents",
   "toc_cell": true,
   "toc_position": {},
   "toc_section_display": true,
   "toc_window_display": false
  }
 },
 "nbformat": 4,
 "nbformat_minor": 4
}
