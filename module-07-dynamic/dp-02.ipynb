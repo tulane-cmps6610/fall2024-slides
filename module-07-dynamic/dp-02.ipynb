{
 "cells": [
  {
   "cell_type": "code",
   "execution_count": null,
   "metadata": {
    "code_folding": [],
    "slideshow": {
     "slide_type": "skip"
    }
   },
   "outputs": [],
   "source": [
    "# setup\n",
    "from IPython.core.display import display,HTML\n",
    "display(HTML('<style>.prompt{width: 0px; min-width: 0px; visibility: collapse}</style>'))\n",
    "display(HTML(open('rise.css').read()))\n",
    "\n",
    "# imports\n",
    "import numpy as np\n",
    "import matplotlib.pyplot as plt\n",
    "import seaborn as sns\n",
    "%matplotlib inline\n",
    "sns.set(style=\"whitegrid\", font_scale=1.5, rc={'figure.figsize':(12, 6)})\n"
   ]
  },
  {
   "cell_type": "markdown",
   "metadata": {
    "slideshow": {
     "slide_type": "slide"
    }
   },
   "source": [
    "# CMPS 6610\n",
    "# Algorithms\n",
    "\n",
    "## Edit Distance, Longest Increasing Subsequence\n"
   ]
  },
  {
   "cell_type": "markdown",
   "metadata": {
    "slideshow": {
     "slide_type": "slide"
    }
   },
   "source": [
    "Today's agenda:\n",
    "\n",
    "- Edit Distance and Longest Increasing Subsequence"
   ]
  },
  {
   "cell_type": "markdown",
   "metadata": {
    "slideshow": {
     "slide_type": "slide"
    }
   },
   "source": [
    "### Edit Distance\n",
    "\n",
    "Given two strings $S, T \\in \\Sigma^*$, how similar are they?\n",
    "\n",
    "We can measure this using *edit distance*, which is the number of insertions and deletions needed to turn $S$ into $T$. Note that we can also go from $T$ to $S$ if we just reverse the edits (by turning insertions into deletions)\n",
    "\n",
    "Example: $S$ = `abcdefghijkl`, $T$ = `abcdghikjl`. How many edits are needed?\n",
    "\n",
    "Consider following edit sequence:\n",
    "\n",
    "$S$: `abcdefghijkl---`<br>\n",
    "$T$: `abcd--ghi---kjl`\n",
    "\n",
    "This has 5 deletions and 3 insertions, for a total of 8 edits. What about this one:\n",
    "\n",
    "$S$: `abcdefghijk-l`<br>\n",
    "$T$: `abcd--ghi-kjl`\n",
    "\n",
    "We have 3 deletions and 1 insertion for a total of 4 edits.\n",
    "\n",
    "Our goal is to compute the **minimum edit distance** between two strings $S$ and $T$ of lengths $m$ and $n$, respectively.\n",
    "\n",
    "It might seem like a toy problem, but this is a critical problem in comparing gene and protein sequences. By attaching  weights to insertions and deletions, we can assess the evolutionary distance between two sequences."
   ]
  },
  {
   "cell_type": "markdown",
   "metadata": {
    "slideshow": {
     "slide_type": "slide"
    }
   },
   "source": [
    "\n",
    "\n",
    "Notice that once again, if we greedily apply edits to the beginning or end of the string we might miss a set of edits interspersed throughout the string. \n",
    "\n",
    "\n",
    "**Can we identify an optimal substructure property for this problem?**\n",
    "\n",
    "<br>\n",
    "\n",
    "Let's use case-based reasoning about the optimal solution as we did for Knapsack. Let $\\mathit{MED}(S, T)$ be the optimal number of edits between $S$ and $T$. \n",
    "\n",
    "<br><br><br>\n",
    "\n",
    "In an optimal sequence of edits, how would we deal with the first two characters of $S$ and $T$, respectively?\n",
    "\n",
    "<br><br>\n",
    "\n",
    "For the base cases, if $S$ is empty and $T$ is not, what is the edit cost?  \n",
    "S=` ` T=`abcde`\n",
    "\n",
    "<br><br><br>\n",
    "\n",
    "\n",
    "If either string is empty, then the edit cost is simply the length of the other string.\n",
    "\n",
    "<br><br>\n",
    "\n",
    "What if $S[0] = T[0]$?  \n",
    "S=`abc` T=`ade`\n",
    "\n",
    "<br><br>\n",
    "\n",
    "then there is no benefit to editing and $\\mathit{MED}(S, T) = \\mathit{MED}(S[1:], T[1:])$. \n",
    "\n",
    "<br><br>\n",
    "What if $S[0] \\neq T[0]$?  \n",
    "S=`abc` T=`bde`\n",
    "\n",
    "<br><br><br>\n",
    "then we must incur 1 edit. The less costly edit is either:  \n",
    "\n",
    "$\\rightarrow 1+\\mathit{MED}(S[1:], T)~~~~$    e.g, $1+\\mathit{MED}($ `bc` , `bde` $)$  \n",
    "or   \n",
    "$\\rightarrow 1+\\mathit{MED}(S, T[1:])~~~~$  e.g, $1+\\mathit{MED}($ `abc` , `de` $)$  \n",
    "\n",
    "\n",
    "<br><br>\n",
    "\n",
    "**Optimal Substructure for Edit Distance**: Let $S$ and $T$ be strings of length $m$ and $n$. Then,\n",
    "\n",
    "$$\\mathit{MED}(S, T) = \n",
    "\\begin{cases}\n",
    "\\mathit{MED}(S[1:], T[1:]), \\mbox{if}~~~S[0]=T[0] \\\\\n",
    "1+\\min\\{\\mathit{MED}(S[1:], T),\\mathit{MED}(S, T[1:])\\}, \\mbox{otherwise} \\\\\n",
    "\\end{cases}\n",
    "$$\n",
    "\n",
    "Just as with Knapsack, this recursion tree for this recurrence yields an exponential number of nodes. How many nodes are there, and what is the depth? \n"
   ]
  },
  {
   "cell_type": "markdown",
   "metadata": {
    "slideshow": {
     "slide_type": "fragment"
    }
   },
   "source": [
    "The recursion tree has $O(2^{m+n})$ nodes and depth $O(m+n)$. Are there shared subproblems?\n",
    "\n",
    "For $S$=`ABC` and $T$=`DBC` we have the following DAG:\n",
    "\n",
    "<img src=\"edit_distance_DAG.jpg\" width=\"60%\">\n",
    "\n",
    "How much sharing is possible? In other words, how many distinct subproblems are there?"
   ]
  },
  {
   "cell_type": "markdown",
   "metadata": {
    "slideshow": {
     "slide_type": "slide"
    }
   },
   "source": [
    "In any recursive call, the subproblems we consider consist of strings with one less character. So there are $O(mn)$ subproblems, each of which can each be computed in $O(1)$ time (if we have precomputed the necessary dependencies). The longest path in the recursion DAG is $O(m+n)$.\n"
   ]
  },
  {
   "cell_type": "code",
   "execution_count": null,
   "metadata": {
    "slideshow": {
     "slide_type": "fragment"
    }
   },
   "outputs": [],
   "source": [
    "def MED(S, T):\n",
    "    #print(\"S:%s, T:%s\" % (S, T))\n",
    "    if (S == \"\"):\n",
    "        return(len(T))\n",
    "    elif (T == \"\"):\n",
    "        return(len(S))\n",
    "    else:\n",
    "        if (S[0] == T[0]):\n",
    "            return(MED(S[1:], T[1:]))\n",
    "        else:\n",
    "            return(1 + min(MED(S, T[1:]), MED(S[1:], T)))\n",
    "\n",
    "S= \"abcdefghijkl\"\n",
    "T= \"abcdghikjl\"\n",
    "S = 'kitten'\n",
    "T = 'sitting'\n",
    "print(MED(S, T))"
   ]
  },
  {
   "cell_type": "markdown",
   "metadata": {
    "slideshow": {
     "slide_type": "slide"
    }
   },
   "source": [
    "## Longest Increasing Subsequence\n",
    "\n",
    "We previously looked at approaches to identify trends in a sequence: longest run, maximum contiguous subsequence, longest gap. \n",
    "\n",
    "Let's look another trend we might want to identify from a sequence. Given a sequence $S = \\langle s_0, s_1, \\ldots, s_{n-1} \\rangle$, what is the longest increasing subsequence? Note that subsequences don't need to be contiguous.\n",
    "\n",
    "Example: $S=\\langle 5, 2, 8, 6, 3, 6, 9, 7\\rangle$. Every subsequence of length 1 is trivially increasing. Also $\\langle 2, 6, 9 \\rangle$, $\\langle 2, 8, 9 \\rangle$ are increasing, as is $\\langle 5, 6, 7\\rangle$. What is the longest?\n",
    "\n"
   ]
  },
  {
   "cell_type": "markdown",
   "metadata": {
    "slideshow": {
     "slide_type": "slide"
    }
   },
   "source": [
    "Let's reduce this problem to something slightly simpler with the observation that the longest increasing subsequence must start somewhere in $S$.\n",
    "\n",
    "Let $\\mathit{LIS}(S, i)$ be the longest increasing subsequence for $S$ that starts with $S[i]$ as the first element. \n",
    "\n",
    "How can we use the function $\\mathit{LIS}(S, i)$ to solve the original problem?\n",
    "\n"
   ]
  },
  {
   "cell_type": "markdown",
   "metadata": {
    "slideshow": {
     "slide_type": "fragment"
    }
   },
   "source": [
    "If we can compute $LIS(S, i)$ then we can compute $ \\mathit{LIS}(S) = \\max_{0\\leq i < n} \\mathit{LIS}(S, i).$\n",
    "\n",
    "\n",
    "- If $S[i]$ is the first element, then the next element $j$ must have $j>i$ and $S[j] > S[i]$. \n",
    "- Whichever element is next, we must have $\\mathit{LIS}(S, i) = 1 + \\max_{j: S[j] > S[i]} \\mathit{LIS}(S[j:]).$\n",
    "\n",
    "\n"
   ]
  },
  {
   "cell_type": "markdown",
   "metadata": {
    "slideshow": {
     "slide_type": "fragment"
    }
   },
   "source": [
    "**Optimal Substructure for Longest Increasing Subsequence**: Given a sequence $S$, we have that the longest increasing subesquence of $S$ is $ \\mathit{LIS}(S) = \\max_{0\\leq i < n} \\mathit{LIS}(S, i)$ where\n",
    "$$\\mathit{LIS}(S, i) = 1 + \\max_{j: S[j] > S[i]} \\mathit{LIS}(S, j).$$\n",
    "\n",
    "To compute this optimal substructure property, how many distinct subproblems must be computed from scratch? \n"
   ]
  },
  {
   "cell_type": "markdown",
   "metadata": {
    "slideshow": {
     "slide_type": "slide"
    }
   },
   "source": [
    "This optimal substructure property is little different than what we've seen so far. There are only a linear number of starting points for an optimal solution. But for each subproblem the work to compute an optimal solution, even if we have computed all subproblems already, is actually linear in the size of the sequence we consider (instead of $O(1)$). \n",
    "\n",
    "However there are only a linear number of starting points for an optimal solution. \n",
    "\n"
   ]
  },
  {
   "cell_type": "code",
   "execution_count": null,
   "metadata": {
    "slideshow": {
     "slide_type": "fragment"
    }
   },
   "outputs": [],
   "source": [
    "# longest increasing subsequence starting at position 0\n",
    "def LIS_helper(S):\n",
    "    if (S == []):\n",
    "        return(0)\n",
    "    else:\n",
    "        # find elements in the sequence that are larger than S[0]\n",
    "        rest = [j for j in range(1,len(S)) if S[j]>S[0]]\n",
    "        if (rest == []):\n",
    "            return(1)\n",
    "        else:\n",
    "            results = [LIS_helper(S[i:]) for i in rest]\n",
    "            if (results == []):\n",
    "                return(1)\n",
    "            else:\n",
    "                return(1 + max(results))\n",
    "    \n",
    "def LIS(S):\n",
    "    return(max([LIS_helper(L[i:]) for i in range(len(L))]))\n",
    "\n",
    "L = [5,2,8,6,3,6,9,7]\n",
    "print(LIS(L))\n"
   ]
  },
  {
   "cell_type": "markdown",
   "metadata": {
    "slideshow": {
     "slide_type": "fragment"
    }
   },
   "source": [
    "So, for a list $S$ of length $n$, we incur $O(n^2)$ work if we reuse the results from already visited subproblems. Since we decrease the length of the list by at least one element in each recursive call, the longest path in the DAG is $n$. At each node, we require $O(\\lg n)$ span to compute the max (e.g., using `reduce`), and $O(1)$ span to compute `rest` (using filter), so the span is $O(n \\lg n).$\n"
   ]
  }
 ],
 "metadata": {
  "celltoolbar": "Slideshow",
  "kernelspec": {
   "display_name": "Python 3 (ipykernel)",
   "language": "python",
   "name": "python3"
  },
  "language_info": {
   "codemirror_mode": {
    "name": "ipython",
    "version": 3
   },
   "file_extension": ".py",
   "mimetype": "text/x-python",
   "name": "python",
   "nbconvert_exporter": "python",
   "pygments_lexer": "ipython3",
   "version": "3.9.13"
  },
  "rise": {
   "autolaunch": true,
   "controls": false,
   "enable_chalkboard": true,
   "scroll": true,
   "theme": "simple",
   "transition": "fade"
  },
  "toc": {
   "base_numbering": 1,
   "nav_menu": {},
   "number_sections": true,
   "sideBar": true,
   "skip_h1_title": true,
   "title_cell": "Table of Contents",
   "title_sidebar": "Contents",
   "toc_cell": true,
   "toc_position": {},
   "toc_section_display": true,
   "toc_window_display": false
  }
 },
 "nbformat": 4,
 "nbformat_minor": 4
}
