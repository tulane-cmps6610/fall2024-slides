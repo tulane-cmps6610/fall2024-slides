{
 "cells": [
  {
   "cell_type": "code",
   "execution_count": 1,
   "metadata": {
    "code_folding": [],
    "slideshow": {
     "slide_type": "skip"
    }
   },
   "outputs": [
    {
     "data": {
      "text/html": [
       "<style>.prompt{width: 0px; min-width: 0px; visibility: collapse}</style>"
      ],
      "text/plain": [
       "<IPython.core.display.HTML object>"
      ]
     },
     "metadata": {},
     "output_type": "display_data"
    },
    {
     "data": {
      "text/html": [
       "<style>\n",
       "div#notebook {\n",
       " font-family: \"Exo_2\", sans-serif;\n",
       "}\n",
       "\n",
       ".rendered_html h1,\n",
       ".text_cell_render h1 {\n",
       " color: #126dce;\n",
       " font-size: 220%;\n",
       " text-align: center;\n",
       " font-weight: lighter;\n",
       "}\n",
       ".rendered_html h2,\n",
       ".text_cell_render h2 {\n",
       " text-align: center;\n",
       " font-size: 170%;\n",
       " color: #126dce;\n",
       " font-style: normal;\n",
       " font-weight: lighter;\n",
       "}\n",
       ".rendered_html h3,\n",
       ".text_cell_render h3 {\n",
       " font-size: 150%;\n",
       " color: #126dce;\n",
       " font-weight: lighter;\n",
       " text-decoration: italic;\n",
       " font-style: normal;\n",
       "}\n",
       ".rendered_html h4,\n",
       ".text_cell_render h4 {\n",
       " font-size: 120%;\n",
       " color: #126dce;\n",
       " font-weight: underline;\n",
       " font-style: normal;\n",
       "}\n",
       ".rendered_html h5,\n",
       ".text_cell_render h5 {\n",
       " font-size: 100%;\n",
       " color: #2f2f2f;\n",
       " font-weight: lighter;\n",
       " text-decoration: underline;\n",
       "}\n",
       "</style>\n"
      ],
      "text/plain": [
       "<IPython.core.display.HTML object>"
      ]
     },
     "metadata": {},
     "output_type": "display_data"
    }
   ],
   "source": [
    "# setup\n",
    "from IPython.core.display import display,HTML\n",
    "display(HTML('<style>.prompt{width: 0px; min-width: 0px; visibility: collapse}</style>'))\n",
    "display(HTML(open('rise.css').read()))\n",
    "\n",
    "# imports\n",
    "import numpy as np\n",
    "import matplotlib.pyplot as plt\n",
    "import seaborn as sns\n",
    "%matplotlib inline\n",
    "sns.set(style=\"whitegrid\", font_scale=1.5, rc={'figure.figsize':(12, 6)})\n",
    "import time\n"
   ]
  },
  {
   "cell_type": "markdown",
   "metadata": {
    "slideshow": {
     "slide_type": "slide"
    }
   },
   "source": [
    "# CMPS 6610\n",
    "# Algorithms\n",
    "\n",
    "## Recurrences\n"
   ]
  },
  {
   "cell_type": "markdown",
   "metadata": {
    "slideshow": {
     "slide_type": "slide"
    }
   },
   "source": [
    "Recurrences are a way to capture the behavior of recursive algorithms.\n",
    "\n",
    "Key ingredients: \n",
    "\n",
    "- Base case ($n = c$): constant time \n",
    "- Inductive case ($n > c$): recurse on smaller instance and use output to compute solution\n",
    "\n",
    "Actually recursion is a conceptual way to view algorithm execution, and we can reframe an algorithm specification to make it recursive.\n",
    "\n"
   ]
  },
  {
   "cell_type": "code",
   "execution_count": 2,
   "metadata": {
    "slideshow": {
     "slide_type": "slide"
    }
   },
   "outputs": [
    {
     "name": "stdout",
     "output_type": "stream",
     "text": [
      "[2, 1, 4, 3, 9]\n",
      "[1, 2, 4, 3, 9]\n",
      "[1, 2, 4, 3, 9]\n",
      "[1, 2, 3, 4, 9]\n",
      "[1, 2, 3, 4, 9]\n"
     ]
    },
    {
     "data": {
      "text/plain": [
       "[1, 2, 3, 4, 9]"
      ]
     },
     "execution_count": 2,
     "metadata": {},
     "output_type": "execute_result"
    }
   ],
   "source": [
    "def selection_sort(L):\n",
    "    for i in range(len(L)):\n",
    "        print(L)\n",
    "        m = L.index(min(L[i:]))\n",
    "        L[i], L[m] = L[m], L[i]\n",
    "    return L\n",
    "                   \n",
    "selection_sort([2, 1, 4, 3, 9])"
   ]
  },
  {
   "cell_type": "code",
   "execution_count": 3,
   "metadata": {
    "slideshow": {
     "slide_type": "fragment"
    }
   },
   "outputs": [
    {
     "name": "stdout",
     "output_type": "stream",
     "text": [
      "L=[2, 1, 999, 4, 3]\n",
      "L=[2, 999, 4, 3]\n",
      "L=[999, 4, 3]\n",
      "L=[4, 999]\n",
      "L=[999]\n"
     ]
    },
    {
     "data": {
      "text/plain": [
       "[1, 2, 3, 4, 999]"
      ]
     },
     "execution_count": 3,
     "metadata": {},
     "output_type": "execute_result"
    }
   ],
   "source": [
    "def selection_sort_recursive(L):\n",
    "    print('L=%s' % L)\n",
    "    if (len(L) == 1):\n",
    "        return(L)\n",
    "    else:\n",
    "        m = L.index(min(L))\n",
    "        L[0], L[m] = L[m], L[0]\n",
    "        return [L[0]] + selection_sort_recursive(L[1:])\n",
    "    \n",
    "selection_sort_recursive([2, 1, 999, 4, 3])"
   ]
  },
  {
   "cell_type": "code",
   "execution_count": 4,
   "metadata": {
    "slideshow": {
     "slide_type": "skip"
    }
   },
   "outputs": [],
   "source": [
    "# faster argmin.\n",
    "L = [2, 1, 999, 4, 3]\n",
    "m = min(enumerate(L), key=lambda x: x[1])[0]"
   ]
  },
  {
   "cell_type": "markdown",
   "metadata": {
    "slideshow": {
     "slide_type": "fragment"
    }
   },
   "source": [
    "Are these the same algorithm? Can we give a SPARC specification?"
   ]
  },
  {
   "cell_type": "markdown",
   "metadata": {},
   "source": [
    "<p><span class=\"math display\">\\[\\begin{array}{l}  \n",
    "\\mathit{selectionsort}~~L = \n",
    "\\\\  \n",
    "~~~~~\\texttt{if}~|L| = 1~\\texttt{then}    \n",
    "\\\\  \n",
    "~~~~~~~~~~~~~\\texttt{return}~~L  \n",
    "\\\\  \n",
    "~~~~~~~~~\\texttt{else}\n",
    "\\\\\n",
    "~~~~~~~~~~~~\\texttt{let}\\\\\n",
    "~~~~~~~~~~~~~~~m = \\texttt{minimum element in}~~L\\\\\n",
    "~~~~~~~~~~~~\\texttt{in}\\\\ \n",
    "~~~~~~~~~~~~~~~\\texttt{Cons}(m, (\\mathit{selectionsort~~\\langle x | x\\in L~~and~~x\\neq m \\rangle})) \n",
    "\\end{array}\\]</span></p>\n",
    "\n"
   ]
  },
  {
   "cell_type": "markdown",
   "metadata": {
    "slideshow": {
     "slide_type": "slide"
    }
   },
   "source": [
    "What is the running time and why?"
   ]
  },
  {
   "cell_type": "markdown",
   "metadata": {
    "slideshow": {
     "slide_type": "fragment"
    }
   },
   "source": [
    "$\\begin{eqnarray}\n",
    "W(n) &=& W(n-1) + n \\\\\n",
    " &=& W(n-2) + 2n-1 \\\\\n",
    "&\\vdots&\n",
    "\\end{eqnarray}$\n"
   ]
  },
  {
   "cell_type": "markdown",
   "metadata": {
    "slideshow": {
     "slide_type": "fragment"
    }
   },
   "source": [
    "$\\begin{eqnarray}\n",
    "W(n) &=& \\sum_{i=1}^n i  \\\\\n",
    "&=& \\frac{n(n+1)}{2} \\\\\n",
    "&=& \\Theta(n^2).\n",
    "\\end{eqnarray}$\n"
   ]
  },
  {
   "cell_type": "markdown",
   "metadata": {
    "slideshow": {
     "slide_type": "slide"
    }
   },
   "source": [
    "The recurrence for Selection Sort is somewhat simple - what if we have multiple recursive calls and split the input? (This is actually what *divide-and-conquer* algorithms do.)\n",
    "\n",
    "We'll look at methods to solve recurrences in order to obtain big-O bounds for recursive algorithms.\n",
    "\n",
    "We will:\n",
    "\n",
    "- Get intuition for recurrences by looking the recursion tree. \n",
    "\n",
    "- Develop the **brick** method to quickly state asymptotic bounds on a recurrence by looking at the shape of the tree."
   ]
  },
  {
   "cell_type": "markdown",
   "metadata": {
    "slideshow": {
     "slide_type": "slide"
    }
   },
   "source": [
    "Let's look at the specification and recurrence for Merge Sort: \n",
    "\n",
    "<p><span class=\"math display\">\\[\\begin{array}{l}  \n",
    "\\mathit{mergeSort}~a =  \n",
    "\\\\   \n",
    "~~~~\\texttt{if}~|a| \\leq 1~\\texttt{then}  \n",
    "\\\\   \n",
    "~~~~~~~~a  \n",
    "\\\\  \n",
    "~~~~\\texttt{else}  \n",
    "\\\\   \n",
    "~~~~~~~~\\texttt{let}  \n",
    "\\\\  \n",
    "~~~~~~~~~~~~(l,r) = \\mathit{splitMid}~a  \n",
    "\\\\   \n",
    "~~~~~~~~~~~~(l',r') = (\\mathit{mergeSort}~l \\mid\\mid{} \\mathit{mergeSort}~r)  \n",
    "\\\\  \n",
    "~~~~~~~~\\texttt{in}  \n",
    "\\\\   \n",
    "~~~~~~~~~~~~\\mathit{merge} (l',r')  \n",
    "\\\\  \n",
    "~~~~~~~~\\texttt{end}  \n",
    "\\end{array}\\]</span></p>\n",
    "\n",
    "Suppose that the merging step can be done with $O(n)$ work and $O(\\log n)$ span. Then recurrence for the work is: \n",
    "\n",
    "$ \\begin{equation}\n",
    "W(n) = \\begin{cases}\n",
    "  c_b, & \\text{if $n=1$} \\\\\n",
    "  2W(n/2) + c_1n + c_2, & \\text{otherwise} \n",
    "  \\end{cases}\n",
    "\\end{equation}$\n",
    "\n",
    "How do we solve this recurrence to obtain $W(n) = O(n\\log n)$?\n",
    "\n"
   ]
  },
  {
   "cell_type": "markdown",
   "metadata": {
    "slideshow": {
     "slide_type": "slide"
    }
   },
   "source": [
    "\n",
    "\n",
    "![alttext](mergesort_tree.png)\n",
    "\n",
    "The recursion tree for Merge Sort has linear work at every level except at the leaves. There are a logarithmic number of levels and a linear number of leaves so we obtain an asymptotic bound of $O(n\\log n)$ for the work."
   ]
  },
  {
   "cell_type": "markdown",
   "metadata": {
    "slideshow": {
     "slide_type": "slide"
    }
   },
   "source": [
    "## Solving Recurrences with the Tree Method \n",
    "\n",
    "<br>\n",
    "\n",
    "\n",
    "<div>size at level $i$</div> <div style=\"text-align: right\"> cost at level $i$ </div>\n",
    "\n",
    "![merge-tree.jpg](merge-tree.jpg)\n",
    "\n",
    "### Recipe: \n",
    "1. Expand tree for two levels.\n",
    "2. Determine the cost of each level $i$ ($i$ starts at $0$).\n",
    "3. Determine the number of levels\n",
    "4. Cost = $\\sum_{i=0}^{\\hbox{num levels}}$ cost for level $i$\n",
    "  - This last step usually involves using properties of series\n",
    "  \n",
    "<br>\n",
    "\n",
    "E.g., for merge sort:\n",
    "\n",
    "- level $i$ contains $2^i$ nodes\n",
    "- each node at level $i$ costs $c_1 \\frac{n}{2^i} + c_2$\n",
    "- so, each level costs $2^i * (c_1 \\frac{n}{2^i} + c_2) = c_1n + 2^i c_2$\n",
    "- since each level reduces size by half, we have $\\lg n$ levels\n",
    "- so, total cost of tree is:\n",
    "\n",
    "$$W(n) = \\sum_{i=0}^{\\lg n} (c_1n + 2^i c_2)$$\n",
    "\n",
    "\n",
    "> To solve this, we'll make use of bounds for **geometric series**. \n",
    ">\n",
    "> - For $\\alpha > 1$: $\\:\\:\\: \\sum_{i=0}^n \\alpha^i  = \\frac{\\alpha}{\\alpha - 1}\\cdot\\alpha^n$\n",
    "> <br>\n",
    "> \n",
    ">  - e.g., $\\sum_{i=0}^{\\lg n} 2^i < \\frac{2}{1} * 2^{\\lg n} = 2n$\n",
    ">\n",
    "><br>\n",
    ">\n",
    ">- For $\\alpha < 1$: $\\:\\:\\: \\sum_{i=0}^\\infty \\alpha^i  < \\frac{1}{1-\\alpha}$\n",
    "><br>\n",
    ">\n",
    ">  - e.g., $\\sum_{i=0}^{\\lg n} \\frac{1}{2^i} < 2$\n",
    "\n",
    "\n",
    "<br> plugging in...\n",
    "\n",
    "$$= \\sum_{i=0}^{\\lg n} (c_1 n + 2^i c_2)$$\n",
    "\n",
    "$$= \\sum_{i=0}^{\\lg n}c_1 n + \\sum_{i=0}^{\\lg n} 2^i c_2$$\n",
    "\n",
    "$$= c_1n \\sum_{i=0}^{\\lg n} 1 + c_2 \\sum_{i=0}^{\\lg n} 2^i$$\n",
    "\n",
    "$$<c_1n \\lg n + 2 c_2 n$$\n",
    "\n",
    "$$\\in O(n \\lg n)$$"
   ]
  },
  {
   "cell_type": "markdown",
   "metadata": {
    "slideshow": {
     "slide_type": "slide"
    }
   },
   "source": [
    "What about the span?\n",
    "\n",
    "![alttext](tree.png)\n",
    "\n",
    "\n",
    "The recurrence for the span of Mergesort is:\n",
    "\n",
    "$ \\begin{equation}\n",
    "S(n) = \\begin{cases}\n",
    "  c_3, & \\text{if $n=1$} \\\\\n",
    "  S(n/2) + c_4 \\lg n, & \\text{otherwise} \n",
    "  \\end{cases}\n",
    "\\end{equation}$\n",
    "\n",
    "\n",
    "Since each level of the recursion tree is concurrent and all nodes have the same cost, we have that\n",
    "\n",
    "$ \\begin{align}\n",
    "S(n) & = & \\sum_{i=1}^{\\lg n} \\lg\\frac{n}{2^i}\\\\\n",
    "& = & \\sum_{i=1}^{\\lg n} (\\lg n - i)\\\\\n",
    "& = & \\sum_{i=1}^{\\lg n} (\\lg n) - \\sum_{i=1}^{\\lg n} i\\\\\n",
    "& < & \\lg^2 n  - \\frac{1}{2}\\lg n * (\\lg n+1) \\:\\: (\\hbox{using}\\:\\:\\sum_{i=1}^n = \\frac{n(n+1)}{2})\\\\\n",
    "& = & \\lg^2n - \\frac{1}{2}\\lg^2 n - \\frac{1}{2}  \\lg n\\\\\n",
    "& = & O(\\lg^2 n)\\\\\n",
    "\\end{align}$\n"
   ]
  },
  {
   "cell_type": "markdown",
   "metadata": {
    "slideshow": {
     "slide_type": "slide"
    }
   },
   "source": [
    "Another recurrence:\n",
    "    \n",
    "$ \\begin{equation}\n",
    "W(n) = \\begin{cases}\n",
    "  c_b, & \\text{if $n=1$} \\\\\n",
    "  2W(n/2) + n^2, & \\text{otherwise} \n",
    "  \\end{cases}\n",
    "\\end{equation}$\n",
    "\n",
    "What is the asymptotic runtime?\n",
    "\n",
    "![alttext](tree.png)\n",
    "\n"
   ]
  },
  {
   "cell_type": "markdown",
   "metadata": {
    "slideshow": {
     "slide_type": "slide"
    }
   },
   "source": [
    "$$W(n) = 2W(n/2) + c_1n^2 + c_2$$\n",
    "\n",
    "$= \\sum_i^{\\lg n} (c_1 \\frac{n^2}{2^i} + 2^i c_2)$\n",
    "\n",
    "$= c_1 n^2 \\sum_{i=0}^{\\lg n} \\frac{1}{2^i} + c_2 \\sum_{i=0}^{\\lg n} 2^i$\n",
    "\n",
    "$< 2 c_1 n^2 + 2 c_2 n$\n",
    "\n",
    "$\\in O(n^2)$"
   ]
  },
  {
   "cell_type": "markdown",
   "metadata": {
    "slideshow": {
     "slide_type": "slide"
    }
   },
   "source": [
    "So what if branching factor is not 2?\n",
    "\n",
    "$$W(n) = 4 W \\Big(\\frac{n}{2}\\Big) + O(n)$$\n",
    "\n",
    "**costs**\n",
    "\n",
    "- level 0: $c_1n + c_2$\n",
    "- level 1: $4(c_1 \\frac{n}{2} + c_2)$\n",
    "- level 2: $16(c_1 \\frac{n}{4} + c_2)$\n",
    "- level $i$ ?"
   ]
  },
  {
   "cell_type": "markdown",
   "metadata": {
    "slideshow": {
     "slide_type": "fragment"
    }
   },
   "source": [
    "$$4^i(c_1 \\frac{n}{2^i} + c_2)$$\n",
    "\n",
    "<br>\n",
    "\n",
    "still $\\lg n$ levels:, so $W(n)$ is:\n",
    "\n",
    "<br>\n",
    "\n",
    "$$= c_1n \\sum_{i=0}^{\\lg n} \\Big(\\frac{4}{2}\\Big)^i + c_2 \\sum_{i=0}^{\\lg n} 4^i$$\n",
    "\n",
    "$$< 2 c_1 n^2 + \\frac{4}{3} c_2 4^{\\lg n}$$\n",
    "\n",
    "$$(\\hbox{since} \\:\\:\\ \\sum_{i=0}^n \\alpha^i  < \\frac{\\alpha}{\\alpha - 1}\\cdot\\alpha^n)$$\n",
    "\n",
    "$$= 2 c_1 n^2 + \\frac{4}{3} c_2 2^{\\lg n} 2^{\\lg n}$$\n",
    "\n",
    "$$= 2 c_1 n^2 + \\frac{4}{3} c_2 n^2$$\n",
    "\n",
    "$$\\in O(n^2)$$"
   ]
  },
  {
   "cell_type": "markdown",
   "metadata": {
    "slideshow": {
     "slide_type": "skip"
    }
   },
   "source": [
    "Start of Lecture 2"
   ]
  },
  {
   "cell_type": "markdown",
   "metadata": {
    "slideshow": {
     "slide_type": "slide"
    }
   },
   "source": [
    "Recurrences can be more general, so how do we get a handle on asymptotic runtimes when the recursion is really complicated?\n",
    "\n",
    "**Key Idea:** The branching properties of the recursion tree determine work at each level and the number of leaves.\n",
    "\n",
    "The **brick method** gives a way to derive asymptotic runtimes by looking at the relationships between parent and child nodes in the recursion tree. This way we only need to worry about the costs of the root and the leaves."
   ]
  },
  {
   "cell_type": "markdown",
   "metadata": {
    "slideshow": {
     "slide_type": "slide"
    }
   },
   "source": [
    "> In the tree method, if the costs grow or decay geometrically across levels, then we need only consider the cost of the root (**decay**), or the total cost of the leaves (**growth**). \n",
    "\n",
    "> If there is no geometric growth or decay then we can calculate the cost of the worst level (often either the root or leaves) and multiply it by the number of levels. \n",
    "\n",
    "This leads to three cases:\n",
    "\n",
    "1. **root dominated**\n",
    "2. **leaf dominated**\n",
    "3. **balanced**\n",
    "\n",
    "> Conveniently, to distinguish these three cases we need only consider the cost of each node in the tree and how it relates to the cost of its children."
   ]
  },
  {
   "cell_type": "markdown",
   "metadata": {
    "slideshow": {
     "slide_type": "slide"
    }
   },
   "source": [
    "The value of $n$ decreases geometrically as we collect the terms in our recurrences. We'll make use of bounds for geometric series. For any $\\alpha > 1$:\n",
    "    \n",
    "$$ \\sum_{i=0}^n \\alpha^i  = \\frac{\\alpha}{\\alpha - 1}\\cdot\\alpha^n$$\n",
    "\n",
    "For $\\alpha < 1$:\n",
    "\n",
    "$$ \\sum_{i=0}^\\infty \\alpha^i  < \\frac{1}{1-\\alpha}$$\n",
    "\n"
   ]
  },
  {
   "cell_type": "markdown",
   "metadata": {
    "slideshow": {
     "slide_type": "slide"
    }
   },
   "source": [
    "### Root-dominated\n",
    "\n",
    "For a node $v$ in the recursion tree, let $C(v)$ denote its cost and $D(v)$ denote its children.\n",
    "\n",
    "A recurrence is **root-dominated** if for all $v$, there is an $\\alpha > 1$ such that:\n",
    "\n",
    "$$C(v) \\geq \\alpha \\sum_{u \\in D(v)} C(u)$$\n",
    "\n",
    "The cost of a root dominated recurrence is $O(C(r))$ if $r$ is the root.\n",
    "\n",
    "This is because the cost reduces geometrically as we go toward the leaves, and the total cost bounded by $\\alpha/(\\alpha-1)$ times $C(r)$.\n"
   ]
  },
  {
   "cell_type": "markdown",
   "metadata": {
    "slideshow": {
     "slide_type": "fragment"
    }
   },
   "source": [
    "$$W(n) = 2 W\\Big(\\frac{n}{2}\\Big) + n^2$$\n",
    "\n",
    "$C(\\hbox{root}) = n^2$\n",
    "\n",
    "$C(\\hbox{level}\\:1) = \\Big(\\frac{n}{2}\\Big)^2 + \\Big(\\frac{n}{2}\\Big)^2 = \\frac{n^2}{2}$\n",
    "\n",
    "<br>\n",
    "\n",
    "Cost has **decreased** by a factor of two when descending one level in the tree.\n",
    "\n",
    "<br>\n",
    "\n",
    "so, if $\\alpha \\leftarrow 2$:\n",
    "\n",
    "$C(v) \\ge \\alpha \\sum_{u \\in D(v)} C(u)$\n",
    "\n",
    "$n^2 \\ge 2 * \\frac{n^2}{2}$\n",
    "\n",
    "$n^2 \\ge n^2$\n",
    "\n",
    "<br>\n",
    "\n",
    "Because the cost is asymptotically dominated by the **root**, we need to only consider its cost: $O(n^2)$.\n"
   ]
  },
  {
   "cell_type": "markdown",
   "metadata": {
    "slideshow": {
     "slide_type": "slide"
    }
   },
   "source": [
    "### Leaf-dominated\n",
    "\n",
    "A recurrence is **leaf-dominated** if for all $v$, there is an $\\alpha > 1$ such that:\n",
    "\n",
    "$$C(v) \\leq \\frac{1}{\\alpha} \\sum_{u \\in D(v)} C(u)$$\n",
    "\n",
    "If we have $L$ leaves in the recursion tree, the cost of a leaf dominated recurrence is $O(L)$.\n",
    "\n",
    "This is because the cost increases geometrically as we go toward the leaves, and the total cost is bounded by $\\alpha/(\\alpha-1)$ times $c_b \\cdot L$.\n",
    "\n"
   ]
  },
  {
   "cell_type": "markdown",
   "metadata": {
    "slideshow": {
     "slide_type": "fragment"
    }
   },
   "source": [
    "$$W(n) = 2W\\Big(\\frac{n}{2}\\Big) + \\sqrt{n}$$\n",
    "\n",
    "\n",
    "$C(\\hbox{root}) = \\sqrt{n}$\n",
    "\n",
    "$C(\\hbox{level}\\:1) = \\sqrt{\\Big(\\frac{n}{2}\\Big)} + \\sqrt{\\Big(\\frac{n}{2}\\Big)} = 2 \\frac{\\sqrt{n}}{\\sqrt{2}} = \\sqrt{2}\\sqrt{n}$\n",
    "\n",
    "<br>\n",
    "\n",
    "Cost has **increased** by a factor of $\\sqrt{2}$ when descending one level in the tree.\n",
    "\n",
    "<br>\n",
    "\n",
    "so, if $\\alpha \\leftarrow \\frac{1}{\\sqrt{2}}$:\n",
    "\n",
    "$C(v) \\le \\frac{1}{\\alpha} \\sum_{u \\in D(v)} C(u)$\n",
    "\n",
    "$\\sqrt{n} \\le \\frac{1}{\\sqrt{2}} * \\sqrt{2}\\sqrt{n}$\n",
    "\n",
    "$\\sqrt{n} \\le \\sqrt{n}$\n",
    "\n",
    "<br>\n",
    "\n",
    "Because the cost is asymptotically dominated by the **leaves** (i.e., lowest level of the tree), we need to only consider their cost:\n",
    "\n",
    "<br>\n",
    "\n",
    "- Cost of each leaf is 1 (since $\\sqrt{1}==1$).\n",
    "- Depth of tree is $\\lg{n}$ (since we divide by 2 at each level)\n",
    "- Number of leaves of a binary tree with depth $\\lg{n}$ is $2^{\\lg{n}} = n$\n",
    "\n",
    "<br>\n",
    "So, final cost is $n*1 = O(n)$\n"
   ]
  },
  {
   "cell_type": "markdown",
   "metadata": {
    "slideshow": {
     "slide_type": "slide"
    }
   },
   "source": [
    "### Balanced\n",
    "\n",
    "A recurrence is **balanced** when every level of the recursion tree has the same asymptotic cost. In this case, the recurrence is\n",
    "*number of levels* times *maximum cost per level*.\n",
    "\n"
   ]
  },
  {
   "cell_type": "markdown",
   "metadata": {
    "slideshow": {
     "slide_type": "skip"
    }
   },
   "source": [
    "$O(D(r) \\log n) = O(L \\log n)$.  \n"
   ]
  },
  {
   "cell_type": "markdown",
   "metadata": {
    "slideshow": {
     "slide_type": "fragment"
    }
   },
   "source": [
    "$$W(n) = 2 W\\Big(\\frac{n}{2}\\Big) + n$$\n",
    "\n",
    "$C(\\hbox{root}) = n$\n",
    "\n",
    "$C(\\hbox{level}\\:1) = \\Big(\\frac{n}{2}\\Big) + \\Big(\\frac{n}{2}\\Big) = n$\n",
    "\n",
    "<br>\n",
    "\n",
    "Cost has **remained the same** when descending one level in the tree.\n",
    "\n",
    "So, total cost is *number of levels* times *maximum cost per level*.\n",
    "\n",
    "<br>\n",
    "\n",
    "- Number of levels = $\\lg n$\n",
    "- Maximum cost per level = $n\\:\\:$ (last level: $n$ leaves with cost 1 each; first level: one node with cost $n$)\n",
    "- $O(n \\lg n)$\n"
   ]
  },
  {
   "cell_type": "markdown",
   "metadata": {
    "slideshow": {
     "slide_type": "slide"
    }
   },
   "source": [
    "Let's look at some examples:\n",
    "\n",
    "$$ W(n) = 2 W(n/2) + \\sqrt{n} $$\n",
    "\n",
    "$$ W(n) = 3 W(n/2) + n $$\n",
    "\n",
    "$$ W(n) = 2 W(n/3) + n $$\n",
    "\n",
    "$$ W(n) = 3 W(n/3) + n $$\n",
    "\n",
    "Do you see a way to count the number of leaves in the recursion tree?\n"
   ]
  },
  {
   "cell_type": "markdown",
   "metadata": {
    "slideshow": {
     "slide_type": "fragment"
    }
   },
   "source": [
    ">Useful observation: If we have a recurrence of the form $W(n) = aW(n/b) + f(n)$, then the number of leaves is $O(a^{\\log_b n})$, or equivalently, $O(n^{log_b a})$."
   ]
  },
  {
   "cell_type": "markdown",
   "metadata": {
    "slideshow": {
     "slide_type": "fragment"
    }
   },
   "source": [
    "$$ W(n) = 2 W(n/2) + \\sqrt{n} $$\n",
    "\n",
    "This is leaf-dominated, so it is $O(n)$.\n",
    "\n",
    "$$ W(n) = 3 W(n/2) + n $$\n",
    "\n",
    "This is leaf-dominated, so it is $O(n^{\\log_2 3})$.\n",
    "\n",
    "$$ W(n) = 2 W(n/3) + n $$\n",
    "\n",
    "This is root-dominated, so it is $O(n)$.\n",
    "\n",
    "$$ W(n) = 3 W(n/3) + n $$\n",
    "\n",
    "This is balanced, so it is $O(n \\log n)$.\n"
   ]
  },
  {
   "cell_type": "markdown",
   "metadata": {
    "slideshow": {
     "slide_type": "slide"
    }
   },
   "source": [
    "More examples (some trickier than others):\n",
    "\n",
    "$$ W(n) = W(n - 1) + n $$\n",
    "\n",
    "$$ W(n) = \\sqrt{n} W(\\sqrt{n}) + n^2 $$\n",
    "\n",
    "$$ W(n) = W(\\sqrt{n}) + W(n/2) + n $$\n",
    "\n",
    "$$ W(n) = W(n/2) + W(n/3) + 1 $$\n",
    "\n"
   ]
  },
  {
   "cell_type": "markdown",
   "metadata": {
    "slideshow": {
     "slide_type": "fragment"
    }
   },
   "source": [
    "$$ W(n) = W(n - 1) + n $$\n",
    "\n",
    "This is actually a balanced recurrence since every level has the same cost and there are $n$ levels - the recurrence is $O(n^2)$.\n",
    "\n",
    "$$ W(n) = \\sqrt{n} W(\\sqrt{n}) + n^2 $$\n",
    "\n",
    "This is root-dominated so it is $O(n^2)$.\n",
    "\n",
    "$$ W(n) = W(\\sqrt{n}) + W(n/2) + n $$\n",
    "\n",
    "This is root-dominateed so it is $O(n)$.\n",
    "\n",
    "$$ W(n) = W(n/2) + W(n/3) + 1 $$\n",
    "\n",
    "This recurrence is a little tricky - while it is leaf-dominated we need to calculate the number of leaves. The book has a [derivation of this](https://www.diderot.one/courses/152/books/665/chapter/9412#atom-641246).\n"
   ]
  },
  {
   "cell_type": "markdown",
   "metadata": {
    "slideshow": {
     "slide_type": "skip"
    }
   },
   "source": [
    "Start of Lecture 3"
   ]
  },
  {
   "cell_type": "markdown",
   "metadata": {
    "slideshow": {
     "slide_type": "slide"
    }
   },
   "source": [
    "### Summary of last lecture\n",
    "\n",
    "**Brick method:**\n",
    "\n",
    "- **Root dominated**: cost *decreases* geometrically as we descend the tree\n",
    "  - $W(n) \\in O(\\hbox{root})$\n",
    "  - e.g., $W(n) = 2 W(\\frac{n}{2}) + n^2$\n",
    "\n",
    "\n",
    "- **Leaf dominated**: cost *increases* geometrically as we descend the tree\n",
    "  - $W(n) \\in O(\\hbox{leaves})$\n",
    "  - e.g., $W(n) = 2 W(\\frac{n}{2}) + \\sqrt{n}$\n",
    "  \n",
    "  \n",
    "- **Balanced**: neither of the above is true\n",
    "  - $W(n) \\in O(\\hbox{(num levels)*(max cost at any level)})$\n",
    "  - e.g., $W(n) = W(n-1) + n \\in O(n^2)$\n",
    "  - e.g., $W(n) = 2 W(\\frac{n}{2}) + n \\in O(n \\lg n)$"
   ]
  },
  {
   "cell_type": "markdown",
   "metadata": {
    "slideshow": {
     "slide_type": "slide"
    }
   },
   "source": [
    "### Integer multiplication\n",
    "\n",
    "Now that we've come up with a general technique for solving recurrences, let's look at a recursive algorithm. You learned this algorithm in elementary school for integer multiplication:\n",
    "\n",
    "- Input: $n$ bit integers $x= \\langle x_{n-1}, \\ldots, x_0\\rangle$ and $y = \\langle y_{n-1}, \\ldots, y_0\\rangle$\n",
    "\n",
    "- Output: $x \\cdot y$\n",
    "\n",
    "- Example: '1001'$\\times$'1101'\n"
   ]
  },
  {
   "cell_type": "code",
   "execution_count": 5,
   "metadata": {
    "slideshow": {
     "slide_type": "slide"
    }
   },
   "outputs": [
    {
     "data": {
      "text/plain": [
       "['1', '0', '0', '1']"
      ]
     },
     "execution_count": 5,
     "metadata": {},
     "output_type": "execute_result"
    }
   ],
   "source": [
    "def int2binary(n):\n",
    "    return list('{0:b}'.format(n))\n",
    " \n",
    "int2binary(9)"
   ]
  },
  {
   "cell_type": "code",
   "execution_count": 6,
   "metadata": {
    "slideshow": {
     "slide_type": "fragment"
    }
   },
   "outputs": [
    {
     "name": "stdout",
     "output_type": "stream",
     "text": [
      "['1', '0', '0', '1']\n",
      "['1', '1', '0', '1']\n"
     ]
    }
   ],
   "source": [
    "nine = int2binary(9)\n",
    "print(nine)\n",
    "thirteen = int2binary(13)\n",
    "print(thirteen)  "
   ]
  },
  {
   "cell_type": "markdown",
   "metadata": {
    "slideshow": {
     "slide_type": "fragment"
    }
   },
   "source": [
    "```\n",
    "       1001   \n",
    "     x 1101   \n",
    "     ======\n",
    "       1001   \n",
    "      0000    \n",
    "     1001     \n",
    "  + 1001      \n",
    "  =========\n",
    "    1110101   (117)\n",
    "```"
   ]
  },
  {
   "cell_type": "code",
   "execution_count": 7,
   "metadata": {
    "slideshow": {
     "slide_type": "fragment"
    }
   },
   "outputs": [
    {
     "data": {
      "text/plain": [
       "117"
      ]
     },
     "execution_count": 7,
     "metadata": {},
     "output_type": "execute_result"
    }
   ],
   "source": [
    "def binary2int(n): \n",
    "    return int(n, 2)\n",
    "binary2int('1110101')"
   ]
  },
  {
   "cell_type": "markdown",
   "metadata": {
    "slideshow": {
     "slide_type": "fragment"
    }
   },
   "source": [
    "What is the running time of the \"elementary school\" algorithm?"
   ]
  },
  {
   "cell_type": "markdown",
   "metadata": {
    "slideshow": {
     "slide_type": "fragment"
    }
   },
   "source": [
    ">For two $n$-digit inputs $O(n^2)$, since for each digit of $x$ we might add a stack of $n$ bits. The total number of bits in the solution is at most $2n$."
   ]
  },
  {
   "cell_type": "markdown",
   "metadata": {
    "slideshow": {
     "slide_type": "slide"
    }
   },
   "source": [
    "What does this have to do with recursion and recurrences?\n",
    "\n",
    "Instead of the elementary school algorithm, consider splitting each $n$-digit input in half. Can we multiply recursively?\n",
    "\n",
    "Let $x = \\langle x_L, x_R\\rangle$, $y = \\langle y_L, y_R\\rangle$. Then,\n",
    "\n",
    "$\\begin{align} \n",
    "x &=& 2^{n/2} x_L + x_R \\:\\:\\:\\:\\:\\: \\hbox{e.g.} \\: 1001:  2^2 (10) + (01)\\\\\n",
    "y &=& 2^{n/2} y_L + y_R \\:\\:\\:\\:\\:\\: \\hbox{e.g.} \\: 1101:  2^2 (11) + (01)\\\\\n",
    "\\end{align}\n",
    "$\n",
    "\n",
    "<br><br>\n",
    "\n",
    "**Wait...Is multiplying by $2^{n/2}$ efficient?**\n",
    "\n",
    "<br><br>\n",
    "\n",
    "Recall: $2^2 [10] \\rightarrow [1000] \\:\\:$ (shift two places to the left).\n",
    "\n",
    "<br>\n",
    "\n",
    "So then,\n",
    "\n",
    "$\\begin{align}\n",
    "x\\cdot y &=& (2^{n/2} x_L + x_R)(2^{n/2} y_L + y_R) \\\\\n",
    " &=& 2^n (x_L \\cdot y_L) + 2^{n/2} (x_L \\cdot y_R + x_R \\cdot y_L) + (x_R \\cdot y_R) \\\\\n",
    "\\end{align}\n",
    "$\n",
    "\n",
    "<br>\n",
    "\n",
    "We've converted one multiplication of sizes $(n,n)$ into four multiplications of size $(\\frac{n}{2}, \\frac{n}{2})$.\n",
    "\n",
    "What recursive algorithm, and recurrence is suggested by this observation?"
   ]
  },
  {
   "cell_type": "markdown",
   "metadata": {
    "slideshow": {
     "slide_type": "fragment"
    }
   },
   "source": [
    ">$W(n) = 4W(n/2) + cn$\n",
    "\n",
    "What is the solution to this recurrence using the brick method? Is it root-dominated, or leaf-dominated?"
   ]
  },
  {
   "cell_type": "markdown",
   "metadata": {
    "slideshow": {
     "slide_type": "slide"
    }
   },
   "source": [
    "### work of recursive multiplication\n",
    "\n",
    "$C(\\hbox{root}) = n$\n",
    "\n",
    "$C(\\hbox{level}\\:1) = 4(\\frac{n}{2})= 2 \\cdot n$\n",
    "\n",
    "geometrically **increasing** as we descend the recurrence tree.\n",
    "\n",
    "A recurrence is **leaf-dominated** if for all $v$, there is an $\\alpha > 1$ such that:\n",
    "\n",
    "$$C(v) \\leq \\frac{1}{\\alpha} \\sum_{u \\in D(v)} C(u)$$\n",
    "\n",
    "let $\\alpha \\leftarrow 2$\n",
    "\n",
    "$n \\le \\frac{1}{2}\\cdot 2 \\cdot n$\n",
    "\n",
    "<br>\n",
    "\n",
    "The cost of a leaf dominated recurrence is $O(L)$, where $L$ is the number of leaves.\n",
    "\n",
    "### how many leaf nodes are there?\n",
    "\n",
    "<br><br><br>\n",
    "\n",
    "\n",
    "nodes per level: $1, 4, 64, \\ldots 4^i \\ldots 4^{\\lg n}=(2\\cdot2)^{\\lg n}=n\\cdot n = n^2$\n",
    "\n",
    "> This is a leaf-dominated reucrrence that is $O(n^2)$ -- the same as the elementary school algorithm!\n",
    "\n",
    "Now, what is the span of this algorithm if implemented in parallel?\n"
   ]
  },
  {
   "cell_type": "markdown",
   "metadata": {
    "slideshow": {
     "slide_type": "slide"
    }
   },
   "source": [
    "### span of recursive multiplication\n",
    "\n",
    "Assuming each multiplication can be done in parallel, and that addition has span $O(n)$, we get that \n",
    "\n",
    "$$S(n) = S(n/2) + cn$$ \n",
    "\n",
    "which yields a span of ...\n",
    "\n",
    "\n",
    "<br><br><br><br>\n",
    "\n",
    "**brick method**\n",
    "\n",
    "$S(\\hbox{root})=n$\n",
    "\n",
    "\n",
    "$S(\\hbox{level 1}) = \\frac{n}{2}$\n",
    "\n",
    "$\\rightarrow$ **root dominated** \n",
    "\n",
    "$S(n) \\in O(n)$. This is much better than the span of the grade school algorithm, which is $O(n^2)$!\n",
    "\n",
    "<br>\n",
    "\n",
    "**What parallelism is achieved?**\n",
    "\n",
    "<br>\n",
    "\n",
    "Parallelism $= \\frac{W}{S} = \\frac{n^2}{n} = n$\n",
    "\n",
    "Can we do any better?"
   ]
  },
  {
   "cell_type": "markdown",
   "metadata": {
    "slideshow": {
     "slide_type": "slide"
    }
   },
   "source": [
    "### recursive multiplication with less work\n",
    "\n",
    "Recall that \n",
    "\n",
    "$\\begin{align}\n",
    "x\\cdot y &=& (2^{n/2} x_L + x_R)(2^{n/2} y_L + y_R) \\\\\n",
    " &=& 2^n (x_L \\cdot y_L) + 2^{n/2} (x_L \\cdot y_R + x_R \\cdot y_L) + (x_R \\cdot y_R) \\\\\n",
    "\\end{align}\n",
    "$\n",
    "\n",
    "<br>\n",
    "\n",
    "Can we reduce this from 4 multiplications to 3??\n",
    "\n",
    "<br><br><br><br>\n",
    "\n",
    "Observation:\n",
    "    \n",
    "$\\begin{align} \n",
    "(x_L + x_R)\\cdot (y_L + y_R) &=& (x_L\\cdot y_L) + (x_L\\cdot y_R) + (x_R\\cdot y_L) + (x_R\\cdot y_R)\\\\\n",
    "\\end{align}\n",
    "$\n",
    "\n",
    "$\\begin{align}\n",
    "(x_L\\cdot y_R) + (x_R\\cdot y_L) = (x_L + x_R)\\cdot (y_L + y_R) - (x_L\\cdot y_L) - (x_R\\cdot y_R)\\\\\n",
    "\\end{align}$\n",
    "\n",
    "\n",
    "\n",
    "\n",
    "How does our observation help us? "
   ]
  },
  {
   "cell_type": "markdown",
   "metadata": {
    "slideshow": {
     "slide_type": "fragment"
    }
   },
   "source": [
    "If we calculate $(x_L\\cdot y_L)$, $(x_R\\cdot y_R)$, and $(x_L + x_R)\\cdot (y_L + y_R)$, that is *three* recursive multiplications. \n",
    "\n",
    "\n",
    "\n",
    "So with 3 recursive multiplications and two more \"additions\", we then get that $W(n) = 3W(n/2) + dn$. What is the running time?"
   ]
  },
  {
   "cell_type": "markdown",
   "metadata": {
    "slideshow": {
     "slide_type": "slide"
    }
   },
   "source": [
    "### work of $W(n) = 3W(n/2) + dn$\n",
    "\n",
    "**brick method**\n",
    "\n",
    "$C(\\hbox{root}) = n$\n",
    "\n",
    "$C(\\hbox{level 1}) = \\frac{3n}{2}$\n",
    "\n",
    "\n",
    "<br><br><br><br>\n",
    "\n",
    "$\\frac{3}{2} > 1 \\Rightarrow$ **leaf dominated**.\n",
    "\n",
    "But, there are fewer leaves this time. Why?\n",
    "\n",
    "<br><br><br><br>\n",
    "\n",
    "nodes per level: $1, 3, 9, \\ldots 3^i \\ldots 3^{\\lg n}=n^{\\lg 3} \\:\\:\\:\\: (\\hbox{by}\\: a^{\\log_b c} = c^{\\log_b a})$\n",
    "\n",
    "\n",
    "<br><br>\n",
    "\n",
    "\n",
    "Using the brick method, this is still a leaf-dominated recurrence, and thus the running time is $O(n^{\\log_2 3}) \\:\\: $ (approximately $O(n^{1.58}$) versus of $O(n^2)$ earlier).\n",
    "\n",
    "<br>\n",
    "\n",
    "This is known as the [**Karatsaba-Ofman**](https://en.wikipedia.org/wiki/Karatsuba_algorithm) algorithm (1962), and is the earliest known divide-and-conquer algorithm for integer multiplication. It is actually implemented in Intel hardware!\n",
    "\n",
    "\n",
    "<br><br>\n",
    "\n",
    "So, our we've decreased work from $O(n^2)$ to $O(n^{\\log_2 3})$. \n",
    "\n",
    "Span stays the same: $O(n)\\:\\:$  Why?\n",
    "\n",
    "<br><br>\n",
    "\n",
    "Parallelism $= \\frac{W}{S} = \\frac{n^{\\log_2 3}}{n} \\approx n^{.58} < n$\n",
    "\n",
    "<br>\n",
    "\n",
    "So, our parallelism went down. Is that good or bad?\n",
    "\n",
    "<br><br>\n",
    "\n",
    "\n",
    "Schönhage and Strassen (1971) gave an algorithm that runs in $O(n\\log n \\log\\log n)$ time.\n",
    "\n",
    "In 2007, [Fürer gave an algorithm](https://ivv5hpp.uni-muenster.de/u/cl/WS2007-8/mult.pdf) that runs in $n \\log n 2^{O(\\log^* n)}$.\n",
    "\n",
    "What is the fastest possible sequential algorithm for integer multiplication? In parallel?\n"
   ]
  }
 ],
 "metadata": {
  "celltoolbar": "Slideshow",
  "kernelspec": {
   "display_name": "Python 3 (ipykernel)",
   "language": "python",
   "name": "python3"
  },
  "language_info": {
   "codemirror_mode": {
    "name": "ipython",
    "version": 3
   },
   "file_extension": ".py",
   "mimetype": "text/x-python",
   "name": "python",
   "nbconvert_exporter": "python",
   "pygments_lexer": "ipython3",
   "version": "3.9.13"
  },
  "rise": {
   "autolaunch": true,
   "controls": false,
   "enable_chalkboard": true,
   "scroll": true,
   "theme": "simple",
   "transition": "fade"
  },
  "toc": {
   "base_numbering": 1,
   "nav_menu": {},
   "number_sections": true,
   "sideBar": true,
   "skip_h1_title": true,
   "title_cell": "Table of Contents",
   "title_sidebar": "Contents",
   "toc_cell": true,
   "toc_position": {},
   "toc_section_display": true,
   "toc_window_display": false
  }
 },
 "nbformat": 4,
 "nbformat_minor": 4
}
