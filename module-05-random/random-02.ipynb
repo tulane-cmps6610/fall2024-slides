{
 "cells": [
  {
   "cell_type": "code",
   "execution_count": 2,
   "metadata": {
    "code_folding": [],
    "slideshow": {
     "slide_type": "skip"
    }
   },
   "outputs": [
    {
     "data": {
      "text/html": [
       "<style>.prompt{width: 0px; min-width: 0px; visibility: collapse}</style>"
      ],
      "text/plain": [
       "<IPython.core.display.HTML object>"
      ]
     },
     "metadata": {},
     "output_type": "display_data"
    },
    {
     "data": {
      "text/html": [
       "<style>\n",
       "div#notebook {\n",
       " font-family: \"Exo_2\", sans-serif;\n",
       "}\n",
       "\n",
       ".rendered_html h1,\n",
       ".text_cell_render h1 {\n",
       " color: #126dce;\n",
       " font-size: 220%;\n",
       " text-align: center;\n",
       " font-weight: lighter;\n",
       "}\n",
       ".rendered_html h2,\n",
       ".text_cell_render h2 {\n",
       " text-align: center;\n",
       " font-size: 170%;\n",
       " color: #126dce;\n",
       " font-style: normal;\n",
       " font-weight: lighter;\n",
       "}\n",
       ".rendered_html h3,\n",
       ".text_cell_render h3 {\n",
       " font-size: 150%;\n",
       " color: #126dce;\n",
       " font-weight: lighter;\n",
       " text-decoration: italic;\n",
       " font-style: normal;\n",
       "}\n",
       ".rendered_html h4,\n",
       ".text_cell_render h4 {\n",
       " font-size: 120%;\n",
       " color: #126dce;\n",
       " font-weight: underline;\n",
       " font-style: normal;\n",
       "}\n",
       ".rendered_html h5,\n",
       ".text_cell_render h5 {\n",
       " font-size: 100%;\n",
       " color: #2f2f2f;\n",
       " font-weight: lighter;\n",
       " text-decoration: underline;\n",
       "}\n",
       "</style>\n"
      ],
      "text/plain": [
       "<IPython.core.display.HTML object>"
      ]
     },
     "metadata": {},
     "output_type": "display_data"
    }
   ],
   "source": [
    "# setup\n",
    "from IPython.core.display import display,HTML\n",
    "display(HTML('<style>.prompt{width: 0px; min-width: 0px; visibility: collapse}</style>'))\n",
    "display(HTML(open('rise.css').read()))\n",
    "\n",
    "# imports\n",
    "import numpy as np\n",
    "import matplotlib.pyplot as plt\n",
    "import seaborn as sns\n",
    "%matplotlib inline\n",
    "sns.set(style=\"whitegrid\", font_scale=1.5, rc={'figure.figsize':(12, 6)})\n"
   ]
  },
  {
   "cell_type": "markdown",
   "metadata": {
    "slideshow": {
     "slide_type": "slide"
    }
   },
   "source": [
    "# CMPS 6610\n",
    "# Algorithms\n",
    "\n",
    "## Selection\n"
   ]
  },
  {
   "cell_type": "markdown",
   "metadata": {
    "slideshow": {
     "slide_type": "slide"
    }
   },
   "source": [
    "Today's agenda:\n",
    "\n",
    "- Randomized Linear Work Selection"
   ]
  },
  {
   "cell_type": "markdown",
   "metadata": {
    "slideshow": {
     "slide_type": "slide"
    }
   },
   "source": [
    "Given an unsorted list $a$ and an integer $k$ ($0\\leq k< |a|$), the **order statistics** (or **selection**) problem asks us to return the $k$th smallest element from $a$. We also refer to the $k$th smallest element the element of *rank* $k$.  \n",
    "\n",
    "Example: Let $a=\\langle 2, 5, 4, 1, 3, -1, 99\\rangle.$ For $k=0$, the \"$0$th smallest\" element is the minimum element in $a$, or $-1$. For $k=n-1$, it is the maximum, or $99$. For $k=3$, we return $3$.\n",
    "\n",
    "Before we come up with a randomized algorithm, we can make a couple of simple observations.\n",
    "\n",
    "First, any algorithm for this problem requires $\\Omega(n)$ work. Why?\n",
    "\n",
    "Second, we can reduce this problem to sorting: we sort $a$ and return the $k$th element of this sorted list. This requires $O(n\\log n)$ time. \n",
    "\n",
    "Can we do any better? Sorting seems like overkill since we don't really need to rearrange all the elements, or even return a list."
   ]
  },
  {
   "cell_type": "markdown",
   "metadata": {
    "slideshow": {
     "slide_type": "slide"
    }
   },
   "source": [
    "A useful observation is that the $k$th smallest element in $a$ *partitions* $a$ into a set of $k-1$ smaller elements, and a set of $n-k-1$ larger elements. \n",
    "\n",
    "Example: Suppose $a=\\langle 2, 5, 4, 1, 3, -1, 99\\rangle$ and $k=3$. So $3$ is larger than $\\langle 2, 1, -1 \\rangle$ and smaller than $\\langle5, 4, 99\\rangle$.\n",
    "\n",
    "Notice that *for any* element $x$ in the list, we can look at each element in the list to compute the rank of $x$. This can be done in $O(n)$ work and $O(\\log n)$ span. \n",
    "\n",
    "Example: Suppose $a=\\langle 2, 5, 4, 1, 3, -1, 99\\rangle$ and $k=3$. So $a[0] = 2$ is larger than 2 elements ($\\langle 1, -1 \\rangle$) and smaller than 5 elements ($\\langle 5, 4, 3, 99\\rangle$).\n",
    "\n",
    "We can see from this example that once we've identified 3 smaller elements ($\\langle 1, -1 \\rangle$ and $2$), the element of rank $k=3$ in $a$ must be in $\\langle5, 4, 3, 99\\rangle$. Moreover it's rank is $k-3 = 0$ in this list. \n",
    "\n",
    "This is a little like binary search, but with the partition step helping establish some order.\n"
   ]
  },
  {
   "cell_type": "markdown",
   "metadata": {
    "slideshow": {
     "slide_type": "fragment"
    }
   },
   "source": [
    "This observation motivates the following recursive algorithm.\n",
    "\n",
    "<p>\\begin{array}{ll}  \n",
    "\\mathit{simple\\_select}~a~k =   \n",
    "\\\\  \n",
    "\\texttt{let}  \n",
    "\\\\  \n",
    "~~~~p = a[0]   \n",
    "\\\\  \n",
    "~~~~\\ell = \\left\\langle\\, x \\in a \\;|\\; x < p \\,\\right\\rangle  \n",
    "\\\\  \n",
    "~~~~r = \\left\\langle\\, x \\in a \\;|\\; x > p \\,\\right\\rangle  \n",
    "\\\\  \n",
    "\\texttt{in}  \n",
    "\\\\  \n",
    "~~~~\\texttt{if}~(k < |\\ell|)~\\texttt{then}~\\mathit{simple\\_select}~\\ell~k  \n",
    "\\\\  \n",
    "~~~~\\texttt{else if}~(k < |a| - |r|)~\\texttt{then}~p  \n",
    "\\\\  \n",
    "~~~~\\texttt{else}~\\mathit{simple\\_select}~r~(k - (|a| - |r|))  \n",
    "\\\\  \n",
    "\\texttt{end}  \n",
    "\\end{array}</p>\n",
    "\n",
    "We just have one recursive call so no parallelism there. However, we can use filter to partition in parallel. This has $O(|a|)$ work $O(\\log |a|)$ span.\n",
    "\n",
    "What is the total work over all recursions? We know that the work in each recursive call is the $\\max\\{W(\\mid l\\mid), W(\\mid r\\mid)\\} + O(n)$. \n",
    "\n",
    "Consider the case where $a$ is a sorted list. Then in every call, $\\ell = \\emptyset$, and $\\mid r\\mid = n-1$. So we would we have $W(n) = W(n-1) + n = O(n^2)$. This is worse than just sorting the list!\n",
    "\n",
    "Moreover the span is $S(n) = S(n-1) + \\lg n \\in O(n\\lg n)$ - far worse than sorting!\n"
   ]
  },
  {
   "cell_type": "code",
   "execution_count": 3,
   "metadata": {
    "slideshow": {
     "slide_type": "fragment"
    }
   },
   "outputs": [
    {
     "name": "stdout",
     "output_type": "stream",
     "text": [
      "\n",
      "a= [2, 5, 4, 1, 3, -1, 99] k= 3 p= 2\n",
      "l= [1, -1] r= [5, 4, 3, 99]\n",
      "...recursing with r=[5, 4, 3, 99] and k=0\n",
      "\n",
      "a= [5, 4, 3, 99] k= 0 p= 5\n",
      "l= [4, 3] r= [99]\n",
      "...recursing with l=[4, 3] and k=0\n",
      "\n",
      "a= [4, 3] k= 0 p= 4\n",
      "l= [3] r= []\n",
      "...recursing with l=[3] and k=0\n",
      "\n",
      "a= [3] k= 0 p= 3\n",
      "l= [] r= []\n",
      "...returning p=3\n"
     ]
    },
    {
     "data": {
      "text/plain": [
       "3"
      ]
     },
     "execution_count": 3,
     "metadata": {},
     "output_type": "execute_result"
    }
   ],
   "source": [
    "def simple_select(a, k):\n",
    "    p = a[0]\n",
    "    print('\\na=', a, 'k=', k, 'p=', p)\n",
    "    l = list(filter(lambda x: x < p, a))  # O(|a|) work, O(log|a|) span\n",
    "    r = list(filter(lambda x: x > p, a))  # O(|a|) work, O(log|a|) span\n",
    "    print('l=', l, 'r=', r)\n",
    "    if k < len(l):\n",
    "        print('...recursing with l=%s and k=%d' % (str(l), k))\n",
    "        return simple_select(l, k)\n",
    "    elif k < len(a) - len(r):\n",
    "        print('...returning p=%d' % p)\n",
    "        return p\n",
    "    else:\n",
    "        print('...recursing with r=%s and k=%d' % (str(r), k - (len(a) -  len(r))))\n",
    "        return simple_select(r, k - (len(a) -  len(r)))\n",
    "    \n",
    "# -1, 1, 2, 3, 4, 5, 99\n",
    "# k=3 -> 3\n",
    "# k=0 -> -1\n",
    "# k=6 -> 99\n",
    "simple_select([2,5,4,1,3,-1,99], 3)"
   ]
  },
  {
   "cell_type": "code",
   "execution_count": 4,
   "metadata": {
    "slideshow": {
     "slide_type": "fragment"
    }
   },
   "outputs": [
    {
     "name": "stdout",
     "output_type": "stream",
     "text": [
      "\n",
      "a= [-1, 1, 2, 3, 4, 5, 99] k= 6 p= -1\n",
      "l= [] r= [1, 2, 3, 4, 5, 99]\n",
      "...recursing with r=[1, 2, 3, 4, 5, 99] and k=5\n",
      "\n",
      "a= [1, 2, 3, 4, 5, 99] k= 5 p= 1\n",
      "l= [] r= [2, 3, 4, 5, 99]\n",
      "...recursing with r=[2, 3, 4, 5, 99] and k=4\n",
      "\n",
      "a= [2, 3, 4, 5, 99] k= 4 p= 2\n",
      "l= [] r= [3, 4, 5, 99]\n",
      "...recursing with r=[3, 4, 5, 99] and k=3\n",
      "\n",
      "a= [3, 4, 5, 99] k= 3 p= 3\n",
      "l= [] r= [4, 5, 99]\n",
      "...recursing with r=[4, 5, 99] and k=2\n",
      "\n",
      "a= [4, 5, 99] k= 2 p= 4\n",
      "l= [] r= [5, 99]\n",
      "...recursing with r=[5, 99] and k=1\n",
      "\n",
      "a= [5, 99] k= 1 p= 5\n",
      "l= [] r= [99]\n",
      "...recursing with r=[99] and k=0\n",
      "\n",
      "a= [99] k= 0 p= 99\n",
      "l= [] r= []\n",
      "...returning p=99\n"
     ]
    },
    {
     "data": {
      "text/plain": [
       "99"
      ]
     },
     "execution_count": 4,
     "metadata": {},
     "output_type": "execute_result"
    }
   ],
   "source": [
    "# worst case: find the max of a sorted list\n",
    "simple_select([-1,1,2,3,4,5,99], 6)"
   ]
  },
  {
   "cell_type": "markdown",
   "metadata": {
    "slideshow": {
     "slide_type": "slide"
    }
   },
   "source": [
    "The problem is that we just don't know anything about the element we're using for the partition. How do we avoid this worst case?\n",
    "\n",
    "Pick a random element, or **pivot**, for partitioning!\n",
    "\n",
    "<p>\\begin{array}{ll}  \n",
    "\\mathit{select}~a~k =   \n",
    "\\\\  \n",
    "\\texttt{let}  \n",
    "\\\\  \n",
    "~~~~p = \\mbox{choose pivot uniformly at random from}~a   \n",
    "\\\\  \n",
    "~~~~\\ell = \\left\\langle\\, x \\in a \\;|\\; x < p \\,\\right\\rangle  \n",
    "\\\\  \n",
    "~~~~r = \\left\\langle\\, x \\in a \\;|\\; x > p \\,\\right\\rangle  \n",
    "\\\\  \n",
    "\\texttt{in}  \n",
    "\\\\  \n",
    "~~~~\\texttt{if}~(k < |\\ell|)~\\texttt{then}~\\mathit{select}~\\ell~k  \n",
    "\\\\  \n",
    "~~~~\\texttt{else if}~(k < |a| - |r|)~\\texttt{then}~p  \n",
    "\\\\  \n",
    "~~~~\\texttt{else}~\\mathit{select}~r~(k - (|a| - |r|))  \n",
    "\\\\  \n",
    "\\texttt{end}  \n",
    "\\end{array}</p>\n",
    "\n",
    "If we get a sorted list as input, what is the probability of the worst-case?\n",
    "\n",
    "The size of the $l$ and $r$ will depend on the random choice. Thus the recurrences describing the work and span depend on each random choice and we need to find their expected asymptotic work/span."
   ]
  },
  {
   "cell_type": "code",
   "execution_count": 5,
   "metadata": {
    "slideshow": {
     "slide_type": "fragment"
    }
   },
   "outputs": [
    {
     "name": "stdout",
     "output_type": "stream",
     "text": [
      "\n",
      "a= [2, 5, 4, 1, 3, -1, 99] k= 3 p= -1\n",
      "l= [] r= [2, 5, 4, 1, 3, 99]\n",
      "...recursing with r=[2, 5, 4, 1, 3, 99] and k=2\n",
      "\n",
      "a= [2, 5, 4, 1, 3, 99] k= 2 p= 5\n",
      "l= [2, 4, 1, 3] r= [99]\n",
      "...recursing with l=[2, 4, 1, 3] and k=2\n",
      "\n",
      "a= [2, 4, 1, 3] k= 2 p= 3\n",
      "l= [2, 1] r= [4]\n",
      "...returning p=3\n"
     ]
    },
    {
     "data": {
      "text/plain": [
       "3"
      ]
     },
     "execution_count": 5,
     "metadata": {},
     "output_type": "execute_result"
    }
   ],
   "source": [
    "import random\n",
    "# random.seed(42)  # for repeatability\n",
    "\n",
    "def select(a, k):\n",
    "    p = random.choice(a)\n",
    "    print('\\na=', a, 'k=', k, 'p=', p)\n",
    "    l = list(filter(lambda x: x < p, a))  # O(|a|) work, O(log|a|) span\n",
    "    r = list(filter(lambda x: x > p, a))  # O(|a|) work, O(log|a|) span\n",
    "    print('l=', l, 'r=', r)\n",
    "    if k < len(l):\n",
    "        print('...recursing with l=%s and k=%d' % (str(l), k))\n",
    "        return select(l, k)\n",
    "    elif k < len(a) - len(r):\n",
    "        print('...returning p=%d' % p)\n",
    "        return p\n",
    "    else:\n",
    "        print('...recursing with r=%s and k=%d' % (str(r), k - (len(a) -  len(r))))\n",
    "        return select(r, k - (len(a) -  len(r)))\n",
    "    \n",
    "select([2,5,4,1,3,-1,99], 3)"
   ]
  },
  {
   "cell_type": "markdown",
   "metadata": {
    "slideshow": {
     "slide_type": "slide"
    }
   },
   "source": [
    "Let's get some intution for what's happening. We saw that the work of our algorithm depends on $\\max\\{W(\\mid l\\mid), W(\\mid r\\mid)\\}$ in each recursive call. While there is only a $1/n$ probability of choosing a balanced split, any constant fraction reduction in the size of the larger list yields good performance. \n",
    "\n",
    "So, suppose we knew that $\\max\\{W(\\mid l\\mid), W(\\mid r\\mid)\\} \\leq W(3n/4)$. This would be a good enough split since the overall work would be $W(n) = W(3n/4) + n = O(n)$.\n",
    "\n",
    "What we want to know is:  **What's the probability that the input to the recursive call has size $\\le \\frac{3}{4} n$ ?**\n",
    "\n",
    "<br><br>\n",
    "\n",
    "We can examine where $p$ might land in the sorted version of $a$, to understand the probability of a good split.\n",
    "\n",
    "<img width=\"60%\" src=\"selection-intuition.jpg\"/>\n",
    "\n",
    "If the sampled pivot lies in the green region, then the size of the array passed to the recursive call is at most $3n/4$.\n",
    "\n",
    "The probability of sampling a point in the green region is $1/2$.\n",
    "\n",
    "We can see that $\\mathbf{P}[\\max\\{W(\\mid l\\mid), W(\\mid r\\mid)\\} \\leq W(3n/4)] = 1/2$.\n",
    "\n",
    "\n",
    "\n",
    "If we think of each choice of pivot as a coin flip (\"good\" vs. \"bad\") then the expected number of pivot choices to reduce the input to $3n/4$ is 2. \n",
    "\n",
    "In other words, every two recursions yields the desired reduction in list size, and so in expectation we will do linear work.\n",
    "\n",
    "<br><br>\n",
    "**What if we're unlucky?**\n",
    "\n",
    "We could keep sampling pivots outside of the green area. What is the probability if we do so $i$ times in a row?\n",
    "\n",
    "<br><br>\n",
    "$\\frac{1}{2} * \\frac{1}{2} * \\frac{1}{2} * ... = \\frac{1}{2^i}$\n",
    "\n",
    "E.g., for $i=10$, probability of getting no good pivots is $\\approx 0.1\\%$. \n",
    "\n",
    "Thus, probability of getting at least one good pivot for 10 splits is $\\approx 99.9\\%$"
   ]
  },
  {
   "cell_type": "markdown",
   "metadata": {
    "slideshow": {
     "slide_type": "slide"
    }
   },
   "source": [
    "Let's analyze the performance more closely. Let $X(n)$ be the fractional size of the larger side of the split, for an input of size $n$. So \n",
    "\n",
    "$$X(n) = \\frac{\\max{\\{|l|, |r|\\}}}{n}$$\n",
    "\n",
    "e.g., $n=6$\n",
    "\n",
    "|i  | len(l) | len(r)  | X(i) |\n",
    "|---|--------|---------|------|\n",
    "|0  | 0      | 5       | 5/6  |\n",
    "|1  | 1      | 4       | 4/6  |\n",
    "|2  | 2      | 3       | 3/6  |\n",
    "|3  | 3      | 2       | 3/6  |\n",
    "|4  | 4      | 1       | 4/6  |\n",
    "|5  | 5      | 0       | 5/6  |\n",
    "\n",
    "Then the work and span recurrences are:\n",
    "\n",
    "$$W(n) \\leq W(X(n) \\cdot n) + O(n)$$\n",
    "\n",
    "$$S(n) \\leq S(X(n) \\cdot n) + O(\\lg n)$$ \n",
    "\n",
    "<br>\n",
    "\n",
    "First, we'll bound $\\mathbf{E}[X(n)].$ As we discussed above, if $|l| = i$, then $|r| = n - i -1$. Using the fact that the probability of the pivot being any particular $i$ is $1/n$, we have:\n",
    "\n",
    "$$\\begin{eqnarray*}\n",
    " \\mathbf{E}\\left[{X(n)}\\right] &=&  \\sum_{i=0}^{n-1}P[X(i)] \\cdot X(i)\\\\\n",
    " & = & \\frac{1}{n} \\sum_{i=0}^{n-1} \\frac{\\max\\{i, n-i-1\\}}{n} \\\\\n",
    " &\\leq & \\frac{1}{n} \\sum_{j=n/2}^{n-1} \\frac{2}{n} \\cdot j  \\\\\n",
    " & \\leq & \\frac{2}{n^2}\\sum_{j=n/2}^{n-1} j\\\\\n",
    " &\\leq & \\frac{3}{4}  \n",
    "\\end{eqnarray*}$$\n",
    "\n",
    "\n",
    "Last line uses $\\sum_{i=x}^y i = \\frac12(x+y)(y - x + 1)$:\n",
    "\n",
    "\n",
    "$= \\frac12 (n/2 + (n-1))((n-1)-(n/2) + 1)$\n",
    "\n",
    "$= \\frac12 (3n/2 - 1)(n/2)$\n",
    "\n",
    "$= \\frac12 (3n^2/4 - n/2)$\n",
    "\n",
    "$=(3n^2/8 - n/4)$\n",
    "\n",
    "$=(3n^2 - 2n)/8$\n",
    "\n",
    "multiply by $2/n^2$:\n",
    "\n",
    "$= \\frac{3n^2-2n}{4n^2} = \\frac{3n^2}{4n^2} - \\frac{1}{2n} \\le \\frac{3}{4}$\n",
    "\n",
    "<br>\n",
    "\n",
    "It might seem tempting to say that we are done. However, we could get \"unlucky\" in a series of recursions even though $\\mathbf{E}[X(n)]\\leq 3/4.$ We will show the following.\n",
    "\n",
    "**Theorem.** At the $d^{th}$ level of recursion, the size of the input is $(3/4)^d n$ in expectation.\n",
    "\n",
    "**Proof**: We can prove this by induction. \n",
    "\n",
    "The base case $d=0$ holds trivially. \n",
    "\n",
    "For the inductive step, we make the inductive hypothesis that our theorem holds for $d  \\ge 0$ and will show that it holds after the $d+1^{st}$ recursive call. \n",
    "\n",
    "For the $d^{th}$ recursive call, let $Y_d$ be a random variable for the instance size and let $Z_d$ be the rank of the pivot. For any value of $y$ and $z$, let $f(y,z)$ be the fraction of the input reduced by the choice of the pivot at position $z$ for an input of size $y$. The expected input size in the $(d+1)^{st}$ call is:\n",
    "\n",
    "$\\begin{eqnarray*}  \n",
    "\\mathbf{E}[Y_{d+1}] &=& \\sum_{y,z}{y\\cdot f(y,z) \\mathbf{P}_{Y_d,Z_d}(y,z)}   \\\\  \n",
    "& = & \\sum_{y}{\\sum_{z}{y f(y,z) \\mathbf{P}_{Y_d}(y) \\mathbf{P}_{Z_d \\mid Y_d}(z \\mid y)}}   \n",
    " ~~~~~~~ \\hbox{by definition} ~~ p(a,b) = p(b)p(a|b)\\\\  \n",
    "&= &\\sum_{y}{y \\mathbf{P}_{Y_d}(y) \\sum_{z}{f(y,z) \\mathbf{P}_{Z_d \\mid Y_d}(z \\mid y)}}  ~~~~~~ \\hbox{grouping terms} \\\\  \n",
    "&= & \\sum_{y}{y \\mathbf{P}_{Y_d}(y) \\mathbf{E}\\left[{X(y)}\\right]} ~~~~~~~~~~~~~~~~~~~~~~~~~~~~~ \\hbox{definition of}~ X(i) ~\\hbox{and expectation}\\\\  \n",
    "& \\le & \\frac{3}{4} \\sum_{y}{y \\mathbf{P}_{Y_d}(y)} ~~~~~~~~~~~~~~~~~~~~~~~~~~~~~~~~~~~~~~~\\hbox{by our bound above} \\\\ \n",
    "& \\le & \\frac{3}{4} \\mathbf{E}\\left[{Y_d}\\right].    ~~~~~~~~~~~~~~~~~~~~~~~~~~~~~~~~~~~~~~~~~~~~\\hbox{definition of expectation}\n",
    "\\end{eqnarray*}$\n",
    "\n",
    "Thus $\\mathbf{E}[Y_{d+1}] \\le \\frac{3}{4} \\mathbf{E}\\left[{Y_d}\\right]$\n",
    "\n",
    "This proves the theorem since we can repeatedly apply the bound. \n",
    "\n",
    "<br>\n",
    "\n",
    "Finally, we need to compute the **expected** work. \n",
    "\n",
    "(Think of using the tree method, but using the **expected** size of $n$ at each level.)\n",
    "\n",
    "$\n",
    "\\begin{eqnarray*}\n",
    "\\mathbf{E}[W(n)] & \\le & \\sum_{i=0}^n \\mathbf{E}[Y_i]~~~~~~~~ \\hbox{since there is linear work at each iteration}\\\\\n",
    "& \\le & \\sum_{i=0}^n \\Big(\\frac{3}{4}\\Big)^i n ~~~~~~ \\hbox{by theorem above}\\\\\n",
    "& \\le & n\\sum_{i=0}^n \\Big(\\frac{3}{4}\\Big)^i \\\\\n",
    "& \\le & 4n ~~~~~~~~~~~~~~~~~~~~ \\hbox{by}~ \\sum_{i=0}^{\\infty}\\alpha^i\\:<\\:\\frac{1}{1\\:-\\:\\alpha}~\\hbox{for}~ \\alpha < 1\\\\\n",
    "& \\in & O(n)\n",
    "\\end{eqnarray*}\n",
    "$\n",
    "\n",
    "For the span we can also use the theorem to show that at each level the span is $O(\\log n)$. [By showing that the number of levels is $O(\\log n)$ with high probability](https://www.diderot.one/courses/152/books/666/chapter/9461#segment-701019), we can establish that the span is $O(\\log^2 n)$ with high probability. "
   ]
  },
  {
   "cell_type": "markdown",
   "metadata": {
    "slideshow": {
     "slide_type": "slide"
    }
   },
   "source": [
    "## Derandomization\n",
    "\n",
    "So, is randomization necessary to obtain a $\\Theta(n)$ work algorithm for selection?\n",
    "\n",
    "Can we somehow eliminate the random partitioning step, and guarantee that we can eliminate enough elements to ensure good performance?\n",
    "\n",
    "We know that we need to achieve a work recurrence with:\n",
    "\n",
    "$$ W(n) = W(n/a) + cn $$\n",
    "\n",
    "where $a > 1$. That is, even if we make a recursive call with $.999999999n$ elements, we will still achieve linear work.\n",
    "\n",
    "But how can we do this?"
   ]
  },
  {
   "cell_type": "markdown",
   "metadata": {
    "slideshow": {
     "slide_type": "slide"
    }
   },
   "source": [
    "## Median of medians\n",
    "\n",
    "As we saw with the randomized algorithm, the key is to reduce the problem size by a constant factor using only linear work. Can we find a pivot without using randomization?\n",
    "\n",
    "Consider the following approach:\n",
    "\n",
    "- split the list into $\\lceil n/5 \\rceil$ groups $G_i$ of 5 elements\n",
    "- identify the median $m_i$ in each $G_i$ (e.g. by sorting), and let $M$ be the list of medians\n",
    "- recursively find the median of $M$ and use as the pivot\n",
    "\n",
    "How much time do we need to find the pivot this way?\n"
   ]
  },
  {
   "cell_type": "markdown",
   "metadata": {
    "slideshow": {
     "slide_type": "fragment"
    }
   },
   "source": [
    "Since identifying the medians takes $O(n)$ time, this approach to selecting a pivot would require $W(\\lceil n/5 \\rceil)$ recursive work. \n",
    "\n",
    "Now, what happens if we compute the lists $\\ell = \\left\\langle\\, x \\in a \\;|\\; x < p \\,\\right\\rangle$ and $r = \\left\\langle\\, x \\in a \\;|\\; x > p \\,\\right\\rangle$ as before. \n",
    "\n",
    "We need that the larger of these two lists has reduced from $n$ by a constant fraction.\n",
    "\n",
    "Consider the relationship between elements that we have within and between groups. The median of medians must be less than at least\n",
    "\n",
    "$$3\\left(\\left\\lceil\\frac{1}{2}\\left\\lceil\\frac{n}{5}\\right\\rceil\\right\\rceil - 2\\right) \\geq \\frac{3n}{10}-6 $$\n",
    "\n",
    "elements. \n",
    "\n",
    "This means that we obtain a total work of:\n",
    "\n",
    "$$ W(n) \\leq W\\left(\\left\\lceil n/5 \\right\\rceil\\right) + W\\left(\\frac{7n}{10}+6\\right) + an $$\n",
    "\n",
    "\n",
    "\n"
   ]
  },
  {
   "cell_type": "markdown",
   "metadata": {
    "slideshow": {
     "slide_type": "fragment"
    }
   },
   "source": [
    "We can prove that $W(n) \\leq cn$ by induction.\n",
    "\n",
    "The base case is straightforward, so let us consider the induction step. Using strong induction to substitute, we must prove that:\n",
    "\n",
    "$$ W(n) \\leq c\\cdot\\left\\lceil n/5 \\right\\rceil + c\\cdot\\left(\\frac{7n}{10}+6\\right) + an \\leq \\frac{cn}{5} + c + \\frac{7cn}{10} + 6c + an = \\frac{9cn}{10} + 7c + an. $$\n",
    "\n",
    "We can rewrite the last term as \n",
    "$$ cn +\\left(\\frac{-cn}{10} + 7c + an \\right)$$\n",
    "\n",
    "and observe that $W(n) \\leq cn$ if and only if $\\left(\\frac{-cn}{10} + 7c + an \\right) \\leq 0$. This can be made to happen by choosing $c \\geq \\frac{10an}{n-70}$; then the inequality holds for $n>140$ and $c\\geq 20a.$\n",
    "\n",
    "Thus our deterministic algorithm for selection requires $O(n)$ work. What about span?"
   ]
  },
  {
   "cell_type": "code",
   "execution_count": null,
   "metadata": {},
   "outputs": [],
   "source": []
  }
 ],
 "metadata": {
  "celltoolbar": "Slideshow",
  "kernelspec": {
   "display_name": "Python 3 (ipykernel)",
   "language": "python",
   "name": "python3"
  },
  "language_info": {
   "codemirror_mode": {
    "name": "ipython",
    "version": 3
   },
   "file_extension": ".py",
   "mimetype": "text/x-python",
   "name": "python",
   "nbconvert_exporter": "python",
   "pygments_lexer": "ipython3",
   "version": "3.9.13"
  },
  "rise": {
   "autolaunch": true,
   "controls": false,
   "enable_chalkboard": true,
   "scroll": true,
   "theme": "simple",
   "transition": "fade"
  },
  "toc": {
   "base_numbering": 1,
   "nav_menu": {},
   "number_sections": true,
   "sideBar": true,
   "skip_h1_title": true,
   "title_cell": "Table of Contents",
   "title_sidebar": "Contents",
   "toc_cell": true,
   "toc_position": {},
   "toc_section_display": true,
   "toc_window_display": false
  }
 },
 "nbformat": 4,
 "nbformat_minor": 4
}
