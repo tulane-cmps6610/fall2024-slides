{
 "cells": [
  {
   "cell_type": "code",
   "execution_count": 1,
   "metadata": {
    "code_folding": [],
    "slideshow": {
     "slide_type": "skip"
    }
   },
   "outputs": [
    {
     "data": {
      "text/html": [
       "<style>.prompt{width: 0px; min-width: 0px; visibility: collapse}</style>"
      ],
      "text/plain": [
       "<IPython.core.display.HTML object>"
      ]
     },
     "metadata": {},
     "output_type": "display_data"
    },
    {
     "data": {
      "text/html": [
       "<style>\n",
       "div#notebook {\n",
       " font-family: \"Exo_2\", sans-serif;\n",
       "}\n",
       "\n",
       ".rendered_html h1,\n",
       ".text_cell_render h1 {\n",
       " color: #126dce;\n",
       " font-size: 220%;\n",
       " text-align: center;\n",
       " font-weight: lighter;\n",
       "}\n",
       ".rendered_html h2,\n",
       ".text_cell_render h2 {\n",
       " text-align: center;\n",
       " font-size: 170%;\n",
       " color: #126dce;\n",
       " font-style: normal;\n",
       " font-weight: lighter;\n",
       "}\n",
       ".rendered_html h3,\n",
       ".text_cell_render h3 {\n",
       " font-size: 150%;\n",
       " color: #126dce;\n",
       " font-weight: lighter;\n",
       " text-decoration: italic;\n",
       " font-style: normal;\n",
       "}\n",
       ".rendered_html h4,\n",
       ".text_cell_render h4 {\n",
       " font-size: 120%;\n",
       " color: #126dce;\n",
       " font-weight: underline;\n",
       " font-style: normal;\n",
       "}\n",
       ".rendered_html h5,\n",
       ".text_cell_render h5 {\n",
       " font-size: 100%;\n",
       " color: #2f2f2f;\n",
       " font-weight: lighter;\n",
       " text-decoration: underline;\n",
       "}\n",
       "</style>\n"
      ],
      "text/plain": [
       "<IPython.core.display.HTML object>"
      ]
     },
     "metadata": {},
     "output_type": "display_data"
    }
   ],
   "source": [
    "# setup\n",
    "from IPython.core.display import display,HTML\n",
    "display(HTML('<style>.prompt{width: 0px; min-width: 0px; visibility: collapse}</style>'))\n",
    "display(HTML(open('../rise.css').read()))\n",
    "\n",
    "# imports\n",
    "import numpy as np\n",
    "import matplotlib.pyplot as plt\n",
    "import seaborn as sns\n",
    "%matplotlib inline\n",
    "sns.set(style=\"whitegrid\", font_scale=1.5, rc={'figure.figsize':(12, 6)})\n"
   ]
  },
  {
   "cell_type": "markdown",
   "metadata": {
    "slideshow": {
     "slide_type": "slide"
    }
   },
   "source": [
    "# CMPS 6610\n",
    "# Algorithms\n",
    "\n",
    "## Reductions, Search Spaces and Algorithmic Paradigms\n"
   ]
  },
  {
   "cell_type": "markdown",
   "metadata": {
    "slideshow": {
     "slide_type": "slide"
    }
   },
   "source": [
    "So far we have focused on the basic environment for designing algorithms: \n",
    "\n",
    "- Model of computation (Work/Span)\n",
    "- Algorithm specification language (SPARC)\n",
    "- Asymptotic analysis of performance (Recurrences)\n",
    "- Abstract Data Types (sequences)\n",
    "\n",
    "We will now move to learning about algorithmic *paradigms* and see examples of how they work in different problem areas.\n",
    "\n",
    "First we will look at how problems can be related to one another through **reductions** and then define the concept of a **search space** for an problem."
   ]
  },
  {
   "cell_type": "markdown",
   "metadata": {
    "slideshow": {
     "slide_type": "slide"
    }
   },
   "source": [
    " ## Reductions\n",
    " \n",
    " We say that a problem $A$ is reducable to a problem $B$ if an instance of problem $A$ can be turned into some instance of $B$. So, this means we can solve problem $A$ using these three steps:\n",
    " \n",
    " - The input $\\mathcal{I}_A$ to $A$ is transformed into one or more instances of $B$\n",
    " \n",
    " - Solve these instances of $B$.\n",
    " \n",
    " - Use these output(s) to construct the solution to $\\mathcal{I}_A$. \n",
    " \n",
    "It's convenient to view this schematically as:\n",
    "\n",
    "<br><p> \n",
    " ![reduction.jpg](reduction.jpg)\n",
    "<br><p> \n",
    " \n",
    "What is the running time of our generic algorithm for solving $A$?"
   ]
  },
  {
   "cell_type": "markdown",
   "metadata": {
    "slideshow": {
     "slide_type": "fragment"
    }
   },
   "source": [
    "The time to solve $A$ on an input $\\mathcal{I}_A$: \n",
    "\n",
    "- the time to construct one or more instances of $B$\n",
    "- the time to solve one or more instances of $B$\n",
    "- the time to construct the solution to $\\mathcal{I}_A$\n",
    "\n",
    "We say that a reduction is *efficient* if the running time of the input/output transformations do not exceed the running time of the problem being solved.\n",
    "    "
   ]
  },
  {
   "cell_type": "markdown",
   "metadata": {
    "slideshow": {
     "slide_type": "slide"
    }
   },
   "source": [
    "Have we already seen this in action? Maybe selection sort?"
   ]
  },
  {
   "cell_type": "code",
   "execution_count": 1,
   "metadata": {
    "slideshow": {
     "slide_type": "fragment"
    }
   },
   "outputs": [
    {
     "data": {
      "text/plain": [
       "[-2, -1, 1, 2, 3, 4, 9]"
      ]
     },
     "execution_count": 1,
     "metadata": {},
     "output_type": "execute_result"
    }
   ],
   "source": [
    "def selection_sort(L):\n",
    "    for i in range(len(L)):\n",
    "        m = L.index(min(L[i:]))\n",
    "        L[i], L[m] = L[m], L[i]\n",
    "    return L\n",
    "\n",
    "selection_sort([2, 1, 4, 3, 9, -1, -2])"
   ]
  },
  {
   "cell_type": "markdown",
   "metadata": {
    "slideshow": {
     "slide_type": "fragment"
    }
   },
   "source": [
    "This is not really a reduction - each successive call to `min` depends on the result of a prior call. How about the opposite direction?"
   ]
  },
  {
   "cell_type": "code",
   "execution_count": 2,
   "metadata": {
    "slideshow": {
     "slide_type": "fragment"
    }
   },
   "outputs": [
    {
     "data": {
      "text/plain": [
       "-1"
      ]
     },
     "execution_count": 2,
     "metadata": {},
     "output_type": "execute_result"
    }
   ],
   "source": [
    "# reduction from min-finding to sorting.\n",
    "def my_min(L):\n",
    "    return sorted(L)[0]\n",
    "\n",
    "my_min([1, 2, 3, 99, 5, 6, 7, -1])"
   ]
  },
  {
   "cell_type": "markdown",
   "metadata": {
    "slideshow": {
     "slide_type": "slide"
    }
   },
   "source": [
    "This is a reduction since the input transformation is trivial, we sort the list, and for the output transformation take the first element of the sorted list.\n",
    "\n",
    "<br><p>\n",
    "<img width=70% src=\"reduction.jpg\"/>\n",
    "<br><p>\n",
    "    \n",
    "What do we expect of the relationship between problems $A$ and $B$?  "
   ]
  },
  {
   "cell_type": "markdown",
   "metadata": {
    "slideshow": {
     "slide_type": "fragment"
    }
   },
   "source": [
    "If we construct a valid reduction from $A$ to $B$, then we have shown that problem $A$ is \"no harder\" than $B$. If $A$ were strictly harder than $B$, we couldn't solve $A$ with a reduction to $B$!\n",
    "\n",
    "Suppose we are speculating about the difficulty of a scary looking problem $A$. Now suppose we manage to find a problem $B$ so that we have an efficient reduction from $A$ to $B$. \n",
    "\n",
    "The runtime (work or span) of $A$ is upper bounded by the runtime of *any* algorithm for $B$, without having found an algorithm for $A$ or $B$!\n",
    "\n",
    "This a useful concept that is used to \"map\" the complexity of problems, whether or not we have efficient algorithms! (We'll get to this in more detail at the end of the semester.)\n",
    "\n",
    "\n",
    "<br><br><br>\n",
    "\n",
    "**summary:**\n",
    "\n",
    "If $A$ is reducible to $B$ then:\n",
    "\n",
    "- $A$ is not harder than $B$\n",
    "- $B$ is at least as hard as $A$\n",
    "\n",
    "<br><br>\n",
    "So, by reducing `min` to `sort`, we've just shown that \n",
    "- `min` is no harder than `sort`\n",
    "- `sort` is at least as hard as `min`. "
   ]
  },
  {
   "cell_type": "markdown",
   "metadata": {
    "slideshow": {
     "slide_type": "slide"
    }
   },
   "source": [
    "# More Reductions\n",
    "\n",
    "**Median Finding**: Find the median of an unsorted list $L$ of length $n$.\n",
    "\n"
   ]
  },
  {
   "cell_type": "markdown",
   "metadata": {
    "slideshow": {
     "slide_type": "fragment"
    }
   },
   "source": [
    "**Reduction**: No input transformation, just sort $L$ and take the element at position $\\lfloor n/2 \\rfloor$.\n",
    "    \n",
    "This shows finding the median of a list is no harder than sorting the list. What can we conclude about finding the median (i.e., *selection*)?\n",
    "\n",
    "Upper bound? "
   ]
  },
  {
   "cell_type": "markdown",
   "metadata": {
    "slideshow": {
     "slide_type": "fragment"
    }
   },
   "source": [
    "$O(n\\log n)$, since this is the best runtime for sorting.\n",
    "\n",
    "It turns out that there is an $O(n)$ algorithm for median finding. What does this say about the best possible runtime for sorting?\n",
    "\n"
   ]
  },
  {
   "cell_type": "markdown",
   "metadata": {
    "slideshow": {
     "slide_type": "fragment"
    }
   },
   "source": [
    "$\\Omega(n)$, since this is the best runtime for median finding.\n",
    "\n",
    "    \n",
    "What about the more general problem of finding the $k$th smallest number in a list of length $n$?\n",
    "\n"
   ]
  },
  {
   "cell_type": "markdown",
   "metadata": {
    "slideshow": {
     "slide_type": "fragment"
    }
   },
   "source": [
    "`median finding` is reducible to `find the kth smallest number in a list`"
   ]
  },
  {
   "cell_type": "markdown",
   "metadata": {
    "slideshow": {
     "slide_type": "slide"
    }
   },
   "source": [
    "**Convex Hull**: Given a set of points in the plane, find the extreme points and return them in counterclockwise order. This generates the \"convex hull\" of the point set.\n",
    "\n",
    "\n",
    "\n",
    "<br><br>\n",
    "<p>\n",
    "<img width=\"60%\" src =\"convexhull.jpg\"/>\n",
    "<p>\n",
    "<br><br>\n",
    "   \n",
    "\n",
    "\n",
    "The extreme points always create a convex boundary around the point set, hence the name.\n",
    "\n",
    "How difficult is convex hull, relative to other computational problems?\n",
    "    "
   ]
  },
  {
   "cell_type": "markdown",
   "metadata": {
    "slideshow": {
     "slide_type": "fragment"
    }
   },
   "source": [
    "Interestingly, convex hull is at least as hard as sorting!\n",
    "\n",
    "**Reduction**: Given a list of length $n$ to sort, we can construct a point set by taking each list element $a\\in L[i]$ and creating a corresponding point $(a, a^2)$. Any algorithm that returns the points of the convex hull of this point set in counterclockwise order will produce the elements of the original list in sorted order.\n",
    "\n",
    "\n",
    "<br><br>\n",
    "![convexhull_reduction.png](convexhull_reduction.png)\n",
    "<br><br>\n",
    "   \n",
    "Can we say anything else? Well, it turns out sorting is $\\Omega(n \\log n)$. So computing the convex hull is $\\Omega(n \\log n)$, otherwise we could do better than $O(n \\log n)$ for sorting a list. "
   ]
  },
  {
   "cell_type": "markdown",
   "metadata": {
    "slideshow": {
     "slide_type": "slide"
    }
   },
   "source": [
    "## Search Spaces and Brute-Force \n",
    "\n",
    "Let's now focus on another way to think about the difficulty of a computational problem, which motivates a very simple algorithmic paradigm. \n",
    "\n",
    "As the name suggests, the \"brute force\" paradigm just for a problem $A$ and an instance $\\mathcal{I}_A$, just looks at every possible solution and checks each one.\n",
    "\n",
    "Let's consider the problem of sorting by brute force. Given a list $L$ of length $n$, how would this work?\n",
    "\n",
    "\n"
   ]
  },
  {
   "cell_type": "markdown",
   "metadata": {
    "slideshow": {
     "slide_type": "fragment"
    }
   },
   "source": [
    "We'd need to consider every possible sorted order of length $n$ on the elements in $L$. How many are there?\n",
    "\n",
    "There are $n!$ - why?\n",
    "\n",
    "Now, if we can explicitly generate all permutations, we'd need to check each one for \"sortedness\". How long does that take?\n",
    "\n"
   ]
  },
  {
   "cell_type": "markdown",
   "metadata": {
    "slideshow": {
     "slide_type": "slide"
    }
   },
   "source": [
    "Thus, sorting by brute force takes $O(n \\cdot n!)$ work. For $n=100$, this is at least $10^{100}$!! There are only about $10^{80}$ atoms in the known universe... so this is horribly inefficient.\n",
    "\n",
    "Is there any upside to brute force?"
   ]
  },
  {
   "cell_type": "markdown",
   "metadata": {
    "slideshow": {
     "slide_type": "fragment"
    }
   },
   "source": [
    "The work of this algorithm for sorting is astronomical (literally), but let us consider the span. \n",
    "\n",
    "How quickly can we check (in parallel) that a list is sorted?\n",
    "\n"
   ]
  },
  {
   "cell_type": "markdown",
   "metadata": {
    "slideshow": {
     "slide_type": "fragment"
    }
   },
   "source": [
    "For all $i=0,\\ldots,n-2$, check that $L[i] \\leq L[i+1]$. This can be done with a parallel `filter`. Then, do a parallel `reduce` to check that all $n-1$ inequalities are met in $O(\\log n)$ span. \n",
    "\n",
    "Overall it takes $O(\\log n)$ span to check that a list is sorted, for each candidate permutation. All permutations can be checked concurrently. \n",
    "\n",
    "So, while brute force sorting is not at all work-efficient, we can achieve a very efficient span!\n"
   ]
  },
  {
   "cell_type": "markdown",
   "metadata": {
    "slideshow": {
     "slide_type": "slide"
    }
   },
   "source": [
    "Consider the problem of finding the maximum element in a list $L$ of length $n$. \n",
    "\n",
    "What is the search space?\n"
   ]
  },
  {
   "cell_type": "markdown",
   "metadata": {
    "slideshow": {
     "slide_type": "fragment"
    }
   },
   "source": [
    "Since the maximum of a list is just an element in the list, the search space has $n$ elements. \n",
    "\n",
    "How do we check whether each candidate solution is the correct one?"
   ]
  },
  {
   "cell_type": "markdown",
   "metadata": {
    "slideshow": {
     "slide_type": "fragment"
    }
   },
   "source": [
    "If each candidate $x$ is greater than or equal to every other $y\\in L$, then $x$ is the solution. This takes $O(n)$ work. Over all $n$ elements, the brute force approach takes $O(n^2)$ work and and $O(\\log n)$ span (why?).\n",
    "\n",
    "How does this compare to other approaches we've seen?\n",
    "\n",
    "**Using `iterate`**: $O(n)$ work, $O(n)$ span\n",
    "\n",
    "**Using `reduce`**: $O(n)$ work, $O(\\log n)$ span\n",
    "\n",
    "**Brute-force**: $O(n^2)$ work, $O(\\log n)$ span\n",
    "\n"
   ]
  },
  {
   "cell_type": "code",
   "execution_count": null,
   "metadata": {},
   "outputs": [],
   "source": []
  }
 ],
 "metadata": {
  "celltoolbar": "Slideshow",
  "kernelspec": {
   "display_name": "Python 3 (ipykernel)",
   "language": "python",
   "name": "python3"
  },
  "language_info": {
   "codemirror_mode": {
    "name": "ipython",
    "version": 3
   },
   "file_extension": ".py",
   "mimetype": "text/x-python",
   "name": "python",
   "nbconvert_exporter": "python",
   "pygments_lexer": "ipython3",
   "version": "3.9.13"
  },
  "rise": {
   "autolaunch": true,
   "controls": false,
   "enable_chalkboard": true,
   "scroll": true,
   "theme": "simple",
   "transition": "fade"
  },
  "toc": {
   "base_numbering": 1,
   "nav_menu": {},
   "number_sections": true,
   "sideBar": true,
   "skip_h1_title": true,
   "title_cell": "Table of Contents",
   "title_sidebar": "Contents",
   "toc_cell": true,
   "toc_position": {},
   "toc_section_display": true,
   "toc_window_display": false
  }
 },
 "nbformat": 4,
 "nbformat_minor": 4
}
