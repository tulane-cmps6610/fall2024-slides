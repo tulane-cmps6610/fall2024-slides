{
 "cells": [
  {
   "cell_type": "code",
   "execution_count": 4,
   "metadata": {
    "code_folding": [],
    "slideshow": {
     "slide_type": "skip"
    }
   },
   "outputs": [],
   "source": [
    "# setup\n",
    "from IPython.core.display import display,HTML\n",
    "display(HTML('<style>.prompt{width: 0px; min-width: 0px; visibility: collapse}</style>'))\n",
    "display(HTML(open('../rise.css').read()))\n",
    "\n",
    "# imports\n",
    "import numpy as np\n",
    "import matplotlib.pyplot as plt\n",
    "import seaborn as sns\n",
    "%matplotlib inline\n",
    "sns.set(style=\"whitegrid\", font_scale=1.5, rc={'figure.figsize':(12, 6)})\n"
   ]
  },
  {
   "cell_type": "markdown",
   "metadata": {
    "slideshow": {
     "slide_type": "slide"
    }
   },
   "source": [
    "# CMPS 6610\n",
    "# Algorithms\n",
    "\n",
    "\n",
    "## Fast Fourier Transform\n"
   ]
  },
  {
   "cell_type": "markdown",
   "metadata": {
    "slideshow": {
     "slide_type": "slide"
    }
   },
   "source": [
    "So far we have discussed divide-and-conquer algorithms for:\n",
    "\n",
    "- Integer Multiplication\n",
    "- Matrix Multiplication\n",
    "\n",
    "Can we multiply polynomials quickly? Why would we want to? \n"
   ]
  },
  {
   "cell_type": "markdown",
   "metadata": {
    "slideshow": {
     "slide_type": "slide"
    }
   },
   "source": [
    "## Convolutions, Signal Processing and Polynomial Multiplication\n",
    "\n",
    "Recall that the dot product of two vectors $\\mathbf{a}=\\langle a_0, \\ldots, a_{n-1}\\rangle$ and $\\mathbf{b}=\\langle b_0, \\ldots, b_{n-1}\\rangle$ is given by:\n",
    "\n",
    "$$\\sum_{i=0}^{n-1} a_i \\cdot b_i$$\n",
    "\n",
    "The *convolution* of $\\mathbf{a}*\\mathbf{b}$ has:\n",
    "\n",
    "$$(\\mathbf{a}*\\mathbf{b})_k = \\sum_{i+j=k} a_i\\cdot b_j$$\n",
    "\n",
    "\n",
    "What is $\\langle 1, 2, 3\\rangle * \\langle 4, 5, 6 \\rangle$? How many entries can a convolution of two vectors of length $n$ have?\n",
    "\n",
    "\n"
   ]
  },
  {
   "cell_type": "markdown",
   "metadata": {
    "slideshow": {
     "slide_type": "fragment"
    }
   },
   "source": [
    "The convolution of $\\langle 1, 2, 3\\rangle * \\langle 4, 5, 6 \\rangle$ is $\\langle 4, 13, 28, 27, 18\\rangle$. The result of convoluting two vectors of length $n$ is $2n-1$. \n",
    "\n",
    "What is the work/span of computing the convolution?"
   ]
  },
  {
   "cell_type": "markdown",
   "metadata": {
    "slideshow": {
     "slide_type": "fragment"
    }
   },
   "source": [
    "Why are convolutions important/interesting?\n",
    "\n",
    "* **Signal processing**: If we let $\\mathbf{a}$ be a discrete signal, and $\\mathbf{b}$ be a \"mask\", then the convolution gives us a smoothed signal!\n",
    "\n",
    "* **Polynomials**: If $\\mathbf{a}$ and $\\mathbf{b}$ represent polynomial coefficients, then the convolution gives us the product polynomial!\n"
   ]
  },
  {
   "cell_type": "markdown",
   "metadata": {
    "slideshow": {
     "slide_type": "slide"
    }
   },
   "source": [
    "## Polynomial Multiplication\n",
    "\n",
    "Let $\\mathbf{a}$ represent $a(x) = \\sum_{i=0}^{n-1} a_i\\cdot x^i$ and let $\\mathbf{b}$ represent $b(x) = \\sum_{i=0}^{n-1} b_i\\cdot x^i$. Then the product $c(x) = a(x)\\cdot b(x)$ has degree $2n-2$ and the coefficient of $x^k$ in $c(x)$ is the sum of the product of coefficients $x^i$ and $x^j$ where $x^k = x^i\\cdot x^j$. This is exactly the entry $(\\mathbf{a}*\\mathbf{b})_k$!\n",
    "\n",
    "So, we can multiply polynomials in $O(n^2)$ work and span. But can we do better?\n",
    "\n"
   ]
  },
  {
   "cell_type": "markdown",
   "metadata": {
    "slideshow": {
     "slide_type": "fragment"
    }
   },
   "source": [
    "Is the coefficient representation the best for a polynomial? We know that a polynomial of degree $d$ can be uniquely represented by $d+1$ points. So why not represent the polynomials in *point-value* form on the same points? Then we can multiply values in $O(n)$ work/span to get the the product.\n",
    "\n",
    "So the algorithm for polynomial multiplication would then have the following steps:\n",
    "\n",
    "* **Evaluate**: Evaluate $a(x)$ and $b(x)$ on points $x_0, x_1, \\ldots x_{2n-1}$.\n",
    "* **Multiply**: Compute $c(x_j) =  a(x_j)\\cdot b(x_j)$ for $j = 0, 1, \\ldots 2n-1$.\n",
    "* **Interpolate**: Recover coefficients $c_0, \\ldots c_{2n-1}$ from values $c(x_j)$.\n",
    "\n",
    "What is the running time of these steps?\n",
    "\n",
    "Moreover we saw that the coefficients are what we really want -- so we still need to perform **interpolation** on the values to recover the coefficients.\n"
   ]
  },
  {
   "cell_type": "markdown",
   "metadata": {
    "slideshow": {
     "slide_type": "fragment"
    }
   },
   "source": [
    "Actually, the Fundamental Theorem of Algebra states that every polynomial of degree $d$ has $d$ **complex** roots.\n",
    "\n",
    "We will use the roots of a special polynomial, called the *roots of unity*.\n",
    "\n",
    "An $n^{th}$ root of unity $\\omega_{j, n}$ is defined as $e^{2\\pi i \\cdot j/n}$ for $j=0,\\ldots,n-1$ where $i=\\sqrt{-1}$. $\\omega_{j,n}$ are called a *roots of unity* because they are solutions to $x^n - 1 = 0.$\n",
    "\n",
    "Note that $\\omega^2_{j, n} = \\omega_{j, n/2}$. Why?\n"
   ]
  },
  {
   "cell_type": "markdown",
   "metadata": {
    "slideshow": {
     "slide_type": "fragment"
    }
   },
   "source": [
    "Back to divide and conquer - how do we split/divide polynomials?\n",
    "\n",
    "We can simply use this fact:\n",
    "\n",
    "$$a(x) = a_{\\mathsf{\\small even}}(x^2) + x \\cdot a_{\\mathsf{\\small odd}}(x^2)$$\n",
    "\n",
    "where $a_{\\mathsf{\\small even}}$ contains the even coefficients of $a(x)$ and $a_{\\mathsf{\\small odd}}(x)$ contains the odd coefficients.\n",
    "\n"
   ]
  },
  {
   "cell_type": "markdown",
   "metadata": {
    "slideshow": {
     "slide_type": "fragment"
    }
   },
   "source": [
    "What happens when we evaluate $a(x)$ on $n^{th}$ roots of unity?\n",
    "\n",
    "$$ a(\\omega_{j, n}) = a_{\\mathsf{\\small even}}(\\omega^2_{j, n}) + \\omega_{j, n} \\cdot a_{\\mathsf{\\small odd}}(\\omega^2_{j, n}) $$\n",
    "\n",
    "Or, using our basic lemma about squaring $n^{th}$ roots of unity:\n",
    "\n",
    "$$ a(\\omega_{j, n}) = a_{\\mathsf{\\small even}}(\\omega_{j, n/2}) + \\omega_{j, n} \\cdot a_{\\mathsf{\\small odd}}(\\omega_{j, n/2}) $$\n",
    "\n",
    "This means that evaluating a polynomial of degree $n$ on $n^{th}$ roots of unity can be done by evaluating **two** polynomials of degree $n/2$ on $(n/2)^{th}$ roots of unity! Once we recursively get the values of $a$ on the $(n/2)^{th}$ roots of unity, we can combine results to obtain the values of $a$ on the $n^{th}$ roots of unity.\n"
   ]
  },
  {
   "cell_type": "markdown",
   "metadata": {
    "slideshow": {
     "slide_type": "fragment"
    }
   },
   "source": [
    "Thus the total work would be:\n",
    "\n",
    "$$ W(n) = 2W(n/2) + cn = O(n \\log n).$$\n",
    "\n",
    "and the span is:\n",
    "\n",
    "$$ S(n) = S(n/2) + c = O(\\log n).$$\n",
    "\n"
   ]
  },
  {
   "cell_type": "markdown",
   "metadata": {
    "slideshow": {
     "slide_type": "slide"
    }
   },
   "source": [
    "## Polynomial Interpolation\n",
    "\n",
    "To review our steps so far:\n",
    "\n",
    "* **Evaluate**: Evaluate $a(x)$ and $b(x)$ on points $\\omega_{j, 2n}$ for $j=0, 1, \\ldots, 2n-1$.\n",
    "* **Multiply**: Compute $c(\\omega_{j, 2n}) =  a(\\omega_{j, 2n})\\cdot b(\\omega_{j, 2n})$ for $j = 0, 1, \\ldots 2n-1$.\n",
    "* **Interpolate**: Recover coefficients $c_0, \\ldots c_{2n-1}$ from values $c(\\omega_{j, 2n})$.\n",
    "\n",
    "We've shown how to quickly multiply two polynomials in point-value representation over roots of unity. But, how do we get the coefficients of the product polynomial?\n",
    "\n",
    "\n"
   ]
  },
  {
   "cell_type": "markdown",
   "metadata": {
    "slideshow": {
     "slide_type": "fragment"
    }
   },
   "source": [
    "Let \n",
    "\n",
    "$$d(x) = \\sum_{j=0}^{2n-1} = c(\\omega_{j,2n})\\cdot x^j $$\n",
    "\n",
    "What is the cost to evaluate $d(x)$ on the $2n^{th}$ roots of unity?"
   ]
  },
  {
   "cell_type": "markdown",
   "metadata": {
    "slideshow": {
     "slide_type": "fragment"
    }
   },
   "source": [
    "It would take $O(n\\log n)$ work - but so what?\n",
    "\n",
    "Let us take a closer look at the evaluation of polynomial $a(x)$ at the $n^{th}$ roots of unity. For $0\\leq j < n$:\n",
    "    \n",
    "    \n",
    "$$a(\\omega_{j,n}) =  \\sum_{k=0}^{n-1} a_k \\omega^k_{j,n}$$\n",
    "\n",
    "We can write this in matrix form as $\\mathbf{a_\\omega} = V\\cdot\\mathbf{a}$. Now $V$ is a *Vandermonde* matrix, which has the property that it is invertible (since the entries are powers of the distinct $n^{th}$ roots of unity).\n",
    "\n",
    "This means that if we compute $V^{-1}\\cdot\\mathbf{a_\\omega} = V^{-1}\\cdot V\\cdot\\mathbf{a}$, we immediately have the coefficients we seek. But this requires a matrix-vector multiplication! Can we do better?\n",
    "\n"
   ]
  },
  {
   "cell_type": "markdown",
   "metadata": {
    "slideshow": {
     "slide_type": "fragment"
    }
   },
   "source": [
    "It turns out that this inversion is performed if we evaluate $d(x)$ at the $2n^{th}$ roots of unity! That is:\n",
    "\n",
    "$$ d(\\omega_{j, 2n}) = 2n \\cdot c_j $$\n",
    "\n",
    "This is because, at position $V^{-1}_{(j,k)} = \\omega^{-kj}_n/n$. This means that when we multiply a row $j$ of $V^{-1}$ with a column $j'$ of $V$, we get:\n",
    "\n",
    "$$(V^{-1}V)_{j,j'} = \\sum_{k=0}^n (\\omega^{-kj}_n/n)(\\omega^{kj'}_n) = \\sum_{k=0}^n \\omega^{k(j'-j)}_n/n $$\n",
    "\n",
    "Now, it turns out that this summation is 0 when $j=j'$ and 0 otherwise. To make this observation we need the following:\n",
    "\n",
    "\n",
    "**Lemma**:  For any $n\\geq 1$ and nonnegative integer $k$ that is not divisible by $n$:  \n",
    "\n",
    "$$\\sum_{j=0}^{n-1} (\\omega^k_n)^j  = 0.$$\n",
    "\n",
    "Can you prove it?\n"
   ]
  },
  {
   "cell_type": "markdown",
   "metadata": {
    "slideshow": {
     "slide_type": "fragment"
    }
   },
   "source": [
    "To sum up all of our steps for computing $\\mathbf{a}*\\mathbf{b}$:\n",
    "\n",
    "* **Evaluate**: Evaluate $a(x)$ and $b(x)$ on points $\\omega_{j, 2n-1}$ for $j=0, 1, \\ldots, 2n-1$.\n",
    "* **Multiply**: Compute $c(\\omega_{j,2n}) =  a(\\omega_{j,2n})\\cdot b(\\omega_{j,2n})$ for $j = 0, 1, \\ldots 2n-1$.\n",
    "* **Interpolate**: Let $d(x) = \\sum_{j=0}^{2n-1} = c(\\omega_{j,2n})\\cdot x^j$. Recover the coefficients $c_0, \\ldots c_{2n-1}$ by evaluating $d(x_j)$ on the $2n^{th}$ roots of unity.\n",
    "\n",
    "The evaluation steps take $O(n \\log n)$ work and $O(\\log n)$ span, while the multiplication step takes $O(n)$ work and $O(1)$ span. Thus the work to compute $\\mathbf{a}*\\mathbf{b}$ is $O(n\\log n)$ and the span is $O(\\log n)$.\n"
   ]
  }
 ],
 "metadata": {
  "celltoolbar": "Slideshow",
  "kernelspec": {
   "display_name": "Python 3 (ipykernel)",
   "language": "python",
   "name": "python3"
  },
  "language_info": {
   "codemirror_mode": {
    "name": "ipython",
    "version": 3
   },
   "file_extension": ".py",
   "mimetype": "text/x-python",
   "name": "python",
   "nbconvert_exporter": "python",
   "pygments_lexer": "ipython3",
   "version": "3.9.13"
  },
  "rise": {
   "autolaunch": true,
   "controls": false,
   "enable_chalkboard": true,
   "scroll": true,
   "theme": "simple",
   "transition": "fade"
  },
  "toc": {
   "base_numbering": 1,
   "nav_menu": {},
   "number_sections": true,
   "sideBar": true,
   "skip_h1_title": true,
   "title_cell": "Table of Contents",
   "title_sidebar": "Contents",
   "toc_cell": true,
   "toc_position": {},
   "toc_section_display": true,
   "toc_window_display": false
  }
 },
 "nbformat": 4,
 "nbformat_minor": 4
}
