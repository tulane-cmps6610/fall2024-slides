{
 "cells": [
  {
   "cell_type": "code",
   "execution_count": 6,
   "metadata": {
    "code_folding": [],
    "slideshow": {
     "slide_type": "skip"
    }
   },
   "outputs": [
    {
     "data": {
      "text/html": [
       "<style>.prompt{width: 0px; min-width: 0px; visibility: collapse}</style>"
      ],
      "text/plain": [
       "<IPython.core.display.HTML object>"
      ]
     },
     "metadata": {},
     "output_type": "display_data"
    },
    {
     "data": {
      "text/html": [
       "<style>\n",
       "div#notebook {\n",
       " font-family: \"Exo_2\", sans-serif;\n",
       "}\n",
       "\n",
       ".rendered_html h1,\n",
       ".text_cell_render h1 {\n",
       " color: #126dce;\n",
       " font-size: 220%;\n",
       " text-align: center;\n",
       " font-weight: lighter;\n",
       "}\n",
       ".rendered_html h2,\n",
       ".text_cell_render h2 {\n",
       " text-align: center;\n",
       " font-size: 170%;\n",
       " color: #126dce;\n",
       " font-style: normal;\n",
       " font-weight: lighter;\n",
       "}\n",
       ".rendered_html h3,\n",
       ".text_cell_render h3 {\n",
       " font-size: 150%;\n",
       " color: #126dce;\n",
       " font-weight: lighter;\n",
       " text-decoration: italic;\n",
       " font-style: normal;\n",
       "}\n",
       ".rendered_html h4,\n",
       ".text_cell_render h4 {\n",
       " font-size: 120%;\n",
       " color: #126dce;\n",
       " font-weight: underline;\n",
       " font-style: normal;\n",
       "}\n",
       ".rendered_html h5,\n",
       ".text_cell_render h5 {\n",
       " font-size: 100%;\n",
       " color: #2f2f2f;\n",
       " font-weight: lighter;\n",
       " text-decoration: underline;\n",
       "}\n",
       "</style>\n"
      ],
      "text/plain": [
       "<IPython.core.display.HTML object>"
      ]
     },
     "metadata": {},
     "output_type": "display_data"
    }
   ],
   "source": [
    "# setup\n",
    "from IPython.core.display import display,HTML\n",
    "display(HTML('<style>.prompt{width: 0px; min-width: 0px; visibility: collapse}</style>'))\n",
    "display(HTML(open('../rise.css').read()))\n",
    "\n",
    "# imports\n",
    "import numpy as np\n",
    "import matplotlib.pyplot as plt\n",
    "import seaborn as sns\n",
    "%matplotlib inline\n",
    "sns.set(style=\"whitegrid\", font_scale=1.5, rc={'figure.figsize':(12, 6)})\n"
   ]
  },
  {
   "cell_type": "markdown",
   "metadata": {
    "slideshow": {
     "slide_type": "slide"
    }
   },
   "source": [
    "# CMPS 6610\n",
    "# Algorithms\n",
    "\n",
    "## Divide and Conquer\n"
   ]
  },
  {
   "cell_type": "markdown",
   "metadata": {
    "slideshow": {
     "slide_type": "slide"
    }
   },
   "source": [
    "Today's agenda:\n",
    "\n",
    "- Divide-and-Conquer Framework\n",
    "- Sequence Scan"
   ]
  },
  {
   "cell_type": "markdown",
   "metadata": {
    "slideshow": {
     "slide_type": "slide"
    }
   },
   "source": [
    "We've seen a few divide-and-conquer algorithms already, so let's look at the high-level approach. For a problem $A$ and instance $\\mathcal{I}_A$:\n",
    "\n",
    "- **Base Case**: If $\\mathcal{I}_A$ is small, solve directly. \n",
    "\n",
    "- **Inductive Step**: \n",
    "    - **Divide** $\\mathcal{I}_A$ into smaller instances.\n",
    "    - **Recursively solve** smaller instances.\n",
    "    - **Combine** solutions\n",
    "\n",
    "As we'll see, each algorithmic paradigm has high-level strategies to i) *prove correctness* and ii) *determine work/span*.\n",
    "\n",
    "How do we prove the correctness of a divide-and-conquer algorithm?\n"
   ]
  },
  {
   "cell_type": "markdown",
   "metadata": {
    "slideshow": {
     "slide_type": "slide"
    }
   },
   "source": [
    "Induction -- why and how?\n",
    "\n",
    "Induction provides a natural framework for divide-and-conquer algorithms.\n",
    "\n",
    "The **base case** of the induction requires us to prove that the algorithm works for the base case.\n",
    "\n",
    "For the **induction step**, we use the inductive hypothesis that the solutions to the smaller instances are correct. Then, we must prove that the combine step correctly produces the desired solution. "
   ]
  },
  {
   "cell_type": "markdown",
   "metadata": {
    "slideshow": {
     "slide_type": "slide"
    }
   },
   "source": [
    "What about determining work/span?\n",
    "\n",
    "We've seen that recurrences can capture the behavior of divide-and-conquer algorithms - they simply capture the cost of recursively solving smaller instances and then combining the solutions. \n",
    "\n",
    "The general form of the work is:\n",
    "\n",
    "$$ W(n) = W_{\\mathsf{\\small divide}}(n) + \\sum_{i=1}^{k}W(n_i) + W_{\\mathsf{\\small combine}}(n) + 1 $$\n",
    "\n",
    "The general form for the span is:\n",
    "\n",
    "$$ S(n) = S_{\\mathsf{\\small divide}}(n) + \\max_{i=1}^{k}S(n_i) + S_{\\mathsf{\\small combine}}(n) + 1 $$\n",
    "\n"
   ]
  },
  {
   "cell_type": "markdown",
   "metadata": {
    "slideshow": {
     "slide_type": "fragment"
    }
   },
   "source": [
    "Let's look at how Merge Sort fits into this framework.\n",
    "\n",
    "\n",
    "<p><span class=\"math display\">\\[\\begin{array}{l}  \n",
    "\\mathit{mergeSort}~a =  \n",
    "\\\\   \n",
    "~~~~\\texttt{if}~|a| \\leq 1~\\texttt{then}  \n",
    "\\\\   \n",
    "~~~~~~~~a  \n",
    "\\\\  \n",
    "~~~~\\texttt{else}  \n",
    "\\\\   \n",
    "~~~~~~~~\\texttt{let}  \n",
    "\\\\  \n",
    "~~~~~~~~~~~~(l,r) = \\mathit{splitMid}~a  \n",
    "\\\\   \n",
    "~~~~~~~~~~~~(l',r') = (\\mathit{mergeSort}~l \\mid\\mid{} \\mathit{mergeSort}~r)  \n",
    "\\\\  \n",
    "~~~~~~~~\\texttt{in}  \n",
    "\\\\   \n",
    "~~~~~~~~~~~~\\mathit{merge} (l',r')  \n",
    "\\\\  \n",
    "~~~~~~~~\\texttt{end}  \n",
    "\\end{array}\\]</span></p>\n",
    "\n",
    "\n"
   ]
  },
  {
   "cell_type": "markdown",
   "metadata": {
    "slideshow": {
     "slide_type": "fragment"
    }
   },
   "source": [
    "For the correctness, we need to show that Merge Sort truly sorts the list. Let's perform induction:\n",
    "\n",
    "- **Base case**: We correctly sort a singleton list.\n",
    "\n",
    "- **Induction Step**: We assume that we can correctly sort the two halves of the list (by the inductive hypothesis). The final step is to prove that the merge step works correctly to combine two sorted lists into one sorted list (which we've shown previously). \n"
   ]
  },
  {
   "cell_type": "markdown",
   "metadata": {
    "slideshow": {
     "slide_type": "fragment"
    }
   },
   "source": [
    "For the running time, recall that we characterized the work/span of Merge Sort as:\n",
    "\n",
    "$$ W(n) = 2W(n/2) + O(n) $$\n",
    " \n",
    "and\n",
    "\n",
    "$$ S(n) = S(n/2) + O(\\log n) $$\n",
    " \n",
    "This fits into the framework above: the divide step takes $O(1)$ time, there are 2 concurrent recursive calls, and merging takes $O(n)$ work and $O(\\log n)$ span.    "
   ]
  },
  {
   "cell_type": "markdown",
   "metadata": {
    "slideshow": {
     "slide_type": "slide"
    }
   },
   "source": [
    "Now let's look at `scan`. We developed a contraction-based algorithm for this problem, but let's look at a divide-and-conquer strategy.\n",
    "\n",
    "Remember that we looked at taking prefix sums for intuition. Let's reuse that example:\n",
    "\n",
    "$\\texttt{prefix_sum}([2,1,3,2,2,5,4,1]) \\rightarrow ([0, 2, 3, 6, 8, 10, 15, 19], 20)$\n",
    "\n",
    "Now, instead of contracting pairs of entries what if we just split the list and recursively compute prefix sums?\n",
    "\n",
    "We'd get results $(b, b')$ and $(c, c')$ where:\n",
    "\n",
    "$(b, b') = (\\langle 0, 2, 3, 6\\rangle, 8)$\n",
    "$(c, c') = (\\langle 0, 2, 7, 11\\rangle, 12)$\n",
    " \n",
    "Now, it's easy to see that $b$ already gives us half the solution - how do we get the result by combining solutions?\n"
   ]
  },
  {
   "cell_type": "markdown",
   "metadata": {
    "slideshow": {
     "slide_type": "fragment"
    }
   },
   "source": [
    "To compute prefix sums, all we have to do is to add the sum of the first half to all of the elements of $b$ and to $b'$. We can generalize this approach to get:\n",
    "\n",
    "<p><span class=\"math display\">\\[\\begin{array}{l}  \n",
    "\\mathit{scanDC}~f~\\mathit{id}~a =  \n",
    "\\\\  \n",
    "~~~~\\texttt{if}~|a| = 0~\\texttt{then}  \n",
    "\\\\  \n",
    "~~~~~~~~(\\left\\langle\\,  \\,\\right\\rangle, \\mathit{id})  \n",
    "\\\\  \n",
    "~~~~\\texttt{else if}~|a| = 1~\\texttt{then}  \n",
    "\\\\   \n",
    "~~~~~~~~(\\left\\langle\\, \\mathit{id} \\,\\right\\rangle,a[0])  \n",
    "\\\\  \n",
    "~~~~\\texttt{else}  \n",
    "\\\\   \n",
    "~~~~~~~~\\texttt{let}  \n",
    "\\\\   \n",
    "~~~~~~~~~~~~(b, c) = \\mathit{splitMid}~a  \n",
    "\\\\  \n",
    "~~~~~~~~~~~~((l,b'),(r,c')) = (\\mathit{scanDC}~f~\\mathit{id}~b \\mid\\mid{}~\\mathit{scanDC}~f~\\mathit{id}~c)  \n",
    "\\\\  \n",
    "~~~~~~~~~~~~r' = \\left\\langle\\, f (b',x) : x \\in r \\,\\right\\rangle  \n",
    "\\\\  \n",
    "~~~~~~~~\\texttt{in}  \n",
    "\\\\  \n",
    "~~~~~~~~~~~~(\\mathit{append}~(l,r'), f(b',c'))  \n",
    "\\\\  \n",
    "~~~~~~~~\\texttt{end}  \n",
    "\\end{array}\\]</span></p>\n",
    "\n"
   ]
  },
  {
   "cell_type": "markdown",
   "metadata": {
    "slideshow": {
     "slide_type": "slide"
    }
   },
   "source": [
    "How do we prove the correctness of this algorithm?\n",
    "\n",
    "- **Base Case**: For empty and singleton lists, we compute the correct result.\n",
    "    \n",
    "- **Induction Step**: For the induction hypothesis, we assume that we correctly compute the scan results for the two halves of the list. For the combine step, we compute $f(b', x)$ for all $x\\in r$. Why is this the correct result for the right half of the list?\n",
    "\n",
    "This is because $b' = f(l[n/2], a[n/2])$ and $l[n/2]$ is the correct scan result for the left half of the list. Consider the first element of $r'$, it is $f(b', id) = b' = f(l[n/2], a[n/2])$. This is the correct scan result for $a$ at position $n/2 + 1$. \n",
    "\n",
    "We can similarly show that each successive element in $r'$ is the correct scan result for $a$ in the right half of the solution. Finally, since $f$ is associative we can see that $f(b', c')$ is the correct \"sum\" result as well. \n"
   ]
  },
  {
   "cell_type": "markdown",
   "metadata": {
    "slideshow": {
     "slide_type": "fragment"
    }
   },
   "source": [
    "Assuming that $f(n)$ can be computed in constant time, we get the following recurrences for work and span:\n",
    "    \n",
    "$$ W(n) = 2W(n/2) + O(n)$$\n",
    "\n",
    "and \n",
    "\n",
    "$$ S(n) = S(n/2) + O(1) $$\n",
    "\n",
    "Thus the work is $O(n \\log n)$ and the span is $O(\\log n)$.\n",
    "\n",
    "Is this algorithm work-efficient? Why or why not?"
   ]
  },
  {
   "cell_type": "markdown",
   "metadata": {
    "slideshow": {
     "slide_type": "slide"
    }
   },
   "source": [
    "Do you find `scanDC` more or less intuitive than the version using contract? "
   ]
  },
  {
   "cell_type": "code",
   "execution_count": 1,
   "metadata": {
    "slideshow": {
     "slide_type": "fragment"
    }
   },
   "outputs": [
    {
     "name": "stdout",
     "output_type": "stream",
     "text": [
      "                 a= [2, 1, 3, 2, 2, 5, 4, 1]\n",
      "         a= [2, 1, 3, 2]\n",
      "     a= [2, 1]\n",
      "   a= [2]\n",
      "   a= [1]\n",
      "     a= [3, 2]\n",
      "   a= [3]\n",
      "   a= [2]\n",
      "         a= [2, 5, 4, 1]\n",
      "     a= [2, 5]\n",
      "   a= [2]\n",
      "   a= [5]\n",
      "     a= [4, 1]\n",
      "   a= [4]\n",
      "   a= [1]\n"
     ]
    },
    {
     "data": {
      "text/plain": [
       "([0, 2, 3, 6, 8, 10, 15, 19], 20)"
      ]
     },
     "execution_count": 1,
     "metadata": {},
     "output_type": "execute_result"
    }
   ],
   "source": [
    "def scanDC(f, id_, a):\n",
    "    space = len(a) * '  ' # for printing\n",
    "    print(space, 'a=', a)\n",
    "\n",
    "    if len(a) == 0:\n",
    "        return ([], id_)\n",
    "    elif len(a) == 1:\n",
    "        return ([id_], a[0])\n",
    "    else:\n",
    "        b = a[:len(a)//2]\n",
    "        c = a[len(a)//2:]\n",
    "        left, L = scanDC(f, id_, b)\n",
    "        right, R = scanDC(f, id_, c)\n",
    "        updated_right = [f(L, x) for x in right]\n",
    "        return left + updated_right, f(L, R)\n",
    "\n",
    "def add(x,y):\n",
    "    return x + y\n",
    "        \n",
    "scanDC(add, 0, [2,1,3,2,2,5,4,1])"
   ]
  },
  {
   "cell_type": "code",
   "execution_count": null,
   "metadata": {},
   "outputs": [],
   "source": []
  }
 ],
 "metadata": {
  "celltoolbar": "Slideshow",
  "kernelspec": {
   "display_name": "Python 3 (ipykernel)",
   "language": "python",
   "name": "python3"
  },
  "language_info": {
   "codemirror_mode": {
    "name": "ipython",
    "version": 3
   },
   "file_extension": ".py",
   "mimetype": "text/x-python",
   "name": "python",
   "nbconvert_exporter": "python",
   "pygments_lexer": "ipython3",
   "version": "3.9.13"
  },
  "rise": {
   "autolaunch": true,
   "controls": false,
   "enable_chalkboard": true,
   "scroll": true,
   "theme": "simple",
   "transition": "fade"
  },
  "toc": {
   "base_numbering": 1,
   "nav_menu": {},
   "number_sections": true,
   "sideBar": true,
   "skip_h1_title": true,
   "title_cell": "Table of Contents",
   "title_sidebar": "Contents",
   "toc_cell": true,
   "toc_position": {},
   "toc_section_display": true,
   "toc_window_display": false
  }
 },
 "nbformat": 4,
 "nbformat_minor": 4
}
