{
 "cells": [
  {
   "cell_type": "code",
   "execution_count": 1,
   "metadata": {
    "code_folding": [],
    "slideshow": {
     "slide_type": "skip"
    }
   },
   "outputs": [
    {
     "data": {
      "text/html": [
       "<style>.prompt{width: 0px; min-width: 0px; visibility: collapse}</style>"
      ],
      "text/plain": [
       "<IPython.core.display.HTML object>"
      ]
     },
     "metadata": {},
     "output_type": "display_data"
    },
    {
     "data": {
      "text/html": [
       "<style>\n",
       "div#notebook {\n",
       " font-family: \"Exo_2\", sans-serif;\n",
       "}\n",
       "\n",
       ".rendered_html h1,\n",
       ".text_cell_render h1 {\n",
       " color: #126dce;\n",
       " font-size: 220%;\n",
       " text-align: center;\n",
       " font-weight: lighter;\n",
       "}\n",
       ".rendered_html h2,\n",
       ".text_cell_render h2 {\n",
       " text-align: center;\n",
       " font-size: 170%;\n",
       " color: #126dce;\n",
       " font-style: normal;\n",
       " font-weight: lighter;\n",
       "}\n",
       ".rendered_html h3,\n",
       ".text_cell_render h3 {\n",
       " font-size: 150%;\n",
       " color: #126dce;\n",
       " font-weight: lighter;\n",
       " text-decoration: italic;\n",
       " font-style: normal;\n",
       "}\n",
       ".rendered_html h4,\n",
       ".text_cell_render h4 {\n",
       " font-size: 120%;\n",
       " color: #126dce;\n",
       " font-weight: underline;\n",
       " font-style: normal;\n",
       "}\n",
       ".rendered_html h5,\n",
       ".text_cell_render h5 {\n",
       " font-size: 100%;\n",
       " color: #2f2f2f;\n",
       " font-weight: lighter;\n",
       " text-decoration: underline;\n",
       "}\n",
       "</style>\n"
      ],
      "text/plain": [
       "<IPython.core.display.HTML object>"
      ]
     },
     "metadata": {},
     "output_type": "display_data"
    }
   ],
   "source": [
    "# setup\n",
    "from IPython.core.display import display,HTML\n",
    "display(HTML('<style>.prompt{width: 0px; min-width: 0px; visibility: collapse}</style>'))\n",
    "display(HTML(open('../rise.css').read()))\n",
    "\n",
    "# imports\n",
    "import numpy as np\n",
    "import matplotlib.pyplot as plt\n",
    "import seaborn as sns\n",
    "%matplotlib inline\n",
    "sns.set(style=\"whitegrid\", font_scale=1.5, rc={'figure.figsize':(12, 6)})\n"
   ]
  },
  {
   "cell_type": "markdown",
   "metadata": {
    "slideshow": {
     "slide_type": "slide"
    }
   },
   "source": [
    "# CMPS 6610\n",
    "# Algorithms\n",
    "\n",
    "## Kruskal + TSP\n"
   ]
  },
  {
   "cell_type": "markdown",
   "metadata": {
    "slideshow": {
     "slide_type": "slide"
    }
   },
   "source": [
    "Prim's algorithm does a graph search while computing the MST.\n",
    "\n",
    "Can we just greedily add edges in increasing order of weight?"
   ]
  },
  {
   "cell_type": "markdown",
   "metadata": {
    "slideshow": {
     "slide_type": "fragment"
    }
   },
   "source": [
    "**Almost**: need to avoid cycles and ensure we \"span\" the graph\n",
    "\n",
    "![figures/greedy-fail.png](figures/greedy-fail.png)\n",
    "\n",
    "\n",
    "<br>\n",
    "\n",
    "### Kruskal's Algorithm\n",
    "\n",
    "“Perform the following step as many times as possible: Among the edges of $G$ not yet chosen, choose the shortest edge which does not form any loops with those edges already chosen.” [Kruskal, 1956]\n",
    "\n",
    "**Why is this correct?**"
   ]
  },
  {
   "cell_type": "markdown",
   "metadata": {
    "slideshow": {
     "slide_type": "fragment"
    }
   },
   "source": [
    "Recall the **Light-edge property**\n",
    "\n",
    "Let $G = (V,E,w)$ be a connected undirected, weighted graph with distinct edge weights. \n",
    "\n",
    "For any cut of $G$, the minimum weight edge that crosses the cut is contained in the minimum spanning tree of $G$.\n",
    "\n",
    "<center>\n",
    "    <img src=\"figures/cut.jpg\"/>\n",
    "</center>\n",
    "\n",
    "At each step, Kruskal picks a **light edge** to connect to components of the graph $U$ and $V$ (i.e., picks an edge $e$ where $w(e) < w(e')$).\n",
    "\n",
    "<br>\n",
    "How do we know the tree spans all the nodes?\n",
    "\n",
    "<br><br>\n",
    "The only edges we've skipped are those that create a cycle, so the remaining edges must form a tree."
   ]
  },
  {
   "cell_type": "markdown",
   "metadata": {
    "slideshow": {
     "slide_type": "slide"
    }
   },
   "source": [
    "### implementing Kruskal's algorithm\n",
    "\n",
    "\"choose the shortest edge which does not form any loops with those edges already chosen\"\n",
    "\n",
    "How do we implement this?"
   ]
  },
  {
   "cell_type": "markdown",
   "metadata": {
    "slideshow": {
     "slide_type": "fragment"
    }
   },
   "source": [
    "For an edge $(u,v)$, we must check if $u$ and $v$ are in the same connected component, based on the edges added so far.\n",
    "\n",
    "How can we do this?"
   ]
  },
  {
   "cell_type": "markdown",
   "metadata": {
    "slideshow": {
     "slide_type": "fragment"
    }
   },
   "source": [
    "We can run BFS or DFS starting at $u$ or $v$, but this would be expensive: $O(|V| + |E|)$ work at each iteration.\n",
    "\n",
    "<br>\n",
    "\n",
    "If we think of each connected component as a set of nodes, we need an efficient way of:\n",
    "\n",
    "- checking which set $u$ and $v$ are in\n",
    "- determining if these two sets are equal\n",
    "- if they are not equal, then we need to take their union\n",
    "\n",
    "\n"
   ]
  },
  {
   "cell_type": "markdown",
   "metadata": {
    "slideshow": {
     "slide_type": "fragment"
    }
   },
   "source": [
    "To make checking set equality fast, we will assign a **representative** node in each set.\n",
    "\n",
    "E.g., suppose we have two sets $\\mathbf{S} = \\{S_1, S_2\\}$ where:\n",
    "\n",
    "$S_1 = \\{\\mathbf{a},b,c\\}~~~~ S_2 = \\{\\mathbf{s}, d, e\\}$\n",
    "\n",
    "We can (arbitrarily) assign the representative of $S_1$ to be $a$, and the representative of $S_2$ to be $s$.\n",
    "\n",
    "$r(S_1) = a ~~~ r(S_2) = s$\n",
    "\n",
    "<br>\n",
    "\n",
    "If $S_u$ is the set containing $u$ and $S_v$ is the set containing $v$, then we can check if $u$ and $v$ are in the same set by checking if $r(S_u) == r(S_v)$\n",
    "\n",
    "\n",
    "\n"
   ]
  },
  {
   "cell_type": "markdown",
   "metadata": {
    "slideshow": {
     "slide_type": "slide"
    }
   },
   "source": [
    "## Disjoint-set data type\n",
    "\n",
    "We have described a **disjoint-set** abstract data type (aka **union-find**). This type supports three operations:\n",
    "\n",
    "1. `make_set(u)`: create a new set containing the single element $u$\n",
    "  - $u$ will be the representative of this set\n",
    "  \n",
    "  \n",
    "2. `find_set(u)`: returns the representative of the set containing $u$:  $r(S_u)$\n",
    "\n",
    "\n",
    "3. `union(u,v)`: replace $S_u$ and $S_v$ with $S_u \\cup S_v$ in the collection of sets $\\mathbf{S}$\n",
    "\n",
    "What data structures can we use to represent each set?"
   ]
  },
  {
   "cell_type": "markdown",
   "metadata": {
    "slideshow": {
     "slide_type": "slide"
    }
   },
   "source": [
    "### Disjoint-set with double linked lists\n",
    "\n",
    "<center>\n",
    "    <img src=\"figures/delist.png\"/>\n",
    "</center>\n",
    "\n",
    "[source](https://ocw.mit.edu/courses/electrical-engineering-and-computer-science/6-046j-design-and-analysis-of-algorithms-spring-2012/lecture-notes/MIT6_046JS12_lec16.pdf)\n",
    "\n",
    "\n",
    "Each set is a doubly-linked list. The first node is the representative.\n",
    "\n",
    "How can we perform the three operations and what is the work?\n",
    "\n",
    "1. `make_set(u)`: create a new set containing the single element $u$\n",
    "  - $u$ will be the representative of this set\n",
    "  \n",
    "  \n",
    "2. `find_set(u)`: returns the representative of the set containing $u$:  $r(S_u)$\n",
    "\n",
    "\n",
    "3. `union(u,v)`: replace $S_u$ and $S_v$ with $S_u \\cup S_v$ in the collection of sets $\\mathbf{S}$"
   ]
  },
  {
   "cell_type": "markdown",
   "metadata": {
    "slideshow": {
     "slide_type": "fragment"
    }
   },
   "source": [
    "<br><br>\n",
    "\n",
    "1. `make_set(u)`: create a singleton list in $O(1)$ time. $u$ is the representative.\n",
    "  \n",
    "  \n",
    "2. `find_set(u)`: walk left from $u$ until the first element is found. $O(n)$\n",
    "\n",
    "\n",
    "3. `union(u,v)`: Walk to the tail of $S_u$ and connect it to the head of $S_v$. $O(n)$\n",
    "\n",
    "<br><br>\n",
    "\n",
    "That's a lot of needless walking. Can I just store the representative directly at each node?"
   ]
  },
  {
   "cell_type": "markdown",
   "metadata": {
    "slideshow": {
     "slide_type": "fragment"
    }
   },
   "source": [
    "<center>\n",
    "    <img src=\"figures/delist2.png\"/>\n",
    "</center>\n",
    "\n",
    "This would make `find_set(u)` in $O(1)$, but union is still $O(n)$. Why?"
   ]
  },
  {
   "cell_type": "markdown",
   "metadata": {
    "slideshow": {
     "slide_type": "slide"
    }
   },
   "source": [
    "## Disjoint-set with balanced forests\n",
    "\n",
    "<center>\n",
    "    <img src=\"figures/forest.png\"/>\n",
    "</center>\n",
    "\n",
    "Each set is a balanced tree, where the root is the representative.\n",
    "\n",
    "Assuming we represent a tree node with a pointer to its parent, what is the work of `find_set(u)` (to find the representative of $S_u$)?"
   ]
  },
  {
   "cell_type": "markdown",
   "metadata": {
    "slideshow": {
     "slide_type": "fragment"
    }
   },
   "source": [
    "$O(\\log n)$, assuming a balanced tree, to walk from a node to its root.\n",
    "\n",
    "How about `union(u,v)`?\n",
    "\n",
    "\n",
    "<center>\n",
    "    <img src=\"figures/merge.png\" width=50%/>\n",
    "</center>\n",
    "\n",
    "- find representative of $u ~~~~ O(\\log n)$\n",
    "- find representative of $v ~~~~ O(\\log n)$\n",
    "- link root of one tree to the root of another\n",
    "\n",
    "<br>\n",
    "\n",
    "But, how do we ensure tree stays balanced to keep $O(\\log n)$ work for `find_set(u)`?\n"
   ]
  },
  {
   "cell_type": "markdown",
   "metadata": {
    "slideshow": {
     "slide_type": "fragment"
    }
   },
   "source": [
    "Recall [Leftist Heaps](https://nbviewer.jupyter.org/github/tulane-cmps2200/slides/blob/master/module-06-greedy/greedy-02.ipynb?flush_cache=True) from Greedy module!\n",
    "\n",
    "<center>\n",
    "    <img src=\"figures/meld_schematic.jpg\" width=\"70%\">\n",
    "</center>\n",
    "\n",
    "similar idea here:\n",
    "\n",
    "<center>\n",
    "    <img src=\"figures/rank.png\" width=\"70%\">\n",
    "</center>\n",
    "\n",
    "Add \"shorter\" tree to the \"taller\" tree.\n",
    "- store the \"rank\" of each tree as its depth\n",
    "\n",
    "<br>\n",
    "\n",
    "Thus, if $height(S_v) < height(S_u)$, then the height the union of $S_u \\cup S_v$ is \n",
    "\n",
    "$\\max \\{ height(S_u), height(S_v)+1\\}$\n",
    "\n",
    "<br>\n",
    "Using similar arguments as in leftist heaps, we can ensure that height of any tree is $O(\\log n)$"
   ]
  },
  {
   "cell_type": "markdown",
   "metadata": {
    "slideshow": {
     "slide_type": "slide"
    }
   },
   "source": [
    "### Kruskal's Algorithm\n",
    "\n",
    "0. Initialize tree $T \\leftarrow \\emptyset$  \n",
    "\n",
    "<br>\n",
    "\n",
    "\n",
    "1. For each $v \\in V$, run `make_set(v)`\n",
    "\n",
    "<br>\n",
    "\n",
    "2. Sort edges in increasing order of weight\n",
    "\n",
    "<br>\n",
    "\n",
    "3. For each edge $e=(u,v)$ in sorted set:\n",
    "  - if `find_set(u)` $\\ne$ `find_set(v)`:\n",
    "    - $T \\leftarrow T \\cup \\{(u,v)\\}$\n",
    "    - `union(u,v)`\n"
   ]
  },
  {
   "cell_type": "markdown",
   "metadata": {
    "slideshow": {
     "slide_type": "slide"
    }
   },
   "source": [
    "### Kruskal's Algorithm - work\n",
    "\n",
    "0. Initialize tree $T \\leftarrow \\emptyset~~~~~~~~~~~~~~~~~~~~~~~~~~~~~~~O(1)$\n",
    "\n",
    "\n",
    "1. For each $v \\in V$, run `make_set(v)` $~~~~~O(|V|)$\n",
    "\n",
    "\n",
    "2. Sort edges in increasing order of weight $~~O(|E|\\lg |E|)$\n",
    "\n",
    "\n",
    "3. For each edge $e=(u,v)$ in sorted set: $~~O(|E|\\lg |V|)$\n",
    "  - if `find_set(u)` $\\ne$ `find_set(v)`: $~~O(\\lg |V|)$\n",
    "    - $T \\leftarrow T \\cup \\{(u,v)\\}$\n",
    "    - `union(u,v)`\n",
    "    \n",
    "    \n",
    "Thus, total work is $O(|E|\\lg |E|)$\n",
    "\n",
    "Since we have $E \\in O(|V|^2)$, this is equivalent to:\n",
    "\n",
    "$O(|E|\\lg |V|^2) \\equiv O(2|E| \\log |V|) \\equiv O(|E| \\log |V|)$\n"
   ]
  },
  {
   "cell_type": "markdown",
   "metadata": {
    "slideshow": {
     "slide_type": "slide"
    }
   },
   "source": [
    "## Traveling Salesperson Problem\n",
    "\n",
    "Consider a slight variant of the MST problem:\n",
    "\n",
    "Given a graph $G=(V,E)$, find a tour that visits each node exactly once and then returns to the origin node.\n",
    " - every node is visited\n",
    " - no edges are repeated\n",
    "\n",
    "<center>\n",
    "<img src=\"https://upload.wikimedia.org/wikipedia/commons/thumb/1/11/GLPK_solution_of_a_travelling_salesman_problem.svg/480px-GLPK_solution_of_a_travelling_salesman_problem.svg.png\"/>\n",
    "</center>\n",
    "\n",
    "Often, we assume the graph is *complete* (fully connected) and edge weights are distance between each city.\n",
    "\n",
    "<br>\n",
    "\n",
    "How does this differ from the MST problem?"
   ]
  },
  {
   "cell_type": "markdown",
   "metadata": {
    "slideshow": {
     "slide_type": "fragment"
    }
   },
   "source": [
    "- TSP solution has one more edge than MST solution (graph instead of a tree)\n",
    "\n",
    "\n",
    "- Therefore, weight(MST solution) < weight(TSP solution)\n",
    "\n",
    "\n",
    "Thus, MST solution provides a lower bound on the TSP solution.\n",
    "\n",
    "Can we also use MST to find an upper bound?"
   ]
  },
  {
   "cell_type": "markdown",
   "metadata": {
    "slideshow": {
     "slide_type": "slide"
    }
   },
   "source": [
    "### Euclidean TSP\n",
    "\n",
    "Variant of TSP where triangle inequality holds:\n",
    "\n",
    "$w(u,v) + w(v,w) \\ge w(u,w)$\n",
    "\n",
    "where all weights are non-negative."
   ]
  },
  {
   "cell_type": "markdown",
   "metadata": {
    "slideshow": {
     "slide_type": "fragment"
    }
   },
   "source": [
    "Consider a MST solution for the graph:\n",
    "\n",
    "<center>\n",
    "    <img src=\"figures/tsp1.jpg\"/>\n",
    "</center>\n",
    "\n",
    "<br>\n",
    "\n",
    "How could we convert this tree into a tour for TSP?\n",
    "\n",
    "<br><br>\n"
   ]
  },
  {
   "cell_type": "markdown",
   "metadata": {
    "slideshow": {
     "slide_type": "fragment"
    }
   },
   "source": [
    "We need to determine an order to visit the nodes in the MST solution.\n",
    "\n",
    "Let's try depth-first search:\n",
    "\n",
    "<center>\n",
    "    <img src=\"figures/tsp2.jpg\"/>\n",
    "</center>\n",
    "\n",
    "This is called the **Euler tour** of the tree:\n",
    "\n",
    " - a cycle in a graph that visits every edge exactly once.\n",
    " - Since $T$ spans the graph, the Euler tour will visit every vertex at least once, but possibly multiple times.\n",
    "\n",
    "<br>\n",
    "\n",
    "This is close to a TSP solution, but: \n",
    "\n",
    "- it visits each edge twice\n",
    "\n",
    "- $(d,f)$ should have an edge\n",
    "\n",
    "- The weight of the Euler tour is equal to twice the MST weight (since we visit each edge twice).\n",
    "\n",
    "\n",
    "How can we convert this to a proper solution to TSP?"
   ]
  },
  {
   "cell_type": "markdown",
   "metadata": {
    "slideshow": {
     "slide_type": "fragment"
    }
   },
   "source": [
    "**idea**: \n",
    "\n",
    "Compute DFS order, but when we find a repeated edge, instead find the next unvisited vertex.\n",
    "\n",
    "<center>\n",
    "    <img src=\"figures/tsp3.jpg\"/>\n",
    "</center>\n",
    "\n",
    "The red edges above are called *shortcut edges*.\n",
    "\n",
    "Because of triangle inequality, we know that the shortcut edges are no longer than the paths they replace\n",
    "\n",
    "$w(f,c) \\le w(\\langle f,e,b,a,c \\rangle)$\n",
    "  \n",
    "<br>\n",
    "  \n",
    "Since we know:\n",
    "\n",
    "\n",
    "  - $weight(MST) < weight(TSP)$ , and\n",
    "  \n",
    "  - $weight(Euler) = 2 \\cdot weight(MST)$\n",
    "  \n",
    "then we know\n",
    "\n",
    " - $weight(MST) \\le weight(TSP) \\le 2 \\cdot weight(MST)$\n",
    " \n",
    " \n",
    "###  Thus, we now have a polynomial-time algortithm to solve TSP that is no worse than 2 times the optimal solution!\n",
    " \n",
    " \n",
    "<br>\n",
    "\n",
    "How does this type of approximation algorithm differ from the type we saw in assignment-04?\n",
    "\n",
    "> $\\mathcal{A}(\\mathcal{I})$ has a probability of $\\epsilon$ of being\n",
    "correct and a failure probability of $1-\\epsilon$.\n",
    "\n",
    "<br>\n",
    "\n",
    "For such NP-hard problems (discussed more next week), approximations are often the best we can do.\n",
    " "
   ]
  }
 ],
 "metadata": {
  "celltoolbar": "Slideshow",
  "kernelspec": {
   "display_name": "Python 3 (ipykernel)",
   "language": "python",
   "name": "python3"
  },
  "language_info": {
   "codemirror_mode": {
    "name": "ipython",
    "version": 3
   },
   "file_extension": ".py",
   "mimetype": "text/x-python",
   "name": "python",
   "nbconvert_exporter": "python",
   "pygments_lexer": "ipython3",
   "version": "3.9.13"
  },
  "rise": {
   "autolaunch": true,
   "controls": false,
   "enable_chalkboard": true,
   "scroll": true,
   "theme": "simple",
   "transition": "fade"
  },
  "toc": {
   "base_numbering": 1,
   "nav_menu": {},
   "number_sections": true,
   "sideBar": true,
   "skip_h1_title": true,
   "title_cell": "Table of Contents",
   "title_sidebar": "Contents",
   "toc_cell": true,
   "toc_position": {},
   "toc_section_display": true,
   "toc_window_display": false
  }
 },
 "nbformat": 4,
 "nbformat_minor": 4
}
