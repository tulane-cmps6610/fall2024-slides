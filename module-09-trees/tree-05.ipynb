{
 "cells": [
  {
   "cell_type": "code",
   "execution_count": 1,
   "metadata": {
    "code_folding": [],
    "slideshow": {
     "slide_type": "skip"
    }
   },
   "outputs": [
    {
     "data": {
      "text/html": [
       "<style>.prompt{width: 0px; min-width: 0px; visibility: collapse}</style>"
      ],
      "text/plain": [
       "<IPython.core.display.HTML object>"
      ]
     },
     "metadata": {},
     "output_type": "display_data"
    },
    {
     "data": {
      "text/html": [
       "<style>\n",
       "div#notebook {\n",
       " font-family: \"Exo_2\", sans-serif;\n",
       "}\n",
       "\n",
       ".rendered_html h1,\n",
       ".text_cell_render h1 {\n",
       " color: #126dce;\n",
       " font-size: 220%;\n",
       " text-align: center;\n",
       " font-weight: lighter;\n",
       "}\n",
       ".rendered_html h2,\n",
       ".text_cell_render h2 {\n",
       " text-align: center;\n",
       " font-size: 170%;\n",
       " color: #126dce;\n",
       " font-style: normal;\n",
       " font-weight: lighter;\n",
       "}\n",
       ".rendered_html h3,\n",
       ".text_cell_render h3 {\n",
       " font-size: 150%;\n",
       " color: #126dce;\n",
       " font-weight: lighter;\n",
       " text-decoration: italic;\n",
       " font-style: normal;\n",
       "}\n",
       ".rendered_html h4,\n",
       ".text_cell_render h4 {\n",
       " font-size: 120%;\n",
       " color: #126dce;\n",
       " font-weight: underline;\n",
       " font-style: normal;\n",
       "}\n",
       ".rendered_html h5,\n",
       ".text_cell_render h5 {\n",
       " font-size: 100%;\n",
       " color: #2f2f2f;\n",
       " font-weight: lighter;\n",
       " text-decoration: underline;\n",
       "}\n",
       "</style>\n"
      ],
      "text/plain": [
       "<IPython.core.display.HTML object>"
      ]
     },
     "metadata": {},
     "output_type": "display_data"
    }
   ],
   "source": [
    "# setup\n",
    "from IPython.core.display import display,HTML\n",
    "display(HTML('<style>.prompt{width: 0px; min-width: 0px; visibility: collapse}</style>'))\n",
    "display(HTML(open('../rise.css').read()))\n",
    "\n",
    "# imports\n",
    "import numpy as np\n",
    "import matplotlib.pyplot as plt\n",
    "import seaborn as sns\n",
    "%matplotlib inline\n",
    "sns.set(style=\"whitegrid\", font_scale=1.5, rc={'figure.figsize':(12, 6)})\n"
   ]
  },
  {
   "cell_type": "markdown",
   "metadata": {
    "slideshow": {
     "slide_type": "slide"
    }
   },
   "source": [
    "# CMPS 6610\n",
    "# Algorithms\n",
    "\n",
    "## Borůvka's Algorithm\n"
   ]
  },
  {
   "cell_type": "markdown",
   "metadata": {
    "slideshow": {
     "slide_type": "slide"
    }
   },
   "source": [
    "## Towards parallel MST\n",
    "\n",
    "- We know that each light edge must be in the MST.\n",
    "\n",
    "- Prim and Kruskal pick light edges one at a time.\n",
    "\n",
    "- Can we pick more than one at a time?\n",
    "\n"
   ]
  },
  {
   "cell_type": "markdown",
   "metadata": {
    "slideshow": {
     "slide_type": "fragment"
    }
   },
   "source": [
    "Consider a trivial cut: one vertex in one partition, everything else in the other.\n",
    "\n",
    "We know that lowest weight edge from a vertex must be in MST. Call these the **vertex-bridges** of the graph.\n",
    "\n",
    "<center>\n",
    "<img src=\"figures/bridges.jpg\" width=50%/>\n",
    "</center>\n",
    "\n",
    "Are we done? "
   ]
  },
  {
   "cell_type": "markdown",
   "metadata": {
    "slideshow": {
     "slide_type": "fragment"
    }
   },
   "source": [
    "We haven't necessarily selected $n-1$ edges, which we need to have a MST.\n",
    "\n",
    "The problem is some edges are selected by multiple vertices -- e.g., $a$ and $b$ both pick edge $(a,b)$.\n",
    "\n",
    "So, we need to repeat this somehow, efficiently.\n",
    "\n",
    "If we could collapse together the vertices connected by the selected edges, then we could solve a smaller version of this problem.\n",
    "\n",
    "This is exactly what contraction is for!\n",
    "\n",
    "<center>\n",
    "    <img src=\"figures/borukva1.jpg\" width=40%/>\n",
    "    <img src=\"figures/borukva2.jpg\" width=10%/>    \n",
    "</center>\n",
    "\n",
    "<br><br>\n",
    "\n",
    "Due to light edge property, we know we should select $(e,f)$ which has minimum weight of $4$.\n",
    "\n",
    "<br>\n",
    "\n",
    "Notice that by collapsing vertices, we ignore internal edges -- e.g., if there were an edge from $c$ to $f$, we would ignore it when collapsing $c,d,f$. Why is this okay? "
   ]
  },
  {
   "cell_type": "markdown",
   "metadata": {
    "slideshow": {
     "slide_type": "slide"
    }
   },
   "source": [
    "## Borůvka's Algorithm\n",
    "\n",
    "While there are edges remaining:\n",
    "\n",
    "- select the minimum weight edge out of each vertex and contract each part defined by these edges into a vertex;\n",
    "\n",
    "- remove self edges, and when there are redundant edges keep the minimum weight edge; and\n",
    "\n",
    "- add all selected edges to the MST.\n",
    "\n",
    "<br>\n",
    "\n",
    "We need to:\n",
    "- figure out the number of iterations\n",
    "- figure out how to do the contraction"
   ]
  },
  {
   "cell_type": "markdown",
   "metadata": {
    "slideshow": {
     "slide_type": "slide"
    }
   },
   "source": [
    "How many vertices will we contract at each iteration? Consider the example again:\n",
    "\n",
    "<center>\n",
    "    <img src=\"figures/borukva1.jpg\" width=40%/>\n",
    "</center>\n",
    "\n",
    "If a partition has $k$ edges, how many vertices will be removed?"
   ]
  },
  {
   "cell_type": "markdown",
   "metadata": {
    "slideshow": {
     "slide_type": "fragment"
    }
   },
   "source": [
    "$k$\n",
    "\n",
    "So, if the graph has $n$ vertices, and we pick one edge per vertex, what is the best and worst case on the number of vertices we can remove at each round?"
   ]
  },
  {
   "cell_type": "markdown",
   "metadata": {
    "slideshow": {
     "slide_type": "fragment"
    }
   },
   "source": [
    "**Best-case**: contract away $n-1$ vertices. We found the MST in one iteration!\n",
    "\n",
    "\n",
    "<center>\n",
    "    <img src=\"figures/borukva3.jpg\" width=40%/>\n",
    "</center>\n",
    "\n",
    "**Worst-case**: contract away $\\frac{n}{2}$ vertices. Each edge removes a single vertex.\n",
    "<center>\n",
    "    <img src=\"figures/borukva4.png\" width=40%/>\n",
    "</center>\n",
    "\n",
    "<br>\n",
    "\n",
    "So, we're guaranteed to remove $n/2$ vertices at each iteration.\n",
    "\n",
    "Total number of contraction iterations is $O(\\lg n)$"
   ]
  },
  {
   "cell_type": "markdown",
   "metadata": {
    "slideshow": {
     "slide_type": "slide"
    }
   },
   "source": [
    "## Contracting in Borůvka's Algorithm\n",
    "\n",
    "How can we contract these partitions?\n",
    "\n",
    "<center>\n",
    "    <img src=\"figures/borukva1.jpg\" width=40%/>\n",
    "</center>\n",
    "\n",
    "In the above example, each partition happens to be a star graph, but it won't always be so:\n",
    "\n",
    "<center>\n",
    "    <img src=\"figures/borukva3.jpg\" width=40%/>\n",
    "</center>\n",
    "\n",
    "\n",
    "<br>\n",
    "\n",
    "Instead, we can apply star partitioning directly to the subgraph created by the vertex-bridges.\n"
   ]
  },
  {
   "cell_type": "markdown",
   "metadata": {
    "slideshow": {
     "slide_type": "slide"
    }
   },
   "source": [
    "## Star partitioning in Borůvka\n",
    "\n",
    "The only difference is that we only contract edges that are vertex bridges:\n",
    "\n",
    "<center>\n",
    "    <img src=\"figures/borukva5.jpg\" width=40%/>\n",
    "</center>\n",
    "\n",
    "<center>\n",
    "    <img src=\"figures/borukva6.png\" width=20%/>\n",
    "</center>\n",
    "\n",
    "<br>\n",
    "\n",
    "E.g., we don't contract $(b,d)$ because it is not a vertex bridge.\n",
    "\n",
    "<br>\n",
    "\n",
    "<p><span class=\"math display\">\\[\\begin{array}{ll}  \n",
    "1  ~~ \\mathit{bridgeStarPartition}~(G=(V,E), i) =  \n",
    "\\\\  \n",
    "2 ~~  ~~~~\\texttt{let}  \n",
    "\\\\  \n",
    "3  ~~ ~~~~~~~~\\mathit{Eb} = \\mathit{vertexBridges}~(G)  \n",
    "\\\\  \n",
    "4  ~~  ~~~~~~~~\\mathit{P} = \\left\\{ u \\mapsto (v,w) \\in \\mathit{Eb} \\;|\\; (  \\mathit{flips}~(u) = T) \\land (\\mathit{flips}~(v) = H) \\right\\}  \n",
    "\\\\  \n",
    "5  ~~  ~~~~~~~~V' = V \\setminus \\mathit{domain}(P)  \n",
    "\\\\  \n",
    "6   ~~ ~~~~\\texttt{in}  \n",
    "\\\\   \n",
    "7   ~~  ~~~~~~~~(V',P)  \n",
    "\\\\   \n",
    "8   ~~  ~~~~\\texttt{end}  \n",
    "\\end{array}\\]</span></p>\n",
    "\n",
    "\n",
    "<br><br>\n",
    "\n",
    "As in the original star contraction lecture, the expected number of vertices removed at each step is $\\frac{n}{4}$. This is is not as good as $\\frac{n}{2}$, but still good enough to ensure a logarithmic number of contraction iterations.\n",
    "\n",
    "\n",
    "\n",
    "\n"
   ]
  },
  {
   "cell_type": "markdown",
   "metadata": {
    "slideshow": {
     "slide_type": "slide"
    }
   },
   "source": [
    "## Implementing Borůvka's Algorithm\n",
    "\n",
    "While there are edges remaining:\n",
    "\n",
    "- select the minimum weight edge out of each vertex and contract each part defined by these edges into a vertex;\n",
    "  - Can implement with a min `reduce` at each vertex: span $\\Rightarrow O(\\lg |V|)$.\n",
    "  \n",
    "  \n",
    "- remove self edges, and when there are redundant edges keep the minimum weight edge;\n",
    "  - One run of star contraction: span $\\Rightarrow O(\\lg |V|)$.\n",
    "\n",
    "\n",
    "- add all selected edges to the MST.\n",
    "  - `filter`: span $\\Rightarrow O(\\lg |E|) \\in O(\\lg |V|)$\n",
    "\n",
    "\n",
    "<br>\n",
    "\n",
    "$S(|V|) = S(\\frac{3|V|}{4}) + \\lg |V| \\in O(\\lg^2 |V|)$"
   ]
  }
 ],
 "metadata": {
  "celltoolbar": "Slideshow",
  "kernelspec": {
   "display_name": "Python 3 (ipykernel)",
   "language": "python",
   "name": "python3"
  },
  "language_info": {
   "codemirror_mode": {
    "name": "ipython",
    "version": 3
   },
   "file_extension": ".py",
   "mimetype": "text/x-python",
   "name": "python",
   "nbconvert_exporter": "python",
   "pygments_lexer": "ipython3",
   "version": "3.9.13"
  },
  "rise": {
   "autolaunch": true,
   "controls": false,
   "enable_chalkboard": true,
   "scroll": true,
   "theme": "simple",
   "transition": "fade"
  },
  "toc": {
   "base_numbering": 1,
   "nav_menu": {},
   "number_sections": true,
   "sideBar": true,
   "skip_h1_title": true,
   "title_cell": "Table of Contents",
   "title_sidebar": "Contents",
   "toc_cell": true,
   "toc_position": {},
   "toc_section_display": true,
   "toc_window_display": false
  }
 },
 "nbformat": 4,
 "nbformat_minor": 4
}
