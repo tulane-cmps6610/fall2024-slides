{
 "cells": [
  {
   "cell_type": "code",
   "execution_count": 1,
   "metadata": {
    "code_folding": [],
    "slideshow": {
     "slide_type": "skip"
    }
   },
   "outputs": [
    {
     "data": {
      "text/html": [
       "<style>.prompt{width: 0px; min-width: 0px; visibility: collapse}</style>"
      ],
      "text/plain": [
       "<IPython.core.display.HTML object>"
      ]
     },
     "metadata": {},
     "output_type": "display_data"
    },
    {
     "data": {
      "text/html": [
       "<style>\n",
       "div#notebook {\n",
       " font-family: \"Exo_2\", sans-serif;\n",
       "}\n",
       "\n",
       ".rendered_html h1,\n",
       ".text_cell_render h1 {\n",
       " color: #126dce;\n",
       " font-size: 220%;\n",
       " text-align: center;\n",
       " font-weight: lighter;\n",
       "}\n",
       ".rendered_html h2,\n",
       ".text_cell_render h2 {\n",
       " text-align: center;\n",
       " font-size: 170%;\n",
       " color: #126dce;\n",
       " font-style: normal;\n",
       " font-weight: lighter;\n",
       "}\n",
       ".rendered_html h3,\n",
       ".text_cell_render h3 {\n",
       " font-size: 150%;\n",
       " color: #126dce;\n",
       " font-weight: lighter;\n",
       " text-decoration: italic;\n",
       " font-style: normal;\n",
       "}\n",
       ".rendered_html h4,\n",
       ".text_cell_render h4 {\n",
       " font-size: 120%;\n",
       " color: #126dce;\n",
       " font-weight: underline;\n",
       " font-style: normal;\n",
       "}\n",
       ".rendered_html h5,\n",
       ".text_cell_render h5 {\n",
       " font-size: 100%;\n",
       " color: #2f2f2f;\n",
       " font-weight: lighter;\n",
       " text-decoration: underline;\n",
       "}\n",
       "</style>\n"
      ],
      "text/plain": [
       "<IPython.core.display.HTML object>"
      ]
     },
     "metadata": {},
     "output_type": "display_data"
    }
   ],
   "source": [
    "# setup\n",
    "from IPython.core.display import display,HTML\n",
    "display(HTML('<style>.prompt{width: 0px; min-width: 0px; visibility: collapse}</style>'))\n",
    "display(HTML(open('../rise.css').read()))\n",
    "\n",
    "# imports\n",
    "import numpy as np\n",
    "import matplotlib.pyplot as plt\n",
    "import seaborn as sns\n",
    "%matplotlib inline\n",
    "sns.set(style=\"whitegrid\", font_scale=1.5, rc={'figure.figsize':(12, 6)})\n"
   ]
  },
  {
   "cell_type": "markdown",
   "metadata": {
    "slideshow": {
     "slide_type": "slide"
    }
   },
   "source": [
    "# CMPS 6610\n",
    "# Algorithms\n",
    "\n",
    "## Star Contractions\n"
   ]
  },
  {
   "cell_type": "markdown",
   "metadata": {
    "slideshow": {
     "slide_type": "slide"
    }
   },
   "source": [
    "<p>A&#160; <strong><em>star graph</em></strong> $G = (V,E)$ is an undirected graph with</p>\n",
    "<ul>\n",
    "<li><p>a &#160; <strong><em>center</em></strong> vertex $v \\in V$, and</p></li>\n",
    "<li><p>a set of edges $E$ that attach $v$ directly to the rest of the vertices, called <strong><em>satellites</em></strong> , i.e., $E = \\left\\{ \\left\\{ v,u \\right\\} : u  \n",
    "    \\in V \\setminus \\left\\{ v \\right\\} \\right\\}$.</p></li>\n",
    "</ul>\n",
    "\n",
    "<center>\n",
    "    <img src=\"figures/star.png\" width=30%/>\n",
    "</center>\n",
    "\n",
    "How many edges can we contract per iteration using edge contraction?"
   ]
  },
  {
   "cell_type": "markdown",
   "metadata": {
    "slideshow": {
     "slide_type": "fragment"
    }
   },
   "source": [
    "at most 1 per round, so $n$ iterations\n",
    "- we need $O(\\log n)$ iterations to reduce span \n",
    "\n",
    "\n",
    "Edge contraction generally doesn't work well for graphs with many high degree vertices.\n",
    "\n",
    "We instead need a way to identify and contract star patterns all at once.\n",
    "\n",
    "\n",
    "    "
   ]
  },
  {
   "cell_type": "markdown",
   "metadata": {
    "slideshow": {
     "slide_type": "slide"
    }
   },
   "source": [
    "## Star Partition\n",
    "\n",
    "A **star partition** of a graph $G$ is a partition of $G$ where each block is vertex-induced subgraph with respect to a **star graph**.\n",
    "\n",
    "<img src=\"figures/star1.jpg\"/>\n",
    "\n",
    "How can we identify such stars?"
   ]
  },
  {
   "cell_type": "markdown",
   "metadata": {
    "slideshow": {
     "slide_type": "fragment"
    }
   },
   "source": [
    "To construct a star partition:\n",
    "\n",
    "1. Select an arbitrary vertex $v$ from the graph and make $v$ the center of a star.\n",
    "2. Attach as satellites all the neighbors of $v$ in the graph.\n",
    "3. Remove $v$ and its satellites from the graph.\n",
    "\n",
    "<br>\n",
    "\n",
    "But, this is sequential. Let's do it in parallel now.\n",
    "\n",
    "We'll use randomness similar to how we did with edge partitioning."
   ]
  },
  {
   "cell_type": "markdown",
   "metadata": {
    "slideshow": {
     "slide_type": "slide"
    }
   },
   "source": [
    "### parallel star partitioning\n",
    "\n",
    "\n",
    "\n",
    "- Flip a coin for each vertex.\n",
    "- If a vertex flips heads, then it becomes the center of a star.\n",
    "- If a vertex flips tails, then there are two cases.\n",
    "  - If the vertex has a neighbor that flips heads,  the vertex selects the neighbor and becomes a satellite.\n",
    "  - The vertex doesn’t have a neighbor that flips heads. In this case, the vertex becomes a center.\n",
    "\n",
    "\n",
    "<img src=\"figures/star_parallel.jpg\" width=150%/>\n",
    "\n",
    "Three blocks:\n",
    "\n",
    "- the star with center $a$ (with no satellites)\n",
    "- the star with center $b$ (with two satellites)\n",
    "- the singleton star $d$ "
   ]
  },
  {
   "cell_type": "markdown",
   "metadata": {
    "slideshow": {
     "slide_type": "fragment"
    }
   },
   "source": [
    "<p><span class=\"math display\">\\[\\begin{array}{ll}  \n",
    "1 ~~ \\mathit{starPartition}~G=(V,E) =  \n",
    "\\\\  \n",
    "2 ~~ ~~~~\\texttt{let}  \n",
    "\\\\  \n",
    "3 ~~ ~~~~~~~~\\texttt{(* Find the arcs from satellites to centers. *)}  \n",
    "\\\\  \n",
    "4 ~~ ~~~~~~~~\\mathit{TH} = \\left\\{ (u,v) \\in E \\;|\\; \\neg (\\texttt{heads}~u) \\land (\\texttt{heads}~v) \\right\\}   \n",
    "\\\\  \n",
    "5 ~~ ~~~~~~~~\\texttt{(* Partition map: satellites map to centers *)}  \n",
    "\\\\  \n",
    "6 ~~ ~~~~~~~~P_s = \\bigcup_{(u,v) \\in \\mathit{TH}} \\left\\{ u \\mapsto v \\right\\}  \n",
    "\\\\  \n",
    "7 ~~ ~~~~~~~~\\texttt{(* Centers are non-satellite vertices *)}  \n",
    "\\\\  \n",
    "8 ~~ ~~~~~~~~V_c = V \\setminus \\mathit{domain}(P_s)  \n",
    "\\\\  \n",
    "9 ~~ ~~~~~~~~\\texttt{(* Map centers to themselves *)}  \n",
    "\\\\  \n",
    "10 ~~ ~~~~~~~~~P_c = \\left\\{ u \\mapsto u : u \\in V_c \\right\\}   \n",
    "\\\\  \n",
    "11 ~~ ~~~~\\texttt{in}  \n",
    "\\\\  \n",
    "12 ~~ ~~~~~~~~(V_c, P_s \\cup P_c)  \n",
    "\\\\  \n",
    "13 ~~ ~~~~\\texttt{end}  \n",
    "\\end{array}\\]</span></p>\n",
    "\n",
    "\n",
    "- Flip a coin for each vertex and selecting the edges that point from tails to heads\n",
    "   - this gives the set of edges TH. \n",
    "- In this set of edges, there can be multiple edges from the same non-center. \n",
    "\n",
    "- Since we want to choose one center for each satellite, we remove duplicates in Line 6, by creating a set of singleton tables and merging them, which selects one center per satellite. \n",
    "\n",
    "- Next, the algorithm determines the set of centers as all the non-satellite vertices. \n",
    "\n",
    "- To complete the process, the algorithm maps each center to itself (Line 10). These operations effectively promote unmatched non-centers to centers, forming singleton stars, and matches all centers with themselves. \n",
    "\n",
    "- Finally, the algorithm constructs the partition map by uniting the mapping for the satellites and the centers.\n"
   ]
  },
  {
   "cell_type": "markdown",
   "metadata": {
    "slideshow": {
     "slide_type": "fragment"
    }
   },
   "source": [
    "revisiting our example:\n",
    "\n",
    "<img src=\"figures/star_parallel.jpg\" width=150%/>\n",
    "\n",
    "<br>\n",
    "\n",
    "<p>The star-partition algorithm proceeds on this example as follows. First, it computes $\\mathit{TH} =  \n",
    "\\left\\{ (\\texttt{c},\\texttt{a}),(\\texttt{c},\\texttt{b}),(\\texttt{e},\\texttt{b}) \\right\\},$ as the edges from satellites to centers.</p>\n",
    "\n",
    "<p>Now, it converts each edge into a singleton table, and merges all the tables into one table, which is going to become a part of the partition map: $P_s = \\left\\{ \\texttt{c} \\mapsto \\texttt{b},\\texttt{e} \\mapsto \\texttt{b} \\right\\}.$ Note that the edge $(\\texttt{c},\\texttt{a})$ has been removed since when uniting the tables, we select only one element for each key in the domain. </p>\n",
    "\n",
    "<p>Now for all remaining vertices $V_c = V \\setminus \\mathit{domain}(P) = \\left\\{ \\texttt{a},\\texttt{b},\\texttt{d} \\right\\}$ we map them to themselves, giving: $P_c = \\left\\{ \\texttt{a} \\mapsto \\texttt{a}, \\texttt{b} \\mapsto \\texttt{b},  \n",
    "  \\texttt{d} \\mapsto \\texttt{d} \\right\\}.$ The vertices in $P_c$ are the centers. </p>\n",
    "  \n",
    "<p>Finally we merge $P_s$ and $P_c$ to obtain the partition map $P_s \\cup P_c = \\left\\{ \\texttt{a} \\mapsto \\texttt{a}, \\texttt{b} \\mapsto \\texttt{b}, \\texttt{c} \\mapsto \\texttt{b}, \\texttt{d} \\mapsto  \n",
    "    \\texttt{d}, \\texttt{e} \\mapsto \\texttt{b} \\right\\}.$</p> \n",
    "    \n",
    "    \n",
    "<br><br>\n",
    "\n",
    "\n",
    "$\n",
    "\\mathit{starPartition}~(G = (V, E)) =\\\\\n",
    "~~~~\\texttt{let}\\\\\n",
    "~~~~~~~~~V' = \\left\\langle\\, j : 0 \\le j < |V| \\,\\right\\rangle  \\\\\n",
    "~~~~~~~~~\\mathit{TH} = \\left\\langle\\,  (u,v) \\in E ~\\mid~\\neg (\\texttt{heads}~u) \\land (\\texttt{heads}~v)  \\,\\right\\rangle  \\\\\n",
    "~~~~~~~~~P = \\mathit{Seq.inject}~V'~\\mathit{TH}  \\\\\n",
    "~~~~~~~~~V_C = \\left\\langle\\, j \\in P ~\\mid~P[j] = j \\,\\right\\rangle  \\\\\n",
    "~~~~\\texttt{in}~(V_C, P)~\\texttt{end}  \\\\\n",
    "$\n",
    "\n",
    "\n",
    "<br><br>\n",
    "\n",
    "Star-partitioning has $O(|V| + |E|)$ work and $O(\\lg |V|)$ span. Why?\n",
    "\n",
    "<br><br>\n",
    "\n",
    "- $V'$ maps each vertex to itself\n",
    "- to compute $TH$, `filter` over edges $\\Rightarrow O(\\lg |E|) \\in O(\\lg |V|)$\n",
    "- to compute $P$,  use a nondeterministic inject to set each satellite $u$ to its center $v$, while eliminating duplicates. $\\Rightarrow O(1)$"
   ]
  },
  {
   "cell_type": "markdown",
   "metadata": {
    "slideshow": {
     "slide_type": "slide"
    }
   },
   "source": [
    "$P_s$ determines the number of vertices removed at each iteration.\n",
    "\n",
    "Since we want to ensure we are geoemtrically decreasing, we need to know how big $P_s$ will be in expectation.\n",
    "\n",
    "\n",
    "Consider a vertex $v$ with neighbor $u$. For $v$ to be removed we must:\n",
    "  - flip a tails for $v$\n",
    "  - flip a heads for $u$\n",
    "  \n",
    "So, $\\frac{1}{2} \\cdot \\frac{1}{2} = \\frac{1}{4}$ is the probability a vertex is removed.\n",
    "\n",
    "$\\Rightarrow |V| \\cdot \\frac{1}{4}$ vertices removed at each iteration, in expectation.\n",
    "\n",
    "\n",
    "This ensures that we will have $O(\\log |V|)$ iterations when using start partitioning to do contraction."
   ]
  },
  {
   "cell_type": "code",
   "execution_count": null,
   "metadata": {
    "slideshow": {
     "slide_type": "fragment"
    }
   },
   "outputs": [],
   "source": [
    "# We can now use star partitioning inside our contract_graph function.\n",
    "\n",
    "def contract_graph(vertices, edges, partition_graph_f):\n",
    "    if len(edges) == 0:\n",
    "        return vertices, edges\n",
    "    else:\n",
    "        # partition the graph\n",
    "        # vertex_map is a dict from vertex->super_vertex\n",
    "        # e.g., {'a': 'a', 'b': 'a', 'c': 'a'...} in above example\n",
    "        new_vertices, vertex_map = partition_graph_f(vertices, edges)\n",
    "        # keep only cut eges\n",
    "        new_edges = set([(vertex_map(e[0]), vertex_map(e[1]))\n",
    "                          for e in edges if vertex_map(e[0]) != vertex_map(e[1])])\n",
    "        return contract_graph(new_vertices, new_edges, partition_graph_f)\n",
    "\n",
    "    \n",
    "vertices = set(['a', 'b', 'c', 'd', 'e', 'f', 'g', 'h', 'i'])\n",
    "edges = set([('a', 'b'), ('a', 'c'), ('b', 'c'), ('b', 'g'), \n",
    "             ('d', 'e'), ('d', 'f'), ('e', 'f'),\n",
    "             ('h', 'i'), ('i', 'g'), ('h', 'g')])\n",
    "\n",
    "contract_graph(vertices, edges, partition_graph_f)"
   ]
  },
  {
   "cell_type": "markdown",
   "metadata": {
    "slideshow": {
     "slide_type": "fragment"
    }
   },
   "source": [
    "So, the span for star contraction:\n",
    "\n",
    "$S(|V|) = S(3|V|/4) + S(\\lg |V|) \\in O(\\lg^2 |V|)$\n",
    "\n",
    "<br><br>\n",
    "\n",
    "Next time, we'll see a MST algorithm that uses contraction to have logarithmic span."
   ]
  }
 ],
 "metadata": {
  "celltoolbar": "Slideshow",
  "kernelspec": {
   "display_name": "Python 3 (ipykernel)",
   "language": "python",
   "name": "python3"
  },
  "language_info": {
   "codemirror_mode": {
    "name": "ipython",
    "version": 3
   },
   "file_extension": ".py",
   "mimetype": "text/x-python",
   "name": "python",
   "nbconvert_exporter": "python",
   "pygments_lexer": "ipython3",
   "version": "3.9.13"
  },
  "rise": {
   "autolaunch": true,
   "controls": false,
   "enable_chalkboard": true,
   "scroll": true,
   "theme": "simple",
   "transition": "fade"
  },
  "toc": {
   "base_numbering": 1,
   "nav_menu": {},
   "number_sections": true,
   "sideBar": true,
   "skip_h1_title": true,
   "title_cell": "Table of Contents",
   "title_sidebar": "Contents",
   "toc_cell": true,
   "toc_position": {},
   "toc_section_display": true,
   "toc_window_display": false
  }
 },
 "nbformat": 4,
 "nbformat_minor": 4
}
