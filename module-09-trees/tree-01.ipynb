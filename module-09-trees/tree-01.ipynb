{
 "cells": [
  {
   "cell_type": "code",
   "execution_count": null,
   "metadata": {
    "code_folding": [],
    "slideshow": {
     "slide_type": "skip"
    }
   },
   "outputs": [],
   "source": [
    "# setup\n",
    "from IPython.core.display import display,HTML\n",
    "display(HTML('<style>.prompt{width: 0px; min-width: 0px; visibility: collapse}</style>'))\n",
    "display(HTML(open('../rise.css').read()))\n",
    "\n",
    "# imports\n",
    "import numpy as np\n",
    "import matplotlib.pyplot as plt\n",
    "import seaborn as sns\n",
    "%matplotlib inline\n",
    "sns.set(style=\"whitegrid\", font_scale=1.5, rc={'figure.figsize':(12, 6)})\n"
   ]
  },
  {
   "cell_type": "markdown",
   "metadata": {
    "slideshow": {
     "slide_type": "slide"
    }
   },
   "source": [
    "# CMPS 6610\n",
    "# Algorithms\n",
    "\n",
    "## Spanning Trees\n"
   ]
  },
  {
   "cell_type": "markdown",
   "metadata": {
    "slideshow": {
     "slide_type": "slide"
    }
   },
   "source": [
    "Recall breadth-first search. What order will it visit nodes in this graph?\n",
    "\n",
    "<center>\n",
    "<img src=\"figures/st0.png\"/>\n",
    "</center>"
   ]
  },
  {
   "cell_type": "markdown",
   "metadata": {
    "slideshow": {
     "slide_type": "fragment"
    }
   },
   "source": [
    "<center>\n",
    "<img src=\"figures/st1.png\"/>\n",
    "</center>\n",
    "\n",
    "<br><br>\n",
    "\n",
    "Because we avoid revisiting nodes, we can view the edges we visit as a tree.\n",
    "\n",
    "```python\n",
    "for n in graph[node]:\n",
    "    if n not in visited:\n",
    "        frontier.append(n)\n",
    "```\n",
    "\n",
    "<center>\n",
    "<img src=\"figures/st2.png\"/>\n",
    "</center>\n",
    "\n",
    "<br>\n",
    "\n",
    "Because this tree includes all vertices, we call this a **spanning tree**.\n",
    "\n",
    "> For a connected undirected graph $G = (V,E)$, a **spanning tree** is a tree $T = (V,E')$ with $E' \\subseteq E$\n",
    " \n",
    "<br><br>\n",
    "\n",
    "What are some algorithms we can use to find a spanning tree of a graph?"
   ]
  },
  {
   "cell_type": "markdown",
   "metadata": {
    "slideshow": {
     "slide_type": "fragment"
    }
   },
   "source": [
    "BFS and DFS can both be used. Same work, though BFS can have better span: $O(d \\lg^2 n)$, where $d$ is the **diameter** of the graph.\n",
    "\n",
    "- What is diameter of graph above?\n",
    "\n",
    "\n",
    "<br><br><br><br>\n",
    " \n",
    "Now, suppose we have a weighted graph:\n",
    "\n",
    "<center>\n",
    "<img src=\"figures/st3.png\"/>\n",
    "</center>\n",
    "\n",
    "We refer to the **weight** of a tree $T$ with edges $E(T)$ as:\n",
    "\n",
    "$$w(T) = \\sum_{e \\in E(T)} w(e)$$\n",
    "\n",
    "Is there a smaller tree in this graph?"
   ]
  },
  {
   "cell_type": "markdown",
   "metadata": {
    "slideshow": {
     "slide_type": "fragment"
    }
   },
   "source": [
    "<center>\n",
    "<img src=\"figures/st4.png\"/>\n",
    "</center>\n",
    "\n",
    "This is called the **minimum spanning tree (MST)**  of the graph.\n",
    "\n",
    "<br><br>\n",
    "\n",
    "What are some applications where we might want to find the MST?"
   ]
  },
  {
   "cell_type": "markdown",
   "metadata": {
    "slideshow": {
     "slide_type": "fragment"
    }
   },
   "source": [
    "### applications of MST\n",
    "\n",
    "- Power grid\n",
    "  - minimize cost\n",
    "  \n",
    "- Transportation networks\n",
    "  - build bridges between towns\n",
    "  - minimize building cost\n",
    "  \n",
    "- Computer networks\n",
    "  - minimize throughput\n",
    "  \n",
    "  \n",
    "<br>\n",
    "\n",
    "Otakar Borůvka first identified and solved this problem in 1926 to build an efficient electricity network in (present day) Czech Republic.\n",
    "\n",
    "\"Soon after the end of World War I, at the beginning of the 1920s, the Electric Power Company of Western Moravia, Brno, was engaged in rural electrification of Southern Moravia. In the framework of my friendly relations with some of their employees, I was asked to solve, from a mathematical standpoint, the question of the most economical construction of an electric power network. I succeeded in finding a construction -- as it would be expressed today -- of a maximal connected subgraph of minimum length, which I published in 1926 (i.e., at a time when the theory of graphs did not exist).\"\n",
    "- [On the History of the Minimum Spanning Tree Problem](https://ieeexplore.ieee.org/document/4392963)"
   ]
  },
  {
   "cell_type": "markdown",
   "metadata": {
    "slideshow": {
     "slide_type": "slide"
    }
   },
   "source": [
    "What is the brute-force approach to find the MST?"
   ]
  },
  {
   "cell_type": "markdown",
   "metadata": {
    "slideshow": {
     "slide_type": "fragment"
    }
   },
   "source": [
    "As usual, we'll have an exponential number of possible spanning trees to consider.\n",
    "\n",
    "<br><br>\n",
    "\n",
    "What about a greedy approach?"
   ]
  },
  {
   "cell_type": "markdown",
   "metadata": {
    "slideshow": {
     "slide_type": "fragment"
    }
   },
   "source": [
    "Can we just select edges in increasing order of weight?"
   ]
  },
  {
   "cell_type": "markdown",
   "metadata": {
    "slideshow": {
     "slide_type": "slide"
    }
   },
   "source": [
    "### Edge replacement lemma\n",
    "\n",
    "Let's think about how we can modify one spanning tree to get another one. Maybe we can iteratively refine a tree to reduce its weight...\n",
    "\n",
    "\n",
    "<center>\n",
    "<img src=\"figures/st3.png\"/>\n",
    "</center>\n",
    "\n",
    "Replacing $(s,b)$ with $(a,b)$ reduces the cost:\n",
    "\n",
    "<center>\n",
    "<img src=\"figures/st4.png\"/>\n",
    "</center>\n",
    "\n",
    "- Consider a spanning tree $T$ containing an edge $e=(a,b)$ on the path from $u$ to $v$. \n",
    "- Consider another edge $e'=(u,v)$ that is not in $T$.\n",
    "- What happens if we remove $e$ from $T$ and insert $e'$\n",
    "  - Will it still be a tree?\n",
    "  "
   ]
  },
  {
   "cell_type": "markdown",
   "metadata": {
    "slideshow": {
     "slide_type": "fragment"
    }
   },
   "source": [
    "Yes:\n",
    "- We can re-route the path from $u$ to $v$ to use $e'$ instead of $e$.\n",
    "- Thus, the new tree remains connected and acyclic.\n",
    "\n",
    "\n",
    "In the example above:\n",
    "- We re-route the path from $a$ to $b$ to go through $(a,b)$ instead of $(s,b)$.\n",
    "- Same number of edges and nodes.\n",
    "- Still a tree.\n",
    "\n",
    "\n",
    "We will combine this idea with shortest path algorithms to explore several algorithms to find the MST.\n",
    "\n",
    "- As in shortest path algorithms, we need a $visited$ and $frontier$ sets.\n",
    "- We need to decide which edge to add to the tree to minimize the weight."
   ]
  },
  {
   "cell_type": "markdown",
   "metadata": {
    "slideshow": {
     "slide_type": "slide"
    }
   },
   "source": [
    "### Graph cut\n",
    "\n",
    "We can view the $visited$ and $frontier$ sets as defining a **graph cut**.\n",
    "\n",
    "\n",
    "A **graph cut** of a graph $(G,V)$ is a partitioning of vertices $V_1 \\subset V$, $V_2 = V - V_1$.\n",
    "\n",
    "Each vertex set $V_i \\subset V$ defines a **vertex-induced subgraph** consisting of edges where both endpoints are in $V_i$.\n",
    "\n",
    "For example:\n",
    "\n",
    "<center>\n",
    "    <img src=\"figures/cut1.jpg\"/>\n",
    "</center>\n",
    "\n",
    "In this partition, we have:\n",
    "\n",
    "- $G_1 = (V_1, E_1)~~~~V_1=\\{a,b,c,d\\}, E_1 = \\{(a,b), (a,c), (b,d)\\}$\n",
    "- $G_2 = (V_2, E_2)~~~~V_2=\\{e,f\\}, E_2 = \\{(e,f)\\}$\n",
    "\n",
    "\n",
    "The **cut edges** are those that join the two subgraphs, e.g., $\\{(b,e), (d,f)\\}$.\n",
    "\n",
    "\n",
    "We want to know if the lightest edge between the $visited$ and $frontier$ sets will be in the MST."
   ]
  },
  {
   "cell_type": "markdown",
   "metadata": {
    "slideshow": {
     "slide_type": "slide"
    }
   },
   "source": [
    "### Light-edge property\n",
    "\n",
    "Let $G = (V,E,w)$ be a connected undirected, weighted graph with distinct edge weights. \n",
    "\n",
    "For any cut of $G$, the minimum weight edge that crosses the cut is contained in the minimum spanning tree of $G$.\n",
    "\n",
    "<center>\n",
    "    <img src=\"figures/cut.jpg\"/>\n",
    "</center>\n",
    "\n",
    "<br>\n",
    "\n",
    "**Proof by Contradiction**:\n",
    "\n",
    "- Assume that the lightest edge $e = \\{u,v\\}$ is not in the MST.\n",
    "- Then, there must be some other path connecting $u$ to $v$ that goes through some other edge $e'$.\n",
    "- By assumption, $e'$ must be heavier that $e$.\n",
    "- But, by the Edge Replacement Lemma, we know that we can swap $e'$ for $e$ and still having a spanning tree, one that will be lighter. This is a contradiction. $\\square$\n",
    "\n",
    "\n",
    "<br>\n",
    "\n",
    "### How can we use the light-edge property to find the MST using priority search?"
   ]
  },
  {
   "cell_type": "markdown",
   "metadata": {
    "slideshow": {
     "slide_type": "slide"
    }
   },
   "source": [
    "## Prim's Algorithm\n",
    "\n",
    "Perform **priority-first search** on $G$ starting from an arbitrary vertex $s$.\n",
    "\n",
    "To select the next edge to expand the frontier $X$, use priority:\n",
    "- $p(v) = \\min_{x \\in X} w(x,v)$\n",
    "- Add the chosen edge $(u,v)$ to the tree.\n"
   ]
  },
  {
   "cell_type": "markdown",
   "metadata": {
    "slideshow": {
     "slide_type": "fragment"
    }
   },
   "source": [
    "\n",
    "<center>\n",
    "    <img src=\"figures/prim.jpg\" width=40%/>\n",
    "</center>\n",
    "\n",
    "- Edge $(c, f)$ has minimum weight across the cut $(X,Y)$.\n",
    "- So, we visit $f$ by adding it to the frontier\n"
   ]
  },
  {
   "cell_type": "markdown",
   "metadata": {
    "slideshow": {
     "slide_type": "fragment"
    }
   },
   "source": [
    "This sounds very similar to Dijkstra's algorithm. What's the difference?"
   ]
  },
  {
   "cell_type": "markdown",
   "metadata": {
    "slideshow": {
     "slide_type": "fragment"
    }
   },
   "source": [
    "<center>\n",
    "<img src=\"figures/st4.png\"/>\n",
    "</center>\n"
   ]
  },
  {
   "cell_type": "code",
   "execution_count": null,
   "metadata": {
    "slideshow": {
     "slide_type": "fragment"
    }
   },
   "outputs": [],
   "source": [
    "from heapq import heappush, heappop \n",
    "\n",
    "def dijkstra(graph, source):\n",
    "    def dijkstra_helper(visited, frontier):\n",
    "        if len(frontier) == 0:\n",
    "            return visited\n",
    "        else:\n",
    "            distance, node = heappop(frontier)\n",
    "            if node in visited:\n",
    "                return dijkstra_helper(visited, frontier)\n",
    "            else:\n",
    "                print('visiting', node)\n",
    "                visited[node] = distance\n",
    "                for neighbor, weight in graph[node]:\n",
    "                    heappush(frontier, (distance + weight, neighbor))                \n",
    "                return dijkstra_helper(visited, frontier)\n",
    "        \n",
    "    frontier = []\n",
    "    heappush(frontier, (0, source))\n",
    "    visited = dict()  # store the final shortest paths for each node.\n",
    "    return dijkstra_helper(visited, frontier)\n",
    "\n",
    "graph = {\n",
    "            's': {('a', 4), ('b', 8)},\n",
    "            'a': {('s', 4), ('b', 2), ('c', 5)},\n",
    "            'b': {('s', 8), ('a', 2), ('c', 3)}, \n",
    "            'c': {('a', 5), ('b', 3), ('d', 3)},\n",
    "            'd': {('c', 3)},\n",
    "        }\n",
    "dijkstra(graph, 's')"
   ]
  },
  {
   "cell_type": "code",
   "execution_count": null,
   "metadata": {
    "slideshow": {
     "slide_type": "fragment"
    }
   },
   "outputs": [],
   "source": [
    "def prim(graph):\n",
    "    def prim_helper(visited, frontier, tree):\n",
    "        if len(frontier) == 0:\n",
    "            return tree\n",
    "        else:\n",
    "            weight, node, parent = heappop(frontier)\n",
    "            if node in visited:\n",
    "                return prim_helper(visited, frontier, tree)\n",
    "            else:\n",
    "                print('visiting', node)\n",
    "                # record this edge in the tree\n",
    "                tree.add((weight, node, parent))\n",
    "                visited.add(node)\n",
    "                for neighbor, w in graph[node]:\n",
    "                    heappush(frontier, (w, neighbor, node))    \n",
    "                    # compare with dijkstra:\n",
    "                    # heappush(frontier, (distance + weight, neighbor))                \n",
    "\n",
    "                return prim_helper(visited, frontier, tree)\n",
    "        \n",
    "    # pick first node as source arbitrarily\n",
    "    source = list(graph.keys())[0]\n",
    "    frontier = []\n",
    "    heappush(frontier, (0, source, source))\n",
    "    visited = set()  # store the visited nodes (don't need distance anymore)\n",
    "    tree = set()\n",
    "    prim_helper(visited, frontier, tree)\n",
    "    return tree\n",
    "\n",
    "prim(graph)"
   ]
  },
  {
   "cell_type": "markdown",
   "metadata": {
    "slideshow": {
     "slide_type": "slide"
    }
   },
   "source": [
    "## Work of Prim's Algorithm\n",
    "\n",
    "This does identical work to Dijkstra, so $O(|E| \\log |E|)$"
   ]
  },
  {
   "cell_type": "markdown",
   "metadata": {
    "slideshow": {
     "slide_type": "slide"
    }
   },
   "source": [
    "Can we just pick an arbitrary source node? Why or why not?"
   ]
  },
  {
   "cell_type": "markdown",
   "metadata": {
    "slideshow": {
     "slide_type": "fragment"
    }
   },
   "source": [
    "What about directed graphs? Will this work?"
   ]
  },
  {
   "cell_type": "markdown",
   "metadata": {
    "slideshow": {
     "slide_type": "fragment"
    }
   },
   "source": [
    "No - if source node is not connected to all other nodes.\n",
    "\n",
    "Even if it is, we may have a suboptimal solution:\n",
    "\n",
    "![figures/prim-fail.png](figures/prim-fail.png)"
   ]
  }
 ],
 "metadata": {
  "celltoolbar": "Slideshow",
  "kernelspec": {
   "display_name": "Python 3 (ipykernel)",
   "language": "python",
   "name": "python3"
  },
  "language_info": {
   "codemirror_mode": {
    "name": "ipython",
    "version": 3
   },
   "file_extension": ".py",
   "mimetype": "text/x-python",
   "name": "python",
   "nbconvert_exporter": "python",
   "pygments_lexer": "ipython3",
   "version": "3.9.13"
  },
  "rise": {
   "autolaunch": true,
   "controls": false,
   "enable_chalkboard": true,
   "scroll": true,
   "theme": "simple",
   "transition": "fade"
  },
  "toc": {
   "base_numbering": 1,
   "nav_menu": {},
   "number_sections": true,
   "sideBar": true,
   "skip_h1_title": true,
   "title_cell": "Table of Contents",
   "title_sidebar": "Contents",
   "toc_cell": true,
   "toc_position": {},
   "toc_section_display": true,
   "toc_window_display": false
  }
 },
 "nbformat": 4,
 "nbformat_minor": 4
}
